{
 "cells": [
  {
   "cell_type": "markdown",
   "metadata": {},
   "source": [
    "# Simple interaction models and the Judgement of Princeton"
   ]
  },
  {
   "cell_type": "code",
   "execution_count": 1,
   "metadata": {},
   "outputs": [],
   "source": [
    "import numpy as np, scipy as sp, pandas as pd, pymc3 as pm, arviz as az\n",
    "from scipy import stats\n",
    "import seaborn as sb\n",
    "import matplotlib.pyplot as plt\n",
    "from sklearn.preprocessing import OrdinalEncoder, StandardScaler"
   ]
  },
  {
   "cell_type": "code",
   "execution_count": 4,
   "metadata": {},
   "outputs": [
    {
     "data": {
      "text/html": [
       "<div>\n",
       "<style scoped>\n",
       "    .dataframe tbody tr th:only-of-type {\n",
       "        vertical-align: middle;\n",
       "    }\n",
       "\n",
       "    .dataframe tbody tr th {\n",
       "        vertical-align: top;\n",
       "    }\n",
       "\n",
       "    .dataframe thead th {\n",
       "        text-align: right;\n",
       "    }\n",
       "</style>\n",
       "<table border=\"1\" class=\"dataframe\">\n",
       "  <thead>\n",
       "    <tr style=\"text-align: right;\">\n",
       "      <th></th>\n",
       "      <th>judge</th>\n",
       "      <th>flight</th>\n",
       "      <th>wine</th>\n",
       "      <th>score</th>\n",
       "      <th>wine.amer</th>\n",
       "      <th>judge.amer</th>\n",
       "    </tr>\n",
       "  </thead>\n",
       "  <tbody>\n",
       "    <tr>\n",
       "      <th>0</th>\n",
       "      <td>Jean-M Cardebat</td>\n",
       "      <td>white</td>\n",
       "      <td>A1</td>\n",
       "      <td>10.0</td>\n",
       "      <td>1</td>\n",
       "      <td>0</td>\n",
       "    </tr>\n",
       "    <tr>\n",
       "      <th>1</th>\n",
       "      <td>Jean-M Cardebat</td>\n",
       "      <td>white</td>\n",
       "      <td>B1</td>\n",
       "      <td>13.0</td>\n",
       "      <td>1</td>\n",
       "      <td>0</td>\n",
       "    </tr>\n",
       "    <tr>\n",
       "      <th>2</th>\n",
       "      <td>Jean-M Cardebat</td>\n",
       "      <td>white</td>\n",
       "      <td>C1</td>\n",
       "      <td>14.0</td>\n",
       "      <td>0</td>\n",
       "      <td>0</td>\n",
       "    </tr>\n",
       "    <tr>\n",
       "      <th>3</th>\n",
       "      <td>Jean-M Cardebat</td>\n",
       "      <td>white</td>\n",
       "      <td>D1</td>\n",
       "      <td>15.0</td>\n",
       "      <td>0</td>\n",
       "      <td>0</td>\n",
       "    </tr>\n",
       "    <tr>\n",
       "      <th>4</th>\n",
       "      <td>Jean-M Cardebat</td>\n",
       "      <td>white</td>\n",
       "      <td>E1</td>\n",
       "      <td>8.0</td>\n",
       "      <td>1</td>\n",
       "      <td>0</td>\n",
       "    </tr>\n",
       "    <tr>\n",
       "      <th>5</th>\n",
       "      <td>Jean-M Cardebat</td>\n",
       "      <td>white</td>\n",
       "      <td>F1</td>\n",
       "      <td>13.0</td>\n",
       "      <td>1</td>\n",
       "      <td>0</td>\n",
       "    </tr>\n",
       "    <tr>\n",
       "      <th>6</th>\n",
       "      <td>Jean-M Cardebat</td>\n",
       "      <td>white</td>\n",
       "      <td>G1</td>\n",
       "      <td>15.0</td>\n",
       "      <td>1</td>\n",
       "      <td>0</td>\n",
       "    </tr>\n",
       "    <tr>\n",
       "      <th>7</th>\n",
       "      <td>Jean-M Cardebat</td>\n",
       "      <td>white</td>\n",
       "      <td>H1</td>\n",
       "      <td>11.0</td>\n",
       "      <td>0</td>\n",
       "      <td>0</td>\n",
       "    </tr>\n",
       "    <tr>\n",
       "      <th>8</th>\n",
       "      <td>Jean-M Cardebat</td>\n",
       "      <td>white</td>\n",
       "      <td>I1</td>\n",
       "      <td>9.0</td>\n",
       "      <td>1</td>\n",
       "      <td>0</td>\n",
       "    </tr>\n",
       "    <tr>\n",
       "      <th>9</th>\n",
       "      <td>Jean-M Cardebat</td>\n",
       "      <td>white</td>\n",
       "      <td>J1</td>\n",
       "      <td>12.0</td>\n",
       "      <td>0</td>\n",
       "      <td>0</td>\n",
       "    </tr>\n",
       "  </tbody>\n",
       "</table>\n",
       "</div>"
      ],
      "text/plain": [
       "             judge flight wine  score  wine.amer  judge.amer\n",
       "0  Jean-M Cardebat  white   A1   10.0          1           0\n",
       "1  Jean-M Cardebat  white   B1   13.0          1           0\n",
       "2  Jean-M Cardebat  white   C1   14.0          0           0\n",
       "3  Jean-M Cardebat  white   D1   15.0          0           0\n",
       "4  Jean-M Cardebat  white   E1    8.0          1           0\n",
       "5  Jean-M Cardebat  white   F1   13.0          1           0\n",
       "6  Jean-M Cardebat  white   G1   15.0          1           0\n",
       "7  Jean-M Cardebat  white   H1   11.0          0           0\n",
       "8  Jean-M Cardebat  white   I1    9.0          1           0\n",
       "9  Jean-M Cardebat  white   J1   12.0          0           0"
      ]
     },
     "execution_count": 4,
     "metadata": {},
     "output_type": "execute_result"
    }
   ],
   "source": [
    "wines = pd.read_csv('data/Wines2012.csv', sep = ';')\n",
    "wines.head(10)"
   ]
  },
  {
   "cell_type": "markdown",
   "metadata": {},
   "source": [
    "## Preprocessing"
   ]
  },
  {
   "cell_type": "code",
   "execution_count": 5,
   "metadata": {},
   "outputs": [
    {
     "data": {
      "text/html": [
       "<div>\n",
       "<style scoped>\n",
       "    .dataframe tbody tr th:only-of-type {\n",
       "        vertical-align: middle;\n",
       "    }\n",
       "\n",
       "    .dataframe tbody tr th {\n",
       "        vertical-align: top;\n",
       "    }\n",
       "\n",
       "    .dataframe thead th {\n",
       "        text-align: right;\n",
       "    }\n",
       "</style>\n",
       "<table border=\"1\" class=\"dataframe\">\n",
       "  <thead>\n",
       "    <tr style=\"text-align: right;\">\n",
       "      <th></th>\n",
       "      <th>judge</th>\n",
       "      <th>flight</th>\n",
       "      <th>wine</th>\n",
       "      <th>score</th>\n",
       "      <th>wine.amer</th>\n",
       "      <th>judge.amer</th>\n",
       "    </tr>\n",
       "  </thead>\n",
       "  <tbody>\n",
       "    <tr>\n",
       "      <th>0</th>\n",
       "      <td>3</td>\n",
       "      <td>0</td>\n",
       "      <td>0</td>\n",
       "      <td>-1.581002</td>\n",
       "      <td>1</td>\n",
       "      <td>0</td>\n",
       "    </tr>\n",
       "    <tr>\n",
       "      <th>1</th>\n",
       "      <td>3</td>\n",
       "      <td>0</td>\n",
       "      <td>2</td>\n",
       "      <td>-0.451715</td>\n",
       "      <td>1</td>\n",
       "      <td>0</td>\n",
       "    </tr>\n",
       "    <tr>\n",
       "      <th>2</th>\n",
       "      <td>3</td>\n",
       "      <td>0</td>\n",
       "      <td>4</td>\n",
       "      <td>-0.075286</td>\n",
       "      <td>0</td>\n",
       "      <td>0</td>\n",
       "    </tr>\n",
       "    <tr>\n",
       "      <th>3</th>\n",
       "      <td>3</td>\n",
       "      <td>0</td>\n",
       "      <td>6</td>\n",
       "      <td>0.301143</td>\n",
       "      <td>0</td>\n",
       "      <td>0</td>\n",
       "    </tr>\n",
       "    <tr>\n",
       "      <th>4</th>\n",
       "      <td>3</td>\n",
       "      <td>0</td>\n",
       "      <td>8</td>\n",
       "      <td>-2.333860</td>\n",
       "      <td>1</td>\n",
       "      <td>0</td>\n",
       "    </tr>\n",
       "    <tr>\n",
       "      <th>...</th>\n",
       "      <td>...</td>\n",
       "      <td>...</td>\n",
       "      <td>...</td>\n",
       "      <td>...</td>\n",
       "      <td>...</td>\n",
       "      <td>...</td>\n",
       "    </tr>\n",
       "    <tr>\n",
       "      <th>175</th>\n",
       "      <td>1</td>\n",
       "      <td>1</td>\n",
       "      <td>11</td>\n",
       "      <td>-0.828144</td>\n",
       "      <td>1</td>\n",
       "      <td>1</td>\n",
       "    </tr>\n",
       "    <tr>\n",
       "      <th>176</th>\n",
       "      <td>1</td>\n",
       "      <td>1</td>\n",
       "      <td>13</td>\n",
       "      <td>0.301143</td>\n",
       "      <td>0</td>\n",
       "      <td>1</td>\n",
       "    </tr>\n",
       "    <tr>\n",
       "      <th>177</th>\n",
       "      <td>1</td>\n",
       "      <td>1</td>\n",
       "      <td>15</td>\n",
       "      <td>0.677572</td>\n",
       "      <td>1</td>\n",
       "      <td>1</td>\n",
       "    </tr>\n",
       "    <tr>\n",
       "      <th>178</th>\n",
       "      <td>1</td>\n",
       "      <td>1</td>\n",
       "      <td>17</td>\n",
       "      <td>-2.710289</td>\n",
       "      <td>1</td>\n",
       "      <td>1</td>\n",
       "    </tr>\n",
       "    <tr>\n",
       "      <th>179</th>\n",
       "      <td>1</td>\n",
       "      <td>1</td>\n",
       "      <td>19</td>\n",
       "      <td>1.054001</td>\n",
       "      <td>0</td>\n",
       "      <td>1</td>\n",
       "    </tr>\n",
       "  </tbody>\n",
       "</table>\n",
       "<p>180 rows × 6 columns</p>\n",
       "</div>"
      ],
      "text/plain": [
       "     judge  flight  wine     score  wine.amer  judge.amer\n",
       "0        3       0     0 -1.581002          1           0\n",
       "1        3       0     2 -0.451715          1           0\n",
       "2        3       0     4 -0.075286          0           0\n",
       "3        3       0     6  0.301143          0           0\n",
       "4        3       0     8 -2.333860          1           0\n",
       "..     ...     ...   ...       ...        ...         ...\n",
       "175      1       1    11 -0.828144          1           1\n",
       "176      1       1    13  0.301143          0           1\n",
       "177      1       1    15  0.677572          1           1\n",
       "178      1       1    17 -2.710289          1           1\n",
       "179      1       1    19  1.054001          0           1\n",
       "\n",
       "[180 rows x 6 columns]"
      ]
     },
     "execution_count": 5,
     "metadata": {},
     "output_type": "execute_result"
    }
   ],
   "source": [
    "wines[['wine']] = OrdinalEncoder(dtype=np.int64).fit_transform(wines[['wine']])\n",
    "wines[['judge']] = OrdinalEncoder(dtype=np.int64).fit_transform(wines[['judge']])\n",
    "wines['flight'] = 1 - OrdinalEncoder(dtype=np.int64).fit_transform(wines[['flight']])\n",
    "wines[['score']] = StandardScaler().fit_transform(wines[['score']])\n",
    "wines"
   ]
  },
  {
   "cell_type": "markdown",
   "metadata": {},
   "source": [
    "## Model 1: simple effects of wine and judge"
   ]
  },
  {
   "cell_type": "markdown",
   "metadata": {},
   "source": [
    "Let's start by examining the effects of the wine and the judge.\n",
    "\n",
    "$$ \\begin{align*}\n",
    "    y_i &\\sim \\mathrm{Normal}(\\mu_i, \\sigma) \\\\\n",
    "    \\mu_i &\\sim \\alpha + \\beta_{W[j]} + \\beta_{J[k]} \\\\\n",
    "    \\beta_{W[j]} &\\sim \\mathrm{Normal}(0, 0.5) \\\\\n",
    "    \\beta_{J[k]} &\\sim \\mathrm{Normal}(0, 0.5) \\\\\n",
    "    \\alpha &\\sim \\mathrm{Normal}(0, 0.2) \\\\\n",
    "    \\sigma &\\sim \\mathrm{Exponential}(1) \\end{align*} $$\n",
    "    \n",
    "The brackets on the parameters indicate indexing; so, we really have a vector of $\\beta_W$s, and we select out the relevant one for each wine."
   ]
  },
  {
   "cell_type": "code",
   "execution_count": 10,
   "metadata": {},
   "outputs": [
    {
     "name": "stderr",
     "output_type": "stream",
     "text": [
      "/home/dylan/.conda/envs/info510/lib/python3.8/site-packages/pymc3/sampling.py:466: FutureWarning: In an upcoming release, pm.sample will return an `arviz.InferenceData` object instead of a `MultiTrace` by default. You can pass return_inferencedata=True or return_inferencedata=False to be safe and silence this warning.\n",
      "  warnings.warn(\n",
      "Auto-assigning NUTS sampler...\n",
      "Initializing NUTS using jitter+adapt_diag...\n",
      "Multiprocess sampling (2 chains in 2 jobs)\n",
      "NUTS: [sigma, alpha, aJ, aW]\n"
     ]
    },
    {
     "data": {
      "text/html": [
       "\n",
       "    <div>\n",
       "        <style>\n",
       "            /* Turns off some styling */\n",
       "            progress {\n",
       "                /* gets rid of default border in Firefox and Opera. */\n",
       "                border: none;\n",
       "                /* Needs to be in here for Safari polyfill so background images work as expected. */\n",
       "                background-size: auto;\n",
       "            }\n",
       "            .progress-bar-interrupted, .progress-bar-interrupted::-webkit-progress-bar {\n",
       "                background: #F44336;\n",
       "            }\n",
       "        </style>\n",
       "      <progress value='6000' class='' max='6000' style='width:300px; height:20px; vertical-align: middle;'></progress>\n",
       "      100.00% [6000/6000 00:09<00:00 Sampling 2 chains, 0 divergences]\n",
       "    </div>\n",
       "    "
      ],
      "text/plain": [
       "<IPython.core.display.HTML object>"
      ]
     },
     "metadata": {},
     "output_type": "display_data"
    },
    {
     "name": "stderr",
     "output_type": "stream",
     "text": [
      "Sampling 2 chains for 1_000 tune and 2_000 draw iterations (2_000 + 4_000 draws total) took 9 seconds.\n"
     ]
    }
   ],
   "source": [
    "with pm.Model() as wj_model:\n",
    "    # Priors for parameters\n",
    "    aW = pm.Normal('aW', 0, 0.5, shape = 20)\n",
    "    aJ = pm.Normal('aJ', 0, 0.5, shape = 9)\n",
    "    alpha = pm.Normal('alpha', 0, 0.2)\n",
    "    sigma = pm.Exponential('sigma', 1)\n",
    "    \n",
    "    # Model equation\n",
    "    mu = alpha + aW[wines['wine'].values] + aJ[wines['judge'].values] # use .values here to avoid annoying theano warnings\n",
    "    \n",
    "    # Observation model\n",
    "    score = pm.Normal('score', mu = mu, sigma = sigma, observed = wines['score'])\n",
    "    \n",
    "    # Sampling\n",
    "    wj_trace = pm.sample(2000, target_accept = 0.95)\n",
    "    wj_sumtab = az.summary(wj_trace)"
   ]
  },
  {
   "cell_type": "code",
   "execution_count": 11,
   "metadata": {},
   "outputs": [
    {
     "data": {
      "image/png": "[encoded data removed]",
      "text/plain": [
       "<Figure size 432x864 with 1 Axes>"
      ]
     },
     "metadata": {
      "needs_background": "light"
     },
     "output_type": "display_data"
    }
   ],
   "source": [
    "with wj_model:\n",
    "    az.plot_forest(wj_trace, var_names = wj_trace.varnames.remove('sigma'))"
   ]
  },
  {
   "cell_type": "markdown",
   "metadata": {},
   "source": [
    "There isn't a lot of variation between the wines; only one wine has its posterior interval completely away from 0, and a few more (e.g. wines 3, 5, 19) are close. There is more variation among judges, with several who consistently rate wines higher or lower than average. Judges rate by their own \"internal scales\", so this generally makes sense."
   ]
  },
  {
   "cell_type": "markdown",
   "metadata": {},
   "source": [
    "## Simple model: color/judge/region effects"
   ]
  },
  {
   "cell_type": "markdown",
   "metadata": {},
   "source": [
    "There is a slight distinction between two approaches we can take to writing down the model. We can use indicator variables:\n",
    "\n",
    "$$ \\begin{align*} y_i &\\sim \\mathrm{Normal}(\\mu_i, \\sigma) \\\\\n",
    "    \\mu_i &\\sim \\alpha + \\beta_{C} C + \\beta_{J} J + \\beta_{R} R \\\\\n",
    "    \\beta_{C} &\\sim \\mathrm{Normal}(0, 0.5) \\\\\n",
    "    \\beta_{J} &\\sim \\mathrm{Normal}(0, 0.5) \\\\\n",
    "    \\beta_{R} &\\sim \\mathrm{Normal}(0, 0.5) \\\\\n",
    "    \\alpha &\\sim \\mathrm{Normal}(0, 0.2) \\\\\n",
    "    \\sigma &\\sim \\mathrm{Exponential}(1) \\end{align*} $$\n",
    "where $C, J, R$ are indicators: \n",
    "* $C = 0$ if the wine is white, $C = 1$ if the wine is red\n",
    "* $J = 0$ if the judge is French, $J = 1$ if the judge is American\n",
    "* $R = 0$ if the wine is French, $R = 1$ if the wine is American"
   ]
  },
  {
   "cell_type": "code",
   "execution_count": 12,
   "metadata": {},
   "outputs": [
    {
     "name": "stderr",
     "output_type": "stream",
     "text": [
      "/home/dylan/.conda/envs/info510/lib/python3.8/site-packages/pymc3/sampling.py:466: FutureWarning: In an upcoming release, pm.sample will return an `arviz.InferenceData` object instead of a `MultiTrace` by default. You can pass return_inferencedata=True or return_inferencedata=False to be safe and silence this warning.\n",
      "  warnings.warn(\n",
      "Auto-assigning NUTS sampler...\n",
      "Initializing NUTS using jitter+adapt_diag...\n",
      "Multiprocess sampling (2 chains in 2 jobs)\n",
      "NUTS: [alpha, sigma, bC, bJ, bR]\n"
     ]
    },
    {
     "data": {
      "text/html": [
       "\n",
       "    <div>\n",
       "        <style>\n",
       "            /* Turns off some styling */\n",
       "            progress {\n",
       "                /* gets rid of default border in Firefox and Opera. */\n",
       "                border: none;\n",
       "                /* Needs to be in here for Safari polyfill so background images work as expected. */\n",
       "                background-size: auto;\n",
       "            }\n",
       "            .progress-bar-interrupted, .progress-bar-interrupted::-webkit-progress-bar {\n",
       "                background: #F44336;\n",
       "            }\n",
       "        </style>\n",
       "      <progress value='4000' class='' max='4000' style='width:300px; height:20px; vertical-align: middle;'></progress>\n",
       "      100.00% [4000/4000 00:03<00:00 Sampling 2 chains, 0 divergences]\n",
       "    </div>\n",
       "    "
      ],
      "text/plain": [
       "<IPython.core.display.HTML object>"
      ]
     },
     "metadata": {},
     "output_type": "display_data"
    },
    {
     "name": "stderr",
     "output_type": "stream",
     "text": [
      "Sampling 2 chains for 1_000 tune and 1_000 draw iterations (2_000 + 2_000 draws total) took 4 seconds.\n"
     ]
    }
   ],
   "source": [
    "# Indicator variable version\n",
    "with pm.Model() as indicator_model:\n",
    "    # Priors\n",
    "    bR = pm.Normal('bR', 0, 0.5)\n",
    "    bJ = pm.Normal('bJ', 0, 0.5)\n",
    "    bC = pm.Normal('bC', 0, 0.5)\n",
    "    sigma = pm.Exponential('sigma', 1)\n",
    "    alpha = pm.Normal('alpha', 0, 0.2)\n",
    "    \n",
    "    # Model equation\n",
    "    mu = alpha + bC * wines['flight'] + bJ * wines['judge.amer'] + bR * wines['wine.amer']\n",
    "    \n",
    "    # Observation model\n",
    "    score = pm.Normal('score', mu=mu, sigma=sigma, observed=wines['score'])\n",
    "    \n",
    "    # Sampling\n",
    "    indicator_trace = pm.sample(1000, target_accept = 0.9)\n",
    "    indicator_sumtab = az.summary(indicator_trace)"
   ]
  },
  {
   "cell_type": "code",
   "execution_count": 13,
   "metadata": {},
   "outputs": [
    {
     "data": {
      "text/html": [
       "<div>\n",
       "<style scoped>\n",
       "    .dataframe tbody tr th:only-of-type {\n",
       "        vertical-align: middle;\n",
       "    }\n",
       "\n",
       "    .dataframe tbody tr th {\n",
       "        vertical-align: top;\n",
       "    }\n",
       "\n",
       "    .dataframe thead th {\n",
       "        text-align: right;\n",
       "    }\n",
       "</style>\n",
       "<table border=\"1\" class=\"dataframe\">\n",
       "  <thead>\n",
       "    <tr style=\"text-align: right;\">\n",
       "      <th></th>\n",
       "      <th>mean</th>\n",
       "      <th>sd</th>\n",
       "      <th>hdi_3%</th>\n",
       "      <th>hdi_97%</th>\n",
       "      <th>mcse_mean</th>\n",
       "      <th>mcse_sd</th>\n",
       "      <th>ess_bulk</th>\n",
       "      <th>ess_tail</th>\n",
       "      <th>r_hat</th>\n",
       "    </tr>\n",
       "  </thead>\n",
       "  <tbody>\n",
       "    <tr>\n",
       "      <th>bR</th>\n",
       "      <td>-0.176</td>\n",
       "      <td>0.135</td>\n",
       "      <td>-0.422</td>\n",
       "      <td>0.085</td>\n",
       "      <td>0.003</td>\n",
       "      <td>0.002</td>\n",
       "      <td>1901.0</td>\n",
       "      <td>1500.0</td>\n",
       "      <td>1.0</td>\n",
       "    </tr>\n",
       "    <tr>\n",
       "      <th>bJ</th>\n",
       "      <td>0.227</td>\n",
       "      <td>0.139</td>\n",
       "      <td>-0.041</td>\n",
       "      <td>0.482</td>\n",
       "      <td>0.003</td>\n",
       "      <td>0.002</td>\n",
       "      <td>1747.0</td>\n",
       "      <td>1556.0</td>\n",
       "      <td>1.0</td>\n",
       "    </tr>\n",
       "    <tr>\n",
       "      <th>bC</th>\n",
       "      <td>-0.008</td>\n",
       "      <td>0.138</td>\n",
       "      <td>-0.260</td>\n",
       "      <td>0.248</td>\n",
       "      <td>0.003</td>\n",
       "      <td>0.003</td>\n",
       "      <td>1788.0</td>\n",
       "      <td>1437.0</td>\n",
       "      <td>1.0</td>\n",
       "    </tr>\n",
       "    <tr>\n",
       "      <th>alpha</th>\n",
       "      <td>-0.015</td>\n",
       "      <td>0.127</td>\n",
       "      <td>-0.252</td>\n",
       "      <td>0.217</td>\n",
       "      <td>0.003</td>\n",
       "      <td>0.003</td>\n",
       "      <td>1337.0</td>\n",
       "      <td>1148.0</td>\n",
       "      <td>1.0</td>\n",
       "    </tr>\n",
       "    <tr>\n",
       "      <th>sigma</th>\n",
       "      <td>1.002</td>\n",
       "      <td>0.055</td>\n",
       "      <td>0.904</td>\n",
       "      <td>1.106</td>\n",
       "      <td>0.001</td>\n",
       "      <td>0.001</td>\n",
       "      <td>2100.0</td>\n",
       "      <td>1560.0</td>\n",
       "      <td>1.0</td>\n",
       "    </tr>\n",
       "  </tbody>\n",
       "</table>\n",
       "</div>"
      ],
      "text/plain": [
       "        mean     sd  hdi_3%  hdi_97%  mcse_mean  mcse_sd  ess_bulk  ess_tail  \\\n",
       "bR    -0.176  0.135  -0.422    0.085      0.003    0.002    1901.0    1500.0   \n",
       "bJ     0.227  0.139  -0.041    0.482      0.003    0.002    1747.0    1556.0   \n",
       "bC    -0.008  0.138  -0.260    0.248      0.003    0.003    1788.0    1437.0   \n",
       "alpha -0.015  0.127  -0.252    0.217      0.003    0.003    1337.0    1148.0   \n",
       "sigma  1.002  0.055   0.904    1.106      0.001    0.001    2100.0    1560.0   \n",
       "\n",
       "       r_hat  \n",
       "bR       1.0  \n",
       "bJ       1.0  \n",
       "bC       1.0  \n",
       "alpha    1.0  \n",
       "sigma    1.0  "
      ]
     },
     "execution_count": 13,
     "metadata": {},
     "output_type": "execute_result"
    }
   ],
   "source": [
    "indicator_sumtab"
   ]
  },
  {
   "cell_type": "code",
   "execution_count": 14,
   "metadata": {},
   "outputs": [
    {
     "name": "stderr",
     "output_type": "stream",
     "text": [
      "/home/dylan/.conda/envs/info510/lib/python3.8/site-packages/arviz/data/io_pymc3.py:96: FutureWarning: Using `from_pymc3` without the model will be deprecated in a future release. Not using the model will return less accurate and less useful results. Make sure you use the model argument or call from_pymc3 within a model context.\n",
      "  warnings.warn(\n"
     ]
    },
    {
     "data": {
      "text/plain": [
       "array([<AxesSubplot:title={'center':'94.0% HDI'}>], dtype=object)"
      ]
     },
     "execution_count": 14,
     "metadata": {},
     "output_type": "execute_result"
    },
    {
     "data": {
      "image/png": "[encoded data removed]",
      "text/plain": [
       "<Figure size 432x561.6 with 1 Axes>"
      ]
     },
     "metadata": {
      "needs_background": "light"
     },
     "output_type": "display_data"
    }
   ],
   "source": [
    "az.plot_forest(indicator_trace, var_names = ['bR', 'bJ', 'bC', 'alpha'])"
   ]
  },
  {
   "cell_type": "markdown",
   "metadata": {},
   "source": [
    "Two strong effects: region and judge. What if we include interactions?"
   ]
  },
  {
   "cell_type": "code",
   "execution_count": 15,
   "metadata": {},
   "outputs": [
    {
     "name": "stderr",
     "output_type": "stream",
     "text": [
      "/home/dylan/.conda/envs/info510/lib/python3.8/site-packages/pymc3/sampling.py:466: FutureWarning: In an upcoming release, pm.sample will return an `arviz.InferenceData` object instead of a `MultiTrace` by default. You can pass return_inferencedata=True or return_inferencedata=False to be safe and silence this warning.\n",
      "  warnings.warn(\n",
      "Auto-assigning NUTS sampler...\n",
      "Initializing NUTS using jitter+adapt_diag...\n",
      "Multiprocess sampling (2 chains in 2 jobs)\n",
      "NUTS: [alpha, sigma, bRC, bJR, bCJ, bC, bJ, bR]\n"
     ]
    },
    {
     "data": {
      "text/html": [
       "\n",
       "    <div>\n",
       "        <style>\n",
       "            /* Turns off some styling */\n",
       "            progress {\n",
       "                /* gets rid of default border in Firefox and Opera. */\n",
       "                border: none;\n",
       "                /* Needs to be in here for Safari polyfill so background images work as expected. */\n",
       "                background-size: auto;\n",
       "            }\n",
       "            .progress-bar-interrupted, .progress-bar-interrupted::-webkit-progress-bar {\n",
       "                background: #F44336;\n",
       "            }\n",
       "        </style>\n",
       "      <progress value='4000' class='' max='4000' style='width:300px; height:20px; vertical-align: middle;'></progress>\n",
       "      100.00% [4000/4000 00:06<00:00 Sampling 2 chains, 0 divergences]\n",
       "    </div>\n",
       "    "
      ],
      "text/plain": [
       "<IPython.core.display.HTML object>"
      ]
     },
     "metadata": {},
     "output_type": "display_data"
    },
    {
     "name": "stderr",
     "output_type": "stream",
     "text": [
      "Sampling 2 chains for 1_000 tune and 1_000 draw iterations (2_000 + 2_000 draws total) took 6 seconds.\n"
     ]
    }
   ],
   "source": [
    "with pm.Model() as interaction:\n",
    "    # Priors\n",
    "    bR = pm.Normal('bR', 0, 0.5)\n",
    "    bJ = pm.Normal('bJ', 0, 0.5)\n",
    "    bC = pm.Normal('bC', 0, 0.5)\n",
    "    # Tighter regularization on interaction effects\n",
    "    bCJ = pm.Normal('bCJ', 0, 0.25)\n",
    "    bJR = pm.Normal('bJR', 0, 0.25)\n",
    "    bRC = pm.Normal('bRC', 0, 0.25)\n",
    "    sigma = pm.Exponential('sigma', 1)\n",
    "    alpha = pm.Normal('alpha', 0, 0.2)\n",
    "    \n",
    "    # Model equation\n",
    "    mu = alpha + bC * wines['flight'] + bJ * wines['judge.amer'] + bR * wines['wine.amer'] + \\\n",
    "        bJR * wines['judge.amer'] * wines['wine.amer'] + bCJ * wines['judge.amer'] * wines['flight'] + \\\n",
    "        bRC * wines['flight'] * wines['wine.amer']\n",
    "    \n",
    "    # Observation model\n",
    "    score = pm.Normal('score', mu=mu, sigma=sigma, observed=wines['score'])\n",
    "    \n",
    "    # Sampling\n",
    "    int_trace = pm.sample(1000, target_accept = 0.9)\n",
    "    int_sumtab = az.summary(int_trace, var_names = ['alpha', 'bR', 'bJ', 'bC', 'bCJ', 'bJR', 'bRC'])"
   ]
  },
  {
   "cell_type": "code",
   "execution_count": 16,
   "metadata": {},
   "outputs": [
    {
     "data": {
      "text/html": [
       "<div>\n",
       "<style scoped>\n",
       "    .dataframe tbody tr th:only-of-type {\n",
       "        vertical-align: middle;\n",
       "    }\n",
       "\n",
       "    .dataframe tbody tr th {\n",
       "        vertical-align: top;\n",
       "    }\n",
       "\n",
       "    .dataframe thead th {\n",
       "        text-align: right;\n",
       "    }\n",
       "</style>\n",
       "<table border=\"1\" class=\"dataframe\">\n",
       "  <thead>\n",
       "    <tr style=\"text-align: right;\">\n",
       "      <th></th>\n",
       "      <th>mean</th>\n",
       "      <th>sd</th>\n",
       "      <th>hdi_3%</th>\n",
       "      <th>hdi_97%</th>\n",
       "      <th>mcse_mean</th>\n",
       "      <th>mcse_sd</th>\n",
       "      <th>ess_bulk</th>\n",
       "      <th>ess_tail</th>\n",
       "      <th>r_hat</th>\n",
       "    </tr>\n",
       "  </thead>\n",
       "  <tbody>\n",
       "    <tr>\n",
       "      <th>alpha</th>\n",
       "      <td>-0.039</td>\n",
       "      <td>0.133</td>\n",
       "      <td>-0.280</td>\n",
       "      <td>0.209</td>\n",
       "      <td>0.004</td>\n",
       "      <td>0.003</td>\n",
       "      <td>1184.0</td>\n",
       "      <td>1410.0</td>\n",
       "      <td>1.0</td>\n",
       "    </tr>\n",
       "    <tr>\n",
       "      <th>bR</th>\n",
       "      <td>-0.078</td>\n",
       "      <td>0.175</td>\n",
       "      <td>-0.414</td>\n",
       "      <td>0.238</td>\n",
       "      <td>0.005</td>\n",
       "      <td>0.004</td>\n",
       "      <td>1410.0</td>\n",
       "      <td>1455.0</td>\n",
       "      <td>1.0</td>\n",
       "    </tr>\n",
       "    <tr>\n",
       "      <th>bJ</th>\n",
       "      <td>0.208</td>\n",
       "      <td>0.176</td>\n",
       "      <td>-0.108</td>\n",
       "      <td>0.560</td>\n",
       "      <td>0.006</td>\n",
       "      <td>0.004</td>\n",
       "      <td>997.0</td>\n",
       "      <td>1199.0</td>\n",
       "      <td>1.0</td>\n",
       "    </tr>\n",
       "    <tr>\n",
       "      <th>bC</th>\n",
       "      <td>0.085</td>\n",
       "      <td>0.188</td>\n",
       "      <td>-0.285</td>\n",
       "      <td>0.415</td>\n",
       "      <td>0.005</td>\n",
       "      <td>0.005</td>\n",
       "      <td>1302.0</td>\n",
       "      <td>1089.0</td>\n",
       "      <td>1.0</td>\n",
       "    </tr>\n",
       "    <tr>\n",
       "      <th>bCJ</th>\n",
       "      <td>0.044</td>\n",
       "      <td>0.186</td>\n",
       "      <td>-0.315</td>\n",
       "      <td>0.361</td>\n",
       "      <td>0.005</td>\n",
       "      <td>0.004</td>\n",
       "      <td>1479.0</td>\n",
       "      <td>1383.0</td>\n",
       "      <td>1.0</td>\n",
       "    </tr>\n",
       "    <tr>\n",
       "      <th>bJR</th>\n",
       "      <td>-0.029</td>\n",
       "      <td>0.185</td>\n",
       "      <td>-0.387</td>\n",
       "      <td>0.302</td>\n",
       "      <td>0.005</td>\n",
       "      <td>0.004</td>\n",
       "      <td>1531.0</td>\n",
       "      <td>1485.0</td>\n",
       "      <td>1.0</td>\n",
       "    </tr>\n",
       "    <tr>\n",
       "      <th>bRC</th>\n",
       "      <td>-0.223</td>\n",
       "      <td>0.181</td>\n",
       "      <td>-0.574</td>\n",
       "      <td>0.110</td>\n",
       "      <td>0.005</td>\n",
       "      <td>0.004</td>\n",
       "      <td>1512.0</td>\n",
       "      <td>1473.0</td>\n",
       "      <td>1.0</td>\n",
       "    </tr>\n",
       "  </tbody>\n",
       "</table>\n",
       "</div>"
      ],
      "text/plain": [
       "        mean     sd  hdi_3%  hdi_97%  mcse_mean  mcse_sd  ess_bulk  ess_tail  \\\n",
       "alpha -0.039  0.133  -0.280    0.209      0.004    0.003    1184.0    1410.0   \n",
       "bR    -0.078  0.175  -0.414    0.238      0.005    0.004    1410.0    1455.0   \n",
       "bJ     0.208  0.176  -0.108    0.560      0.006    0.004     997.0    1199.0   \n",
       "bC     0.085  0.188  -0.285    0.415      0.005    0.005    1302.0    1089.0   \n",
       "bCJ    0.044  0.186  -0.315    0.361      0.005    0.004    1479.0    1383.0   \n",
       "bJR   -0.029  0.185  -0.387    0.302      0.005    0.004    1531.0    1485.0   \n",
       "bRC   -0.223  0.181  -0.574    0.110      0.005    0.004    1512.0    1473.0   \n",
       "\n",
       "       r_hat  \n",
       "alpha    1.0  \n",
       "bR       1.0  \n",
       "bJ       1.0  \n",
       "bC       1.0  \n",
       "bCJ      1.0  \n",
       "bJR      1.0  \n",
       "bRC      1.0  "
      ]
     },
     "execution_count": 16,
     "metadata": {},
     "output_type": "execute_result"
    }
   ],
   "source": [
    "int_sumtab"
   ]
  },
  {
   "cell_type": "code",
   "execution_count": 17,
   "metadata": {},
   "outputs": [
    {
     "data": {
      "image/png": "[encoded data removed]",
      "text/plain": [
       "<Figure size 432x820.8 with 1 Axes>"
      ]
     },
     "metadata": {
      "needs_background": "light"
     },
     "output_type": "display_data"
    }
   ],
   "source": [
    "with interaction:\n",
    "    az.plot_forest(int_trace, var_names = ['alpha', 'bR', 'bJ', 'bC', 'bCJ', 'bJR', 'bRC'])"
   ]
  },
  {
   "cell_type": "markdown",
   "metadata": {},
   "source": [
    "## Visualizing the predictions\n",
    "\n",
    "Interpreting the parameters, especially the interaction parameters, can be a bit tricky. To clarify this, let's extract samples from the trace to evaluate our predicted scores for each of the combinations of predictors. We can do this by simply plugging the sampled values from the trace into the model equation."
   ]
  },
  {
   "cell_type": "code",
   "execution_count": 19,
   "metadata": {},
   "outputs": [],
   "source": [
    "RAA = int_trace['bR'] + int_trace['bJ'] + int_trace['bC'] + \\\n",
    "      int_trace['bCJ'] + int_trace['bJR'] + int_trace['bRC'] + int_trace['alpha']\n",
    "WAA = int_trace['bJ'] + int_trace['bR'] + int_trace['bC'] + int_trace['bRC'] + int_trace['alpha']\n",
    "RFA = int_trace['bC'] + int_trace['bR'] + int_trace['bRC'] + int_trace['alpha']\n",
    "WFA = int_trace['bR'] + int_trace['alpha']\n",
    "RAF = int_trace['bC'] + int_trace['bJ'] + int_trace['bCJ'] + int_trace['alpha']\n",
    "WAF = int_trace['bJ'] + int_trace['alpha']\n",
    "RFF = int_trace['bC'] + int_trace['alpha']\n",
    "WFF = int_trace['alpha']"
   ]
  },
  {
   "cell_type": "code",
   "execution_count": 20,
   "metadata": {},
   "outputs": [
    {
     "data": {
      "image/png": "[encoded data removed]",
      "text/plain": [
       "<Figure size 720x1440 with 8 Axes>"
      ]
     },
     "metadata": {
      "needs_background": "light"
     },
     "output_type": "display_data"
    }
   ],
   "source": [
    "fig, axs = plt.subplots(4,2, figsize = (10, 20))\n",
    "fig.suptitle('Estimated average scores, by flight/judge/region', size = 16)\n",
    "axs[0,0].hist(RAA, bins = np.arange(-1, 1.1, 0.1))\n",
    "axs[0,0].set_title('Red/AmJ/AmW')\n",
    "axs[1,0].hist(RFA, bins = np.arange(-1, 1.1, 0.1))\n",
    "axs[1,0].set_title('Red/FrJ/AmW')\n",
    "axs[2,0].hist(RAF, bins = np.arange(-1, 1.1, 0.1))\n",
    "axs[2,0].set_title('Red/AmJ/FrW')\n",
    "axs[3,0].hist(RFF, bins = np.arange(-1, 1.1, 0.1))\n",
    "axs[3,0].set_title('Red/FrJ/FrW')\n",
    "axs[0,1].hist(WAA, bins = np.arange(-1, 1.1, 0.1))\n",
    "axs[0,1].set_title('White/AmJ/AmW')\n",
    "axs[1,1].hist(WFA, bins = np.arange(-1, 1.1, 0.1))\n",
    "axs[1,1].set_title('White/FrJ/AmW')\n",
    "axs[2,1].hist(WAF, bins = np.arange(-1, 1.1, 0.1))\n",
    "axs[2,1].set_title('White/AmJ/FrW')\n",
    "axs[3,1].hist(WFF, bins = np.arange(-1, 1.1, 0.1))\n",
    "axs[3,1].set_title('White/FrJ/FrW')\n",
    "plt.show()"
   ]
  },
  {
   "cell_type": "markdown",
   "metadata": {},
   "source": [
    "This clarifies the region/color interaction, which was the only clearly nonzero interaction from the parameter table. Red French wines were rated higher than average by American judges (although only about average by French judges) while red American wines were rated relatively poorly by the French judges. So, being red and American together appears to carry a bit of a disadvantage -- although how this manifests is dependent on the judge."
   ]
  },
  {
   "cell_type": "markdown",
   "metadata": {},
   "source": [
    "### Full interaction model"
   ]
  },
  {
   "cell_type": "code",
   "execution_count": 21,
   "metadata": {},
   "outputs": [
    {
     "name": "stderr",
     "output_type": "stream",
     "text": [
      "/home/dylan/.conda/envs/info510/lib/python3.8/site-packages/pymc3/sampling.py:466: FutureWarning: In an upcoming release, pm.sample will return an `arviz.InferenceData` object instead of a `MultiTrace` by default. You can pass return_inferencedata=True or return_inferencedata=False to be safe and silence this warning.\n",
      "  warnings.warn(\n",
      "Auto-assigning NUTS sampler...\n",
      "Initializing NUTS using jitter+adapt_diag...\n",
      "Multiprocess sampling (2 chains in 2 jobs)\n",
      "NUTS: [alpha, sigma, b]\n"
     ]
    },
    {
     "data": {
      "text/html": [
       "\n",
       "    <div>\n",
       "        <style>\n",
       "            /* Turns off some styling */\n",
       "            progress {\n",
       "                /* gets rid of default border in Firefox and Opera. */\n",
       "                border: none;\n",
       "                /* Needs to be in here for Safari polyfill so background images work as expected. */\n",
       "                background-size: auto;\n",
       "            }\n",
       "            .progress-bar-interrupted, .progress-bar-interrupted::-webkit-progress-bar {\n",
       "                background: #F44336;\n",
       "            }\n",
       "        </style>\n",
       "      <progress value='4000' class='' max='4000' style='width:300px; height:20px; vertical-align: middle;'></progress>\n",
       "      100.00% [4000/4000 00:04<00:00 Sampling 2 chains, 0 divergences]\n",
       "    </div>\n",
       "    "
      ],
      "text/plain": [
       "<IPython.core.display.HTML object>"
      ]
     },
     "metadata": {},
     "output_type": "display_data"
    },
    {
     "name": "stderr",
     "output_type": "stream",
     "text": [
      "Sampling 2 chains for 1_000 tune and 1_000 draw iterations (2_000 + 2_000 draws total) took 5 seconds.\n"
     ]
    }
   ],
   "source": [
    "with pm.Model() as interaction:\n",
    "    b = pm.Normal('b', 0, 0.5, shape = (2, 2, 2))\n",
    "    sigma = pm.Exponential('sigma', 1)\n",
    "    alpha = pm.Normal('alpha', 0, 0.2)\n",
    "    mu = b[wines['flight'], wines['judge.amer'], wines['wine.amer']]\n",
    "    score = pm.Normal('score', mu=mu, sigma=sigma, observed=wines['score'])\n",
    "    \n",
    "    fullint_trace = pm.sample(1000, target_accept = 0.9)\n",
    "    fullint_sumtab = az.summary(fullint_trace)"
   ]
  },
  {
   "cell_type": "code",
   "execution_count": 22,
   "metadata": {},
   "outputs": [
    {
     "data": {
      "text/html": [
       "<div>\n",
       "<style scoped>\n",
       "    .dataframe tbody tr th:only-of-type {\n",
       "        vertical-align: middle;\n",
       "    }\n",
       "\n",
       "    .dataframe tbody tr th {\n",
       "        vertical-align: top;\n",
       "    }\n",
       "\n",
       "    .dataframe thead th {\n",
       "        text-align: right;\n",
       "    }\n",
       "</style>\n",
       "<table border=\"1\" class=\"dataframe\">\n",
       "  <thead>\n",
       "    <tr style=\"text-align: right;\">\n",
       "      <th></th>\n",
       "      <th>mean</th>\n",
       "      <th>sd</th>\n",
       "      <th>hdi_3%</th>\n",
       "      <th>hdi_97%</th>\n",
       "      <th>mcse_mean</th>\n",
       "      <th>mcse_sd</th>\n",
       "      <th>ess_bulk</th>\n",
       "      <th>ess_tail</th>\n",
       "      <th>r_hat</th>\n",
       "    </tr>\n",
       "  </thead>\n",
       "  <tbody>\n",
       "    <tr>\n",
       "      <th>b[0,0,0]</th>\n",
       "      <td>-0.305</td>\n",
       "      <td>0.215</td>\n",
       "      <td>-0.723</td>\n",
       "      <td>0.093</td>\n",
       "      <td>0.003</td>\n",
       "      <td>0.003</td>\n",
       "      <td>4360.0</td>\n",
       "      <td>1388.0</td>\n",
       "      <td>1.00</td>\n",
       "    </tr>\n",
       "    <tr>\n",
       "      <th>b[0,0,1]</th>\n",
       "      <td>0.035</td>\n",
       "      <td>0.186</td>\n",
       "      <td>-0.346</td>\n",
       "      <td>0.362</td>\n",
       "      <td>0.003</td>\n",
       "      <td>0.004</td>\n",
       "      <td>4250.0</td>\n",
       "      <td>1624.0</td>\n",
       "      <td>1.01</td>\n",
       "    </tr>\n",
       "    <tr>\n",
       "      <th>b[0,1,0]</th>\n",
       "      <td>0.162</td>\n",
       "      <td>0.206</td>\n",
       "      <td>-0.213</td>\n",
       "      <td>0.555</td>\n",
       "      <td>0.003</td>\n",
       "      <td>0.004</td>\n",
       "      <td>3645.0</td>\n",
       "      <td>1513.0</td>\n",
       "      <td>1.00</td>\n",
       "    </tr>\n",
       "    <tr>\n",
       "      <th>b[0,1,1]</th>\n",
       "      <td>0.038</td>\n",
       "      <td>0.168</td>\n",
       "      <td>-0.263</td>\n",
       "      <td>0.372</td>\n",
       "      <td>0.003</td>\n",
       "      <td>0.004</td>\n",
       "      <td>3572.0</td>\n",
       "      <td>1278.0</td>\n",
       "      <td>1.00</td>\n",
       "    </tr>\n",
       "    <tr>\n",
       "      <th>b[1,0,0]</th>\n",
       "      <td>0.210</td>\n",
       "      <td>0.216</td>\n",
       "      <td>-0.185</td>\n",
       "      <td>0.607</td>\n",
       "      <td>0.004</td>\n",
       "      <td>0.004</td>\n",
       "      <td>3403.0</td>\n",
       "      <td>1433.0</td>\n",
       "      <td>1.00</td>\n",
       "    </tr>\n",
       "    <tr>\n",
       "      <th>b[1,0,1]</th>\n",
       "      <td>-0.357</td>\n",
       "      <td>0.186</td>\n",
       "      <td>-0.698</td>\n",
       "      <td>-0.005</td>\n",
       "      <td>0.003</td>\n",
       "      <td>0.003</td>\n",
       "      <td>3363.0</td>\n",
       "      <td>1556.0</td>\n",
       "      <td>1.00</td>\n",
       "    </tr>\n",
       "    <tr>\n",
       "      <th>b[1,1,0]</th>\n",
       "      <td>0.266</td>\n",
       "      <td>0.206</td>\n",
       "      <td>-0.109</td>\n",
       "      <td>0.661</td>\n",
       "      <td>0.003</td>\n",
       "      <td>0.003</td>\n",
       "      <td>3552.0</td>\n",
       "      <td>1449.0</td>\n",
       "      <td>1.00</td>\n",
       "    </tr>\n",
       "    <tr>\n",
       "      <th>b[1,1,1]</th>\n",
       "      <td>-0.016</td>\n",
       "      <td>0.169</td>\n",
       "      <td>-0.351</td>\n",
       "      <td>0.286</td>\n",
       "      <td>0.003</td>\n",
       "      <td>0.004</td>\n",
       "      <td>3206.0</td>\n",
       "      <td>1518.0</td>\n",
       "      <td>1.00</td>\n",
       "    </tr>\n",
       "    <tr>\n",
       "      <th>alpha</th>\n",
       "      <td>0.003</td>\n",
       "      <td>0.204</td>\n",
       "      <td>-0.387</td>\n",
       "      <td>0.380</td>\n",
       "      <td>0.003</td>\n",
       "      <td>0.005</td>\n",
       "      <td>3973.0</td>\n",
       "      <td>1403.0</td>\n",
       "      <td>1.00</td>\n",
       "    </tr>\n",
       "    <tr>\n",
       "      <th>sigma</th>\n",
       "      <td>0.993</td>\n",
       "      <td>0.052</td>\n",
       "      <td>0.901</td>\n",
       "      <td>1.093</td>\n",
       "      <td>0.001</td>\n",
       "      <td>0.001</td>\n",
       "      <td>2882.0</td>\n",
       "      <td>1449.0</td>\n",
       "      <td>1.00</td>\n",
       "    </tr>\n",
       "  </tbody>\n",
       "</table>\n",
       "</div>"
      ],
      "text/plain": [
       "           mean     sd  hdi_3%  hdi_97%  mcse_mean  mcse_sd  ess_bulk  \\\n",
       "b[0,0,0] -0.305  0.215  -0.723    0.093      0.003    0.003    4360.0   \n",
       "b[0,0,1]  0.035  0.186  -0.346    0.362      0.003    0.004    4250.0   \n",
       "b[0,1,0]  0.162  0.206  -0.213    0.555      0.003    0.004    3645.0   \n",
       "b[0,1,1]  0.038  0.168  -0.263    0.372      0.003    0.004    3572.0   \n",
       "b[1,0,0]  0.210  0.216  -0.185    0.607      0.004    0.004    3403.0   \n",
       "b[1,0,1] -0.357  0.186  -0.698   -0.005      0.003    0.003    3363.0   \n",
       "b[1,1,0]  0.266  0.206  -0.109    0.661      0.003    0.003    3552.0   \n",
       "b[1,1,1] -0.016  0.169  -0.351    0.286      0.003    0.004    3206.0   \n",
       "alpha     0.003  0.204  -0.387    0.380      0.003    0.005    3973.0   \n",
       "sigma     0.993  0.052   0.901    1.093      0.001    0.001    2882.0   \n",
       "\n",
       "          ess_tail  r_hat  \n",
       "b[0,0,0]    1388.0   1.00  \n",
       "b[0,0,1]    1624.0   1.01  \n",
       "b[0,1,0]    1513.0   1.00  \n",
       "b[0,1,1]    1278.0   1.00  \n",
       "b[1,0,0]    1433.0   1.00  \n",
       "b[1,0,1]    1556.0   1.00  \n",
       "b[1,1,0]    1449.0   1.00  \n",
       "b[1,1,1]    1518.0   1.00  \n",
       "alpha       1403.0   1.00  \n",
       "sigma       1449.0   1.00  "
      ]
     },
     "execution_count": 22,
     "metadata": {},
     "output_type": "execute_result"
    }
   ],
   "source": [
    "fullint_sumtab"
   ]
  },
  {
   "cell_type": "code",
   "execution_count": null,
   "metadata": {},
   "outputs": [],
   "source": [
    "fullint_trace['b'][:,0,0,0]"
   ]
  },
  {
   "cell_type": "code",
   "execution_count": 23,
   "metadata": {},
   "outputs": [
    {
     "data": {
      "image/png": "[encoded data removed]",
      "text/plain": [
       "<Figure size 720x1440 with 8 Axes>"
      ]
     },
     "metadata": {
      "needs_background": "light"
     },
     "output_type": "display_data"
    }
   ],
   "source": [
    "fig, axs = plt.subplots(4,2, figsize = (10, 20))\n",
    "fig.suptitle('Predicted scores, by flight/judge/region', size = 16)\n",
    "axs[0,0].hist(fullint_trace['b'][:,1,1,1], bins = np.arange(-1, 1.1, 0.1))\n",
    "axs[0,0].set_title('Red/AmJ/AmW')\n",
    "axs[1,0].hist(fullint_trace['b'][:,1,0,1], bins = np.arange(-1, 1.1, 0.1))\n",
    "axs[1,0].set_title('Red/FrJ/AmW')\n",
    "axs[2,0].hist(fullint_trace['b'][:,1,1,0], bins = np.arange(-1, 1.1, 0.1))\n",
    "axs[2,0].set_title('Red/AmJ/FrW')\n",
    "axs[3,0].hist(fullint_trace['b'][:,1,0,0], bins = np.arange(-1, 1.1, 0.1))\n",
    "axs[3,0].set_title('Red/FrJ/FrW')\n",
    "axs[0,1].hist(fullint_trace['b'][:,0,1,1], bins = np.arange(-1, 1.1, 0.1))\n",
    "axs[0,1].set_title('White/AmJ/AmW')\n",
    "axs[1,1].hist(fullint_trace['b'][:,0,0,1], bins = np.arange(-1, 1.1, 0.1))\n",
    "axs[1,1].set_title('White/FrJ/AmW')\n",
    "axs[2,1].hist(fullint_trace['b'][:,0,1,0], bins = np.arange(-1, 1.1, 0.1))\n",
    "axs[2,1].set_title('White/AmJ/FrW')\n",
    "axs[3,1].hist(fullint_trace['b'][:,0,0,0], bins = np.arange(-1, 1.1, 0.1))\n",
    "axs[3,1].set_title('White/FrJ/FrW')\n",
    "\n",
    "# Predictions from the previous model\n",
    "axs[0,0].hist(RAA, bins = np.arange(-1, 1.1, 0.1), color = 'gray', alpha = 0.3)\n",
    "axs[1,0].hist(RFA, bins = np.arange(-1, 1.1, 0.1), color = 'gray', alpha = 0.3)\n",
    "axs[2,0].hist(RAF, bins = np.arange(-1, 1.1, 0.1), color = 'gray', alpha = 0.3)\n",
    "axs[3,0].hist(RFF, bins = np.arange(-1, 1.1, 0.1), color = 'gray', alpha = 0.3)\n",
    "axs[0,1].hist(WAA, bins = np.arange(-1, 1.1, 0.1), color = 'gray', alpha = 0.3)\n",
    "axs[1,1].hist(WFA, bins = np.arange(-1, 1.1, 0.1), color = 'gray', alpha = 0.3)\n",
    "axs[2,1].hist(WAF, bins = np.arange(-1, 1.1, 0.1), color = 'gray', alpha = 0.3)\n",
    "axs[3,1].hist(WFF, bins = np.arange(-1, 1.1, 0.1), color = 'gray', alpha = 0.3)\n",
    "\n",
    "plt.show()"
   ]
  },
  {
   "cell_type": "markdown",
   "metadata": {},
   "source": [
    "The biggest difference is that the White/French/French predicted score is lower in this model. Why? The previous model is artificially \"centered\" on White/French/French. \n",
    "In the previous model, White/French/French corresponds to all the indicator variables being zero, so we just have\n",
    "$$ \\hat y = \\alpha $$\n",
    "and since our outcomes are standardized, we should generally have $\\alpha = 0$. This has, in a way, positioned White/French/French artificially as a \"default\", with all wines measured relative to it.\n",
    "\n",
    "In this model, every combination of traits gets its own parameter, and so they can vary freely."
   ]
  }
 ],
 "metadata": {
  "kernelspec": {
   "display_name": "Python 3",
   "language": "python",
   "name": "python3"
  },
  "language_info": {
   "codemirror_mode": {
    "name": "ipython",
    "version": 3
   },
   "file_extension": ".py",
   "mimetype": "text/x-python",
   "name": "python",
   "nbconvert_exporter": "python",
   "pygments_lexer": "ipython3",
   "version": "3.8.8"
  }
 },
 "nbformat": 4,
 "nbformat_minor": 4
}
