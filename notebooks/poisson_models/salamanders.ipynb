{
 "cells": [
  {
   "cell_type": "markdown",
   "id": "14425175-1f15-4cd6-bdc6-4428193157a6",
   "metadata": {},
   "source": [
    "# Interactions and varying intercepts in a Poisson GLM"
   ]
  },
  {
   "cell_type": "code",
   "execution_count": 1,
   "id": "225487d4-5a51-461a-b522-b0f4f7e6d2b5",
   "metadata": {},
   "outputs": [],
   "source": [
    "import numpy as np\n",
    "import scipy as sp\n",
    "import pandas as pd\n",
    "import pymc3 as pm\n",
    "import arviz as az\n",
    "import matplotlib.pyplot as plt\n",
    "import time"
   ]
  },
  {
   "cell_type": "code",
   "execution_count": 2,
   "id": "1156d1c4-7219-4bd6-9e65-b44914fd19f4",
   "metadata": {},
   "outputs": [],
   "source": [
    "tic = time.time()"
   ]
  },
  {
   "cell_type": "markdown",
   "id": "9b3d806a-41a1-4338-94f1-e92e2e2b1023",
   "metadata": {},
   "source": [
    "### Overview\n",
    "\n",
    "This example is derived from an exercise in *Statistical Rethinking*, 2nd ed., by Richard McElreath.\n",
    "\n",
    "The following data set comes from a survey of 47 plots of Northern California forest land. The survey is intended to count salamanders in each plot, and determine the effect of the physical properties of the forest on the presence of salamanders. The data set is below; the outcome variable `SALAMAN` is the number of salamanders counted in each plot. `PCTCOVER` is the percentage of ground covered by plants, and `FORESTAGE` is the average age of trees in the plot. We scale both variables; the percentage is scaled to a proportion scale (0 to 1) and the forest age is standardized."
   ]
  },
  {
   "cell_type": "code",
   "execution_count": 3,
   "id": "de5fd7bf-74e9-4845-8b75-556eb9b0b118",
   "metadata": {},
   "outputs": [
    {
     "data": {
      "text/html": [
       "<div>\n",
       "<style scoped>\n",
       "    .dataframe tbody tr th:only-of-type {\n",
       "        vertical-align: middle;\n",
       "    }\n",
       "\n",
       "    .dataframe tbody tr th {\n",
       "        vertical-align: top;\n",
       "    }\n",
       "\n",
       "    .dataframe thead th {\n",
       "        text-align: right;\n",
       "    }\n",
       "</style>\n",
       "<table border=\"1\" class=\"dataframe\">\n",
       "  <thead>\n",
       "    <tr style=\"text-align: right;\">\n",
       "      <th></th>\n",
       "      <th>SALAMAN</th>\n",
       "      <th>PCTCOVER</th>\n",
       "      <th>FORESTAGE</th>\n",
       "    </tr>\n",
       "    <tr>\n",
       "      <th>SITE</th>\n",
       "      <th></th>\n",
       "      <th></th>\n",
       "      <th></th>\n",
       "    </tr>\n",
       "  </thead>\n",
       "  <tbody>\n",
       "    <tr>\n",
       "      <th>1</th>\n",
       "      <td>13</td>\n",
       "      <td>0.85</td>\n",
       "      <td>0.760627</td>\n",
       "    </tr>\n",
       "    <tr>\n",
       "      <th>2</th>\n",
       "      <td>11</td>\n",
       "      <td>0.86</td>\n",
       "      <td>-0.417586</td>\n",
       "    </tr>\n",
       "    <tr>\n",
       "      <th>3</th>\n",
       "      <td>11</td>\n",
       "      <td>0.90</td>\n",
       "      <td>1.959512</td>\n",
       "    </tr>\n",
       "    <tr>\n",
       "      <th>4</th>\n",
       "      <td>9</td>\n",
       "      <td>0.88</td>\n",
       "      <td>-0.541609</td>\n",
       "    </tr>\n",
       "    <tr>\n",
       "      <th>5</th>\n",
       "      <td>8</td>\n",
       "      <td>0.89</td>\n",
       "      <td>-0.650129</td>\n",
       "    </tr>\n",
       "  </tbody>\n",
       "</table>\n",
       "</div>"
      ],
      "text/plain": [
       "      SALAMAN  PCTCOVER  FORESTAGE\n",
       "SITE                              \n",
       "1          13      0.85   0.760627\n",
       "2          11      0.86  -0.417586\n",
       "3          11      0.90   1.959512\n",
       "4           9      0.88  -0.541609\n",
       "5           8      0.89  -0.650129"
      ]
     },
     "execution_count": 3,
     "metadata": {},
     "output_type": "execute_result"
    }
   ],
   "source": [
    "salamanders = pd.read_csv('../../data/salamanders.csv', sep=';', index_col = 0)\n",
    "salamanders['PCTCOVER'] = salamanders['PCTCOVER'] / 100\n",
    "salamanders['FORESTAGE'] = (salamanders['FORESTAGE'] - salamanders['FORESTAGE'].mean()) / salamanders['FORESTAGE'].std()\n",
    "salamanders.head()"
   ]
  },
  {
   "cell_type": "markdown",
   "id": "3a68450a-6b75-4af8-9273-1c86abf88a5e",
   "metadata": {},
   "source": [
    "A simple DAG for the relationship between age, coverage, and salamanders suggests that forest age is a potential \"fork\" confound -- forest age presumably influences ground cover (positively), and may conceivably influence the presence of salamanders (direction unclear). So, our initial model conditions on age to block this confound.\n",
    "\n",
    "The model is a simple Poisson GLM with log link:\n",
    "$$\n",
    "\\begin{align*}\n",
    "y_i &\\sim \\mathrm{Poisson}(\\lambda_i) \\\\\n",
    "\\log \\lambda_i &= \\alpha + \\beta_A A_i + \\beta_C C_i \\\\\n",
    "\\alpha &\\sim \\mathrm{Normal}(0, 1) \\\\\n",
    "\\beta_A &\\sim \\mathrm{Normal}(0, 1) \\\\\n",
    "\\beta_C &\\sim \\mathrm{Normal}(0, 1) \n",
    "\\end{align*}\n",
    "$$"
   ]
  },
  {
   "cell_type": "code",
   "execution_count": 4,
   "id": "116f6a47-6697-47b7-a9bc-a01ab267de65",
   "metadata": {},
   "outputs": [
    {
     "name": "stderr",
     "output_type": "stream",
     "text": [
      "<ipython-input-4-0f6a71d2041c>:12: FutureWarning: In v4.0, pm.sample will return an `arviz.InferenceData` object instead of a `MultiTrace` by default. You can pass return_inferencedata=True or return_inferencedata=False to be safe and silence this warning.\n",
      "  age_trace = pm.sample()\n",
      "Auto-assigning NUTS sampler...\n",
      "Initializing NUTS using jitter+adapt_diag...\n",
      "Multiprocess sampling (4 chains in 4 jobs)\n",
      "NUTS: [bage, bcov, alpha]\n"
     ]
    },
    {
     "data": {
      "text/html": [
       "\n",
       "    <div>\n",
       "        <style>\n",
       "            /* Turns off some styling */\n",
       "            progress {\n",
       "                /* gets rid of default border in Firefox and Opera. */\n",
       "                border: none;\n",
       "                /* Needs to be in here for Safari polyfill so background images work as expected. */\n",
       "                background-size: auto;\n",
       "            }\n",
       "            .progress-bar-interrupted, .progress-bar-interrupted::-webkit-progress-bar {\n",
       "                background: #F44336;\n",
       "            }\n",
       "        </style>\n",
       "      <progress value='8000' class='' max='8000' style='width:300px; height:20px; vertical-align: middle;'></progress>\n",
       "      100.00% [8000/8000 00:03<00:00 Sampling 4 chains, 0 divergences]\n",
       "    </div>\n",
       "    "
      ],
      "text/plain": [
       "<IPython.core.display.HTML object>"
      ]
     },
     "metadata": {},
     "output_type": "display_data"
    },
    {
     "name": "stderr",
     "output_type": "stream",
     "text": [
      "Sampling 4 chains for 1_000 tune and 1_000 draw iterations (4_000 + 4_000 draws total) took 4 seconds.\n"
     ]
    },
    {
     "data": {
      "text/html": [
       "\n",
       "    <div>\n",
       "        <style>\n",
       "            /* Turns off some styling */\n",
       "            progress {\n",
       "                /* gets rid of default border in Firefox and Opera. */\n",
       "                border: none;\n",
       "                /* Needs to be in here for Safari polyfill so background images work as expected. */\n",
       "                background-size: auto;\n",
       "            }\n",
       "            .progress-bar-interrupted, .progress-bar-interrupted::-webkit-progress-bar {\n",
       "                background: #F44336;\n",
       "            }\n",
       "        </style>\n",
       "      <progress value='4000' class='' max='4000' style='width:300px; height:20px; vertical-align: middle;'></progress>\n",
       "      100.00% [4000/4000 00:02<00:00]\n",
       "    </div>\n",
       "    "
      ],
      "text/plain": [
       "<IPython.core.display.HTML object>"
      ]
     },
     "metadata": {},
     "output_type": "display_data"
    }
   ],
   "source": [
    "with pm.Model() as age_model:\n",
    "    alpha = pm.Normal('alpha', 0, 1)\n",
    "    bcov = pm.Normal('bcov', 0, 1)\n",
    "    bage = pm.Normal('bage', 0, 1)\n",
    "    \n",
    "    rate = pm.Deterministic('rate', \n",
    "                            pm.math.exp(alpha \n",
    "                                        + bage * salamanders['FORESTAGE']\n",
    "                                        + bcov * salamanders['PCTCOVER']))\n",
    "    \n",
    "    y_ = pm.Poisson('y', rate, observed = salamanders['SALAMAN'])\n",
    "    age_trace = pm.sample()\n",
    "    rate_summary = az.summary(age_trace, var_names = ['rate'])  # Summary including rates per plot\n",
    "    coef_summary = az.summary(age_trace, var_names = ['alpha', 'bcov', 'bage']) # Only the model coefficients\n",
    "    age_repl = pm.sample_posterior_predictive(age_trace)"
   ]
  },
  {
   "cell_type": "code",
   "execution_count": 5,
   "id": "1e88486b-cba0-493f-ad41-51ebf9b478e8",
   "metadata": {},
   "outputs": [
    {
     "data": {
      "text/html": [
       "<div>\n",
       "<style scoped>\n",
       "    .dataframe tbody tr th:only-of-type {\n",
       "        vertical-align: middle;\n",
       "    }\n",
       "\n",
       "    .dataframe tbody tr th {\n",
       "        vertical-align: top;\n",
       "    }\n",
       "\n",
       "    .dataframe thead th {\n",
       "        text-align: right;\n",
       "    }\n",
       "</style>\n",
       "<table border=\"1\" class=\"dataframe\">\n",
       "  <thead>\n",
       "    <tr style=\"text-align: right;\">\n",
       "      <th></th>\n",
       "      <th>mean</th>\n",
       "      <th>sd</th>\n",
       "      <th>hdi_3%</th>\n",
       "      <th>hdi_97%</th>\n",
       "      <th>mcse_mean</th>\n",
       "      <th>mcse_sd</th>\n",
       "      <th>ess_bulk</th>\n",
       "      <th>ess_tail</th>\n",
       "      <th>r_hat</th>\n",
       "    </tr>\n",
       "  </thead>\n",
       "  <tbody>\n",
       "    <tr>\n",
       "      <th>alpha</th>\n",
       "      <td>-0.856</td>\n",
       "      <td>0.330</td>\n",
       "      <td>-1.458</td>\n",
       "      <td>-0.214</td>\n",
       "      <td>0.009</td>\n",
       "      <td>0.006</td>\n",
       "      <td>1329.0</td>\n",
       "      <td>1798.0</td>\n",
       "      <td>1.0</td>\n",
       "    </tr>\n",
       "    <tr>\n",
       "      <th>bcov</th>\n",
       "      <td>2.441</td>\n",
       "      <td>0.416</td>\n",
       "      <td>1.703</td>\n",
       "      <td>3.278</td>\n",
       "      <td>0.012</td>\n",
       "      <td>0.008</td>\n",
       "      <td>1300.0</td>\n",
       "      <td>1788.0</td>\n",
       "      <td>1.0</td>\n",
       "    </tr>\n",
       "    <tr>\n",
       "      <th>bage</th>\n",
       "      <td>0.049</td>\n",
       "      <td>0.098</td>\n",
       "      <td>-0.135</td>\n",
       "      <td>0.228</td>\n",
       "      <td>0.002</td>\n",
       "      <td>0.002</td>\n",
       "      <td>1605.0</td>\n",
       "      <td>1629.0</td>\n",
       "      <td>1.0</td>\n",
       "    </tr>\n",
       "  </tbody>\n",
       "</table>\n",
       "</div>"
      ],
      "text/plain": [
       "        mean     sd  hdi_3%  hdi_97%  mcse_mean  mcse_sd  ess_bulk  ess_tail  \\\n",
       "alpha -0.856  0.330  -1.458   -0.214      0.009    0.006    1329.0    1798.0   \n",
       "bcov   2.441  0.416   1.703    3.278      0.012    0.008    1300.0    1788.0   \n",
       "bage   0.049  0.098  -0.135    0.228      0.002    0.002    1605.0    1629.0   \n",
       "\n",
       "       r_hat  \n",
       "alpha    1.0  \n",
       "bcov     1.0  \n",
       "bage     1.0  "
      ]
     },
     "execution_count": 5,
     "metadata": {},
     "output_type": "execute_result"
    }
   ],
   "source": [
    "coef_summary"
   ]
  },
  {
   "cell_type": "code",
   "execution_count": 6,
   "id": "5e1c242f-a2a5-4cff-830f-cdc13e73a0cb",
   "metadata": {},
   "outputs": [
    {
     "data": {
      "image/png": "[encoded data removed]",
      "text/plain": [
       "<Figure size 1440x720 with 2 Axes>"
      ]
     },
     "metadata": {
      "needs_background": "light"
     },
     "output_type": "display_data"
    }
   ],
   "source": [
    "fig, axs = plt.subplots(1,2, figsize=(20, 10))\n",
    "\n",
    "# Plot posterior means\n",
    "axs[0].plot(range(47), salamanders['SALAMAN'], 'ko', label = 'observed values')\n",
    "axs[0].plot(range(47), rate_summary['mean'], 'bo', label = 'posterior mean')\n",
    "axs[0].set_title('Posterior mean estimates')\n",
    "axs[0].legend()\n",
    "axs[0].set_ylabel('Salamander count', size=14)\n",
    "axs[0].set_xlabel('Plot number', size=14)\n",
    "\n",
    "# Plot posterior predictive samples\n",
    "axs[1].plot(range(47), salamanders['SALAMAN'], 'ko', label = 'observed values')\n",
    "for i in range(100):\n",
    "    axs[1].plot(range(47), age_repl['y'][i, :], 'b.', alpha = 0.05)\n",
    "axs[1].plot(range(47), age_repl['y'][101, :], 'b.', alpha = 0.05, label = 'posterior predictive')\n",
    "axs[1].set_ylabel('Salamander count', size=14)\n",
    "axs[1].set_xlabel('Plot number', size=14)\n",
    "axs[1].legend()\n",
    "\n",
    "plt.show()"
   ]
  },
  {
   "cell_type": "markdown",
   "id": "e966435d-364b-406e-af00-17e28e027f87",
   "metadata": {},
   "source": [
    "The point estimates and posterior predictions are way off the observed data. As a result, we can't really trust these coefficient estimates. One thing we could add to the model is an interaction between cover and age. It's a long shot that this will fix all of the predictive problems, but it may reveal some interesting features. The new model is:\n",
    "\n",
    "$$\n",
    "\\begin{align*}\n",
    "y_i &\\sim \\mathrm{Poisson}(\\lambda_i) \\\\\n",
    "\\log \\lambda_i &= \\alpha + \\beta_A A_i + \\beta_C C_i + \\beta_{A, C} A_i C_i \\\\\n",
    "\\alpha &\\sim \\mathrm{Normal}(0, 1) \\\\\n",
    "\\beta_A &\\sim \\mathrm{Normal}(0, 1) \\\\\n",
    "\\beta_C &\\sim \\mathrm{Normal}(0, 1) \\\\\n",
    "\\beta_{A, C} &\\sim \\mathrm{Normal}(0, 0.5)\n",
    "\\end{align*}\n",
    "$$"
   ]
  },
  {
   "cell_type": "code",
   "execution_count": 7,
   "id": "1afcc891-c485-4f0b-a674-8bd7e6c5b083",
   "metadata": {},
   "outputs": [
    {
     "name": "stderr",
     "output_type": "stream",
     "text": [
      "<ipython-input-7-96975ac7ad8d>:14: FutureWarning: In v4.0, pm.sample will return an `arviz.InferenceData` object instead of a `MultiTrace` by default. You can pass return_inferencedata=True or return_inferencedata=False to be safe and silence this warning.\n",
      "  int_trace = pm.sample(target_accept = 0.95)\n",
      "Auto-assigning NUTS sampler...\n",
      "Initializing NUTS using jitter+adapt_diag...\n",
      "Multiprocess sampling (4 chains in 4 jobs)\n",
      "NUTS: [bint, bage, bcov, alpha]\n"
     ]
    },
    {
     "data": {
      "text/html": [
       "\n",
       "    <div>\n",
       "        <style>\n",
       "            /* Turns off some styling */\n",
       "            progress {\n",
       "                /* gets rid of default border in Firefox and Opera. */\n",
       "                border: none;\n",
       "                /* Needs to be in here for Safari polyfill so background images work as expected. */\n",
       "                background-size: auto;\n",
       "            }\n",
       "            .progress-bar-interrupted, .progress-bar-interrupted::-webkit-progress-bar {\n",
       "                background: #F44336;\n",
       "            }\n",
       "        </style>\n",
       "      <progress value='8000' class='' max='8000' style='width:300px; height:20px; vertical-align: middle;'></progress>\n",
       "      100.00% [8000/8000 00:06<00:00 Sampling 4 chains, 0 divergences]\n",
       "    </div>\n",
       "    "
      ],
      "text/plain": [
       "<IPython.core.display.HTML object>"
      ]
     },
     "metadata": {},
     "output_type": "display_data"
    },
    {
     "name": "stderr",
     "output_type": "stream",
     "text": [
      "Sampling 4 chains for 1_000 tune and 1_000 draw iterations (4_000 + 4_000 draws total) took 7 seconds.\n"
     ]
    },
    {
     "data": {
      "text/html": [
       "\n",
       "    <div>\n",
       "        <style>\n",
       "            /* Turns off some styling */\n",
       "            progress {\n",
       "                /* gets rid of default border in Firefox and Opera. */\n",
       "                border: none;\n",
       "                /* Needs to be in here for Safari polyfill so background images work as expected. */\n",
       "                background-size: auto;\n",
       "            }\n",
       "            .progress-bar-interrupted, .progress-bar-interrupted::-webkit-progress-bar {\n",
       "                background: #F44336;\n",
       "            }\n",
       "        </style>\n",
       "      <progress value='4000' class='' max='4000' style='width:300px; height:20px; vertical-align: middle;'></progress>\n",
       "      100.00% [4000/4000 00:02<00:00]\n",
       "    </div>\n",
       "    "
      ],
      "text/plain": [
       "<IPython.core.display.HTML object>"
      ]
     },
     "metadata": {},
     "output_type": "display_data"
    }
   ],
   "source": [
    "with pm.Model() as interaction_model:\n",
    "    alpha = pm.Normal('alpha', 0, 1)\n",
    "    bcov = pm.Normal('bcov', 0, 1)\n",
    "    bage = pm.Normal('bage', 0, 1)\n",
    "    bint = pm.Normal('bint', 0, 0.5)\n",
    "    \n",
    "    rate = pm.Deterministic('rate', \n",
    "                            pm.math.exp(alpha \n",
    "                                        + bcov * salamanders['PCTCOVER'] \n",
    "                                        + bage * salamanders['FORESTAGE']\n",
    "                                        + bint * salamanders['PCTCOVER'] * salamanders['FORESTAGE']))\n",
    "    \n",
    "    y_ = pm.Poisson('y', rate, observed = salamanders['SALAMAN'])\n",
    "    int_trace = pm.sample(target_accept = 0.95)\n",
    "    rate_summary = az.summary(int_trace, var_names = ['rate'])\n",
    "    coef_summary = az.summary(int_trace, var_names = ['alpha', 'bcov', 'bage', 'bint'])\n",
    "    int_repl = pm.sample_posterior_predictive(int_trace)"
   ]
  },
  {
   "cell_type": "code",
   "execution_count": 8,
   "id": "4eacbdcd-37b1-489a-a3e5-b6307f663447",
   "metadata": {},
   "outputs": [
    {
     "data": {
      "text/html": [
       "<div>\n",
       "<style scoped>\n",
       "    .dataframe tbody tr th:only-of-type {\n",
       "        vertical-align: middle;\n",
       "    }\n",
       "\n",
       "    .dataframe tbody tr th {\n",
       "        vertical-align: top;\n",
       "    }\n",
       "\n",
       "    .dataframe thead th {\n",
       "        text-align: right;\n",
       "    }\n",
       "</style>\n",
       "<table border=\"1\" class=\"dataframe\">\n",
       "  <thead>\n",
       "    <tr style=\"text-align: right;\">\n",
       "      <th></th>\n",
       "      <th>mean</th>\n",
       "      <th>sd</th>\n",
       "      <th>hdi_3%</th>\n",
       "      <th>hdi_97%</th>\n",
       "      <th>mcse_mean</th>\n",
       "      <th>mcse_sd</th>\n",
       "      <th>ess_bulk</th>\n",
       "      <th>ess_tail</th>\n",
       "      <th>r_hat</th>\n",
       "    </tr>\n",
       "  </thead>\n",
       "  <tbody>\n",
       "    <tr>\n",
       "      <th>alpha</th>\n",
       "      <td>-0.714</td>\n",
       "      <td>0.361</td>\n",
       "      <td>-1.442</td>\n",
       "      <td>-0.075</td>\n",
       "      <td>0.010</td>\n",
       "      <td>0.007</td>\n",
       "      <td>1225.0</td>\n",
       "      <td>1524.0</td>\n",
       "      <td>1.01</td>\n",
       "    </tr>\n",
       "    <tr>\n",
       "      <th>bcov</th>\n",
       "      <td>2.290</td>\n",
       "      <td>0.438</td>\n",
       "      <td>1.465</td>\n",
       "      <td>3.125</td>\n",
       "      <td>0.012</td>\n",
       "      <td>0.009</td>\n",
       "      <td>1250.0</td>\n",
       "      <td>1536.0</td>\n",
       "      <td>1.01</td>\n",
       "    </tr>\n",
       "    <tr>\n",
       "      <th>bage</th>\n",
       "      <td>0.332</td>\n",
       "      <td>0.345</td>\n",
       "      <td>-0.272</td>\n",
       "      <td>1.041</td>\n",
       "      <td>0.010</td>\n",
       "      <td>0.007</td>\n",
       "      <td>1140.0</td>\n",
       "      <td>1218.0</td>\n",
       "      <td>1.00</td>\n",
       "    </tr>\n",
       "    <tr>\n",
       "      <th>bint</th>\n",
       "      <td>-0.330</td>\n",
       "      <td>0.388</td>\n",
       "      <td>-1.090</td>\n",
       "      <td>0.368</td>\n",
       "      <td>0.011</td>\n",
       "      <td>0.008</td>\n",
       "      <td>1142.0</td>\n",
       "      <td>1205.0</td>\n",
       "      <td>1.00</td>\n",
       "    </tr>\n",
       "  </tbody>\n",
       "</table>\n",
       "</div>"
      ],
      "text/plain": [
       "        mean     sd  hdi_3%  hdi_97%  mcse_mean  mcse_sd  ess_bulk  ess_tail  \\\n",
       "alpha -0.714  0.361  -1.442   -0.075      0.010    0.007    1225.0    1524.0   \n",
       "bcov   2.290  0.438   1.465    3.125      0.012    0.009    1250.0    1536.0   \n",
       "bage   0.332  0.345  -0.272    1.041      0.010    0.007    1140.0    1218.0   \n",
       "bint  -0.330  0.388  -1.090    0.368      0.011    0.008    1142.0    1205.0   \n",
       "\n",
       "       r_hat  \n",
       "alpha   1.01  \n",
       "bcov    1.01  \n",
       "bage    1.00  \n",
       "bint    1.00  "
      ]
     },
     "execution_count": 8,
     "metadata": {},
     "output_type": "execute_result"
    }
   ],
   "source": [
    "coef_summary"
   ]
  },
  {
   "cell_type": "markdown",
   "id": "7a9fc7b5-6ee0-44d1-b7e1-1d5eca7255ae",
   "metadata": {},
   "source": [
    "As we see below, this hasn't improved the problem with the posterior estimates. But the interaction slope is interesting. We note that it is approximately equal and opposite to the slope of `FORESTAGE`. Since `PCTCOVER` is on a scale from 0 to 1, we can try to interpret this by considering the endpoints `PCTCOVER = 0` and `PCTCOVER = 1`. When ground coverage is zero, the interaction has no effect; when ground coverage is 1, the interaction cancels the effect of age. In other words, for plots where coverage is high, the local age of trees does not carry useful information for predicting salamanders; for plots where coverage is low, the age of trees is positively associated with salamanders."
   ]
  },
  {
   "cell_type": "code",
   "execution_count": 9,
   "id": "52e65b5b-1523-48c6-b2e3-15e4de665b95",
   "metadata": {},
   "outputs": [
    {
     "data": {
      "image/png": "[encoded data removed]",
      "text/plain": [
       "<Figure size 1440x720 with 2 Axes>"
      ]
     },
     "metadata": {
      "needs_background": "light"
     },
     "output_type": "display_data"
    }
   ],
   "source": [
    "fig, axs = plt.subplots(1,2, figsize=(20, 10))\n",
    "\n",
    "# Plot posterior means\n",
    "axs[0].plot(range(47), salamanders['SALAMAN'], 'ko', label = 'observed values')\n",
    "axs[0].plot(range(47), rate_summary['mean'], 'bo', label = 'posterior mean')\n",
    "axs[0].set_title('Posterior mean estimates')\n",
    "axs[0].legend()\n",
    "axs[0].set_ylabel('Salamander count', size=14)\n",
    "axs[0].set_xlabel('Plot number', size=14)\n",
    "\n",
    "# Plot posterior predictive samples\n",
    "axs[1].plot(range(47), salamanders['SALAMAN'], 'ko', label = 'observed values')\n",
    "for i in range(100):\n",
    "    axs[1].plot(range(47), int_repl['y'][i, :], 'b.', alpha = 0.05)\n",
    "axs[1].plot(range(47), int_repl['y'][101, :], 'b.', alpha = 0.05, label = 'posterior predictive')\n",
    "axs[1].set_ylabel('Salamander count', size=14)\n",
    "axs[1].set_xlabel('Plot number', size=14)\n",
    "axs[1].legend()\n",
    "\n",
    "plt.show()"
   ]
  },
  {
   "cell_type": "markdown",
   "id": "5609c5f3-8ee2-46a3-883c-c3a5fe665f9a",
   "metadata": {},
   "source": [
    "To help understand this interaction, it is useful to visualize the relationship between forest age and ground cover."
   ]
  },
  {
   "cell_type": "code",
   "execution_count": 10,
   "id": "44242f1b-f4df-4805-87a0-7c9a3377c5b8",
   "metadata": {},
   "outputs": [
    {
     "data": {
      "image/png": "[encoded data removed]",
      "text/plain": [
       "<Figure size 576x432 with 1 Axes>"
      ]
     },
     "metadata": {
      "needs_background": "light"
     },
     "output_type": "display_data"
    }
   ],
   "source": [
    "plt.figure(figsize=(8, 6))\n",
    "plt.plot(salamanders['FORESTAGE'], salamanders['PCTCOVER'], 'o')\n",
    "plt.xlabel('Forest age (std)', size=14)\n",
    "plt.ylabel('Percent ground cover', size=14)\n",
    "plt.show()"
   ]
  },
  {
   "cell_type": "markdown",
   "id": "360f8f90-ed84-4870-b4a4-2386866ce015",
   "metadata": {},
   "source": [
    "The forest plots split into two clusters. One cluster has consistently high coverage (80-90%) and no apparent association between forest age and coverage. The other cluster has lower coverage, low age, and a clear positive association between these two variables. A natural hypothesis is that the first cluster consists of locations that have reached an ecological steady state, while in the second cluster the forest is in active growth. Although the cause for this is not stated in the data, a plausible explanation is that the plots in the second cluster have recently burned in wildfires (remember, this is Northern California!) and are in the process of recovering.\n",
    "\n",
    "This is somewhat ad-hoc, but the clusters are clear enough that we can assign cluster membership by hand. This allows us to split the model into two, conditional on cluster membership, which may illuminate the nature of this interaction."
   ]
  },
  {
   "cell_type": "code",
   "execution_count": 11,
   "id": "34b7145b-daf7-45b0-b4d7-75f16918bbb0",
   "metadata": {},
   "outputs": [],
   "source": [
    "burned = (salamanders['PCTCOVER'] < 0.7).astype(np.int64)"
   ]
  },
  {
   "cell_type": "code",
   "execution_count": 12,
   "id": "b2ad9c07-2803-4d19-aadc-2fb0d00c45fd",
   "metadata": {},
   "outputs": [
    {
     "name": "stderr",
     "output_type": "stream",
     "text": [
      "<ipython-input-12-a11e4ba40dbc>:14: FutureWarning: In v4.0, pm.sample will return an `arviz.InferenceData` object instead of a `MultiTrace` by default. You can pass return_inferencedata=True or return_inferencedata=False to be safe and silence this warning.\n",
      "  full_int_trace = pm.sample(target_accept = 0.95)\n",
      "Auto-assigning NUTS sampler...\n",
      "Initializing NUTS using jitter+adapt_diag...\n",
      "Multiprocess sampling (4 chains in 4 jobs)\n",
      "NUTS: [bint, bage, bcov, alpha]\n"
     ]
    },
    {
     "data": {
      "text/html": [
       "\n",
       "    <div>\n",
       "        <style>\n",
       "            /* Turns off some styling */\n",
       "            progress {\n",
       "                /* gets rid of default border in Firefox and Opera. */\n",
       "                border: none;\n",
       "                /* Needs to be in here for Safari polyfill so background images work as expected. */\n",
       "                background-size: auto;\n",
       "            }\n",
       "            .progress-bar-interrupted, .progress-bar-interrupted::-webkit-progress-bar {\n",
       "                background: #F44336;\n",
       "            }\n",
       "        </style>\n",
       "      <progress value='8000' class='' max='8000' style='width:300px; height:20px; vertical-align: middle;'></progress>\n",
       "      100.00% [8000/8000 00:15<00:00 Sampling 4 chains, 0 divergences]\n",
       "    </div>\n",
       "    "
      ],
      "text/plain": [
       "<IPython.core.display.HTML object>"
      ]
     },
     "metadata": {},
     "output_type": "display_data"
    },
    {
     "name": "stderr",
     "output_type": "stream",
     "text": [
      "Sampling 4 chains for 1_000 tune and 1_000 draw iterations (4_000 + 4_000 draws total) took 15 seconds.\n"
     ]
    },
    {
     "data": {
      "text/html": [
       "\n",
       "    <div>\n",
       "        <style>\n",
       "            /* Turns off some styling */\n",
       "            progress {\n",
       "                /* gets rid of default border in Firefox and Opera. */\n",
       "                border: none;\n",
       "                /* Needs to be in here for Safari polyfill so background images work as expected. */\n",
       "                background-size: auto;\n",
       "            }\n",
       "            .progress-bar-interrupted, .progress-bar-interrupted::-webkit-progress-bar {\n",
       "                background: #F44336;\n",
       "            }\n",
       "        </style>\n",
       "      <progress value='4000' class='' max='4000' style='width:300px; height:20px; vertical-align: middle;'></progress>\n",
       "      100.00% [4000/4000 00:02<00:00]\n",
       "    </div>\n",
       "    "
      ],
      "text/plain": [
       "<IPython.core.display.HTML object>"
      ]
     },
     "metadata": {},
     "output_type": "display_data"
    }
   ],
   "source": [
    "with pm.Model() as full_interaction_model:\n",
    "    alpha = pm.Normal('alpha', 0, 1, shape=2)\n",
    "    bcov = pm.Normal('bcov', 0, 1, shape=2)\n",
    "    bage = pm.Normal('bage', 0, 1, shape=2)\n",
    "    bint = pm.Normal('bint', 0, 0.5, shape=2)\n",
    "    \n",
    "    rate = pm.Deterministic('rate', \n",
    "                            pm.math.exp(alpha[burned] \n",
    "                                        + bcov[burned] * salamanders['PCTCOVER'] \n",
    "                                        + bage[burned] * salamanders['FORESTAGE']\n",
    "                                        + bint[burned] * salamanders['PCTCOVER'] * salamanders['FORESTAGE']))\n",
    "    \n",
    "    y_ = pm.Poisson('y', rate, observed = salamanders['SALAMAN'])\n",
    "    full_int_trace = pm.sample(target_accept = 0.95)\n",
    "    rate_summary = az.summary(full_int_trace, var_names = ['rate'])\n",
    "    coef_summary = az.summary(full_int_trace, var_names = ['alpha', 'bcov', 'bage', 'bint'])\n",
    "    full_int_repl = pm.sample_posterior_predictive(full_int_trace)"
   ]
  },
  {
   "cell_type": "code",
   "execution_count": 13,
   "id": "dbf3b1c0-adf3-4af4-935c-68a6c7484ba8",
   "metadata": {},
   "outputs": [
    {
     "data": {
      "text/html": [
       "<div>\n",
       "<style scoped>\n",
       "    .dataframe tbody tr th:only-of-type {\n",
       "        vertical-align: middle;\n",
       "    }\n",
       "\n",
       "    .dataframe tbody tr th {\n",
       "        vertical-align: top;\n",
       "    }\n",
       "\n",
       "    .dataframe thead th {\n",
       "        text-align: right;\n",
       "    }\n",
       "</style>\n",
       "<table border=\"1\" class=\"dataframe\">\n",
       "  <thead>\n",
       "    <tr style=\"text-align: right;\">\n",
       "      <th></th>\n",
       "      <th>mean</th>\n",
       "      <th>sd</th>\n",
       "      <th>hdi_3%</th>\n",
       "      <th>hdi_97%</th>\n",
       "      <th>mcse_mean</th>\n",
       "      <th>mcse_sd</th>\n",
       "      <th>ess_bulk</th>\n",
       "      <th>ess_tail</th>\n",
       "      <th>r_hat</th>\n",
       "    </tr>\n",
       "  </thead>\n",
       "  <tbody>\n",
       "    <tr>\n",
       "      <th>alpha[0]</th>\n",
       "      <td>0.496</td>\n",
       "      <td>0.627</td>\n",
       "      <td>-0.670</td>\n",
       "      <td>1.605</td>\n",
       "      <td>0.013</td>\n",
       "      <td>0.010</td>\n",
       "      <td>2419.0</td>\n",
       "      <td>2075.0</td>\n",
       "      <td>1.0</td>\n",
       "    </tr>\n",
       "    <tr>\n",
       "      <th>alpha[1]</th>\n",
       "      <td>-0.654</td>\n",
       "      <td>0.636</td>\n",
       "      <td>-1.806</td>\n",
       "      <td>0.542</td>\n",
       "      <td>0.013</td>\n",
       "      <td>0.009</td>\n",
       "      <td>2547.0</td>\n",
       "      <td>2216.0</td>\n",
       "      <td>1.0</td>\n",
       "    </tr>\n",
       "    <tr>\n",
       "      <th>bcov[0]</th>\n",
       "      <td>0.962</td>\n",
       "      <td>0.721</td>\n",
       "      <td>-0.305</td>\n",
       "      <td>2.330</td>\n",
       "      <td>0.015</td>\n",
       "      <td>0.011</td>\n",
       "      <td>2369.0</td>\n",
       "      <td>1966.0</td>\n",
       "      <td>1.0</td>\n",
       "    </tr>\n",
       "    <tr>\n",
       "      <th>bcov[1]</th>\n",
       "      <td>-0.031</td>\n",
       "      <td>0.896</td>\n",
       "      <td>-1.668</td>\n",
       "      <td>1.694</td>\n",
       "      <td>0.015</td>\n",
       "      <td>0.014</td>\n",
       "      <td>3636.0</td>\n",
       "      <td>2642.0</td>\n",
       "      <td>1.0</td>\n",
       "    </tr>\n",
       "    <tr>\n",
       "      <th>bage[0]</th>\n",
       "      <td>-0.020</td>\n",
       "      <td>0.408</td>\n",
       "      <td>-0.764</td>\n",
       "      <td>0.759</td>\n",
       "      <td>0.008</td>\n",
       "      <td>0.007</td>\n",
       "      <td>2433.0</td>\n",
       "      <td>2308.0</td>\n",
       "      <td>1.0</td>\n",
       "    </tr>\n",
       "    <tr>\n",
       "      <th>bage[1]</th>\n",
       "      <td>0.269</td>\n",
       "      <td>0.785</td>\n",
       "      <td>-1.144</td>\n",
       "      <td>1.709</td>\n",
       "      <td>0.015</td>\n",
       "      <td>0.013</td>\n",
       "      <td>2718.0</td>\n",
       "      <td>2546.0</td>\n",
       "      <td>1.0</td>\n",
       "    </tr>\n",
       "    <tr>\n",
       "      <th>bint[0]</th>\n",
       "      <td>0.029</td>\n",
       "      <td>0.451</td>\n",
       "      <td>-0.799</td>\n",
       "      <td>0.874</td>\n",
       "      <td>0.009</td>\n",
       "      <td>0.008</td>\n",
       "      <td>2411.0</td>\n",
       "      <td>2355.0</td>\n",
       "      <td>1.0</td>\n",
       "    </tr>\n",
       "    <tr>\n",
       "      <th>bint[1]</th>\n",
       "      <td>-0.022</td>\n",
       "      <td>0.495</td>\n",
       "      <td>-1.005</td>\n",
       "      <td>0.859</td>\n",
       "      <td>0.008</td>\n",
       "      <td>0.008</td>\n",
       "      <td>4034.0</td>\n",
       "      <td>2547.0</td>\n",
       "      <td>1.0</td>\n",
       "    </tr>\n",
       "  </tbody>\n",
       "</table>\n",
       "</div>"
      ],
      "text/plain": [
       "           mean     sd  hdi_3%  hdi_97%  mcse_mean  mcse_sd  ess_bulk  \\\n",
       "alpha[0]  0.496  0.627  -0.670    1.605      0.013    0.010    2419.0   \n",
       "alpha[1] -0.654  0.636  -1.806    0.542      0.013    0.009    2547.0   \n",
       "bcov[0]   0.962  0.721  -0.305    2.330      0.015    0.011    2369.0   \n",
       "bcov[1]  -0.031  0.896  -1.668    1.694      0.015    0.014    3636.0   \n",
       "bage[0]  -0.020  0.408  -0.764    0.759      0.008    0.007    2433.0   \n",
       "bage[1]   0.269  0.785  -1.144    1.709      0.015    0.013    2718.0   \n",
       "bint[0]   0.029  0.451  -0.799    0.874      0.009    0.008    2411.0   \n",
       "bint[1]  -0.022  0.495  -1.005    0.859      0.008    0.008    4034.0   \n",
       "\n",
       "          ess_tail  r_hat  \n",
       "alpha[0]    2075.0    1.0  \n",
       "alpha[1]    2216.0    1.0  \n",
       "bcov[0]     1966.0    1.0  \n",
       "bcov[1]     2642.0    1.0  \n",
       "bage[0]     2308.0    1.0  \n",
       "bage[1]     2546.0    1.0  \n",
       "bint[0]     2355.0    1.0  \n",
       "bint[1]     2547.0    1.0  "
      ]
     },
     "execution_count": 13,
     "metadata": {},
     "output_type": "execute_result"
    }
   ],
   "source": [
    "coef_summary"
   ]
  },
  {
   "cell_type": "markdown",
   "id": "87978bf2-7a47-4e6e-bb98-9364e83f5dac",
   "metadata": {},
   "source": [
    "First, we note that splitting the data has resulted in reduced precision for all estimates, so no especially strong conclusions can be drawn here -- but, the results of this regression are consistent with the results and intuition we developed previously. The baseline rate is much lower for the burned plots. Furthermore, in unburned plots, coverage has a strong association with salamanders and age is nearly irrelevant; in burned plots, age has a positive association, but coverage is (conditional on age) mostly irrelevant.\n",
    "\n",
    "Finally, the interaction term has been reduced to nearly zero, suggesting that the interaction effect estimated before was really estimating the interaction between burned status and the effects of age and coverage."
   ]
  },
  {
   "cell_type": "code",
   "execution_count": 14,
   "id": "d5263d25-b87e-4ebf-9444-a4e86d15cec1",
   "metadata": {},
   "outputs": [
    {
     "data": {
      "image/png": "[encoded data removed]",
      "text/plain": [
       "<Figure size 1440x720 with 2 Axes>"
      ]
     },
     "metadata": {
      "needs_background": "light"
     },
     "output_type": "display_data"
    }
   ],
   "source": [
    "fig, axs = plt.subplots(1,2, figsize=(20, 10))\n",
    "\n",
    "# Plot posterior means\n",
    "axs[0].plot(range(47), salamanders['SALAMAN'], 'ko', label = 'observed values')\n",
    "axs[0].plot(range(47), rate_summary['mean'], 'bo', label = 'posterior mean')\n",
    "axs[0].set_title('Posterior mean estimates')\n",
    "axs[0].legend()\n",
    "axs[0].set_ylabel('Salamander count', size=14)\n",
    "axs[0].set_xlabel('Plot number', size=14)\n",
    "\n",
    "# Plot posterior predictive samples\n",
    "axs[1].plot(range(47), salamanders['SALAMAN'], 'ko', label = 'observed values')\n",
    "for i in range(100):\n",
    "    axs[1].plot(range(47), full_int_repl['y'][i, :], 'b.', alpha = 0.05)\n",
    "axs[1].plot(range(47), full_int_repl['y'][101, :], 'b.', alpha = 0.05, label = 'posterior predictive')\n",
    "axs[1].set_ylabel('Salamander count', size=14)\n",
    "axs[1].set_xlabel('Plot number', size=14)\n",
    "axs[1].legend()\n",
    "\n",
    "plt.show()"
   ]
  },
  {
   "cell_type": "markdown",
   "id": "4488cc4d-efad-4938-8787-6b0f7f19874a",
   "metadata": {},
   "source": [
    "### Varying intercepts\n",
    "\n",
    "However, even with this more elaborate model, the fit to data is poor. Having exhausted all ideas and combinations of predictors, we must conclude that there is additional variation in the data that cannot be modeled by a pure Poisson regression based on the available variables. This is known as \"overdispersion\" -- since the Poisson distribution has variance equal to its mean, it is limited in its ability to model variation because the variance cannot be fit independently of the mean. To account for this, we turn to a **varying-intercepts** model, where each plot is given its own value of $\\alpha$. Additional variation will be accounted for by these intercepts, which should improve the fit to data and also improve the accuracy of the coefficient estimates (since the slope coefficients no longer have to account for all the variation in the observed values).\n",
    "\n",
    "We begin with a simple version of the model, going back to our original GLM, only with 47 intercepts and a multilevel structure to regularize them.\n",
    "\n",
    "$$\n",
    "\\begin{align*}\n",
    "y_i &\\sim \\mathrm{Poisson}(\\lambda_i) \\\\\n",
    "\\log \\lambda_i &= \\alpha_i + \\beta_A A_i + \\beta_C C_i + \\beta_{A, C} A_i C_i \\\\\n",
    "\\alpha_i &\\sim \\mathrm{Normal}(\\mu, \\sigma) \\\\\n",
    "\\beta_A &\\sim \\mathrm{Normal}(0, 1) \\\\\n",
    "\\beta_C &\\sim \\mathrm{Normal}(0, 1) \\\\\n",
    "\\mu &\\sim \\mathrm{Normal}(0, 1) \\\\\n",
    "\\sigma &\\sim \\mathrm{Exponential}(1)\n",
    "\\end{align*}\n",
    "$$"
   ]
  },
  {
   "cell_type": "code",
   "execution_count": 15,
   "id": "3adb961f-a131-42e2-ba5d-f62fbd0891d5",
   "metadata": {},
   "outputs": [
    {
     "name": "stderr",
     "output_type": "stream",
     "text": [
      "<ipython-input-15-07b537528d58>:17: FutureWarning: In v4.0, pm.sample will return an `arviz.InferenceData` object instead of a `MultiTrace` by default. You can pass return_inferencedata=True or return_inferencedata=False to be safe and silence this warning.\n",
      "  varint_trace = pm.sample(target_accept = 0.95)\n",
      "Auto-assigning NUTS sampler...\n",
      "Initializing NUTS using jitter+adapt_diag...\n",
      "Multiprocess sampling (4 chains in 4 jobs)\n",
      "NUTS: [bage, bcov, alpha, sigma, mu]\n"
     ]
    },
    {
     "data": {
      "text/html": [
       "\n",
       "    <div>\n",
       "        <style>\n",
       "            /* Turns off some styling */\n",
       "            progress {\n",
       "                /* gets rid of default border in Firefox and Opera. */\n",
       "                border: none;\n",
       "                /* Needs to be in here for Safari polyfill so background images work as expected. */\n",
       "                background-size: auto;\n",
       "            }\n",
       "            .progress-bar-interrupted, .progress-bar-interrupted::-webkit-progress-bar {\n",
       "                background: #F44336;\n",
       "            }\n",
       "        </style>\n",
       "      <progress value='8000' class='' max='8000' style='width:300px; height:20px; vertical-align: middle;'></progress>\n",
       "      100.00% [8000/8000 00:09<00:00 Sampling 4 chains, 0 divergences]\n",
       "    </div>\n",
       "    "
      ],
      "text/plain": [
       "<IPython.core.display.HTML object>"
      ]
     },
     "metadata": {},
     "output_type": "display_data"
    },
    {
     "name": "stderr",
     "output_type": "stream",
     "text": [
      "Sampling 4 chains for 1_000 tune and 1_000 draw iterations (4_000 + 4_000 draws total) took 10 seconds.\n",
      "The number of effective samples is smaller than 10% for some parameters.\n"
     ]
    },
    {
     "data": {
      "text/html": [
       "\n",
       "    <div>\n",
       "        <style>\n",
       "            /* Turns off some styling */\n",
       "            progress {\n",
       "                /* gets rid of default border in Firefox and Opera. */\n",
       "                border: none;\n",
       "                /* Needs to be in here for Safari polyfill so background images work as expected. */\n",
       "                background-size: auto;\n",
       "            }\n",
       "            .progress-bar-interrupted, .progress-bar-interrupted::-webkit-progress-bar {\n",
       "                background: #F44336;\n",
       "            }\n",
       "        </style>\n",
       "      <progress value='4000' class='' max='4000' style='width:300px; height:20px; vertical-align: middle;'></progress>\n",
       "      100.00% [4000/4000 00:02<00:00]\n",
       "    </div>\n",
       "    "
      ],
      "text/plain": [
       "<IPython.core.display.HTML object>"
      ]
     },
     "metadata": {},
     "output_type": "display_data"
    }
   ],
   "source": [
    "with pm.Model() as varying_intercept:\n",
    "    # Hyperparameters\n",
    "    mu = pm.Normal('mu', 0, 1)\n",
    "    sigma = pm.Exponential('sigma', 1)\n",
    "    \n",
    "    # Varying intercepts, single slopes\n",
    "    alpha = pm.Normal('alpha', mu, sigma, shape = 47)\n",
    "    bcov = pm.Normal('bcov', 0, 1)\n",
    "    bage = pm.Normal('bage', 0, 1)\n",
    "    \n",
    "    rate = pm.Deterministic('rate', \n",
    "                            pm.math.exp(alpha \n",
    "                                        + bcov * salamanders['PCTCOVER'] \n",
    "                                        + bage * salamanders['FORESTAGE']))\n",
    "    \n",
    "    y_ = pm.Poisson('y', rate, observed = salamanders['SALAMAN'])\n",
    "    varint_trace = pm.sample(target_accept = 0.95)\n",
    "    rate_summary = az.summary(varint_trace, var_names = ['rate'])\n",
    "    coef_summary = az.summary(varint_trace, var_names = ['mu', 'sigma', 'bcov', 'bage'])\n",
    "    varint_repl = pm.sample_posterior_predictive(varint_trace)"
   ]
  },
  {
   "cell_type": "code",
   "execution_count": 16,
   "id": "e791ffed-d42b-468f-aa8d-425bf62de819",
   "metadata": {},
   "outputs": [
    {
     "data": {
      "text/html": [
       "<div>\n",
       "<style scoped>\n",
       "    .dataframe tbody tr th:only-of-type {\n",
       "        vertical-align: middle;\n",
       "    }\n",
       "\n",
       "    .dataframe tbody tr th {\n",
       "        vertical-align: top;\n",
       "    }\n",
       "\n",
       "    .dataframe thead th {\n",
       "        text-align: right;\n",
       "    }\n",
       "</style>\n",
       "<table border=\"1\" class=\"dataframe\">\n",
       "  <thead>\n",
       "    <tr style=\"text-align: right;\">\n",
       "      <th></th>\n",
       "      <th>mean</th>\n",
       "      <th>sd</th>\n",
       "      <th>hdi_3%</th>\n",
       "      <th>hdi_97%</th>\n",
       "      <th>mcse_mean</th>\n",
       "      <th>mcse_sd</th>\n",
       "      <th>ess_bulk</th>\n",
       "      <th>ess_tail</th>\n",
       "      <th>r_hat</th>\n",
       "    </tr>\n",
       "  </thead>\n",
       "  <tbody>\n",
       "    <tr>\n",
       "      <th>mu</th>\n",
       "      <td>-0.841</td>\n",
       "      <td>0.412</td>\n",
       "      <td>-1.645</td>\n",
       "      <td>-0.111</td>\n",
       "      <td>0.019</td>\n",
       "      <td>0.014</td>\n",
       "      <td>461.0</td>\n",
       "      <td>893.0</td>\n",
       "      <td>1.0</td>\n",
       "    </tr>\n",
       "    <tr>\n",
       "      <th>sigma</th>\n",
       "      <td>0.999</td>\n",
       "      <td>0.215</td>\n",
       "      <td>0.611</td>\n",
       "      <td>1.400</td>\n",
       "      <td>0.008</td>\n",
       "      <td>0.006</td>\n",
       "      <td>647.0</td>\n",
       "      <td>1183.0</td>\n",
       "      <td>1.0</td>\n",
       "    </tr>\n",
       "    <tr>\n",
       "      <th>bcov</th>\n",
       "      <td>1.734</td>\n",
       "      <td>0.582</td>\n",
       "      <td>0.679</td>\n",
       "      <td>2.782</td>\n",
       "      <td>0.030</td>\n",
       "      <td>0.021</td>\n",
       "      <td>387.0</td>\n",
       "      <td>829.0</td>\n",
       "      <td>1.0</td>\n",
       "    </tr>\n",
       "    <tr>\n",
       "      <th>bage</th>\n",
       "      <td>0.241</td>\n",
       "      <td>0.215</td>\n",
       "      <td>-0.164</td>\n",
       "      <td>0.636</td>\n",
       "      <td>0.007</td>\n",
       "      <td>0.005</td>\n",
       "      <td>1102.0</td>\n",
       "      <td>1467.0</td>\n",
       "      <td>1.0</td>\n",
       "    </tr>\n",
       "  </tbody>\n",
       "</table>\n",
       "</div>"
      ],
      "text/plain": [
       "        mean     sd  hdi_3%  hdi_97%  mcse_mean  mcse_sd  ess_bulk  ess_tail  \\\n",
       "mu    -0.841  0.412  -1.645   -0.111      0.019    0.014     461.0     893.0   \n",
       "sigma  0.999  0.215   0.611    1.400      0.008    0.006     647.0    1183.0   \n",
       "bcov   1.734  0.582   0.679    2.782      0.030    0.021     387.0     829.0   \n",
       "bage   0.241  0.215  -0.164    0.636      0.007    0.005    1102.0    1467.0   \n",
       "\n",
       "       r_hat  \n",
       "mu       1.0  \n",
       "sigma    1.0  \n",
       "bcov     1.0  \n",
       "bage     1.0  "
      ]
     },
     "execution_count": 16,
     "metadata": {},
     "output_type": "execute_result"
    }
   ],
   "source": [
    "coef_summary"
   ]
  },
  {
   "cell_type": "markdown",
   "id": "5be96305-9c10-4ccd-bd2b-47dc1e077553",
   "metadata": {},
   "source": [
    "Immediately, we see that the fit to data is better (below) and also that the slope estimates are smaller -- because the slopes no longer have to try to explain all of the variation, as some of that is taken up by the flexibility of the $alpha_i$s."
   ]
  },
  {
   "cell_type": "code",
   "execution_count": 17,
   "id": "6dc5c36d-793c-4e0e-8e1e-1e1c81f04d07",
   "metadata": {},
   "outputs": [
    {
     "data": {
      "image/png": "[encoded data removed]",
      "text/plain": [
       "<Figure size 1440x720 with 2 Axes>"
      ]
     },
     "metadata": {
      "needs_background": "light"
     },
     "output_type": "display_data"
    }
   ],
   "source": [
    "fig, axs = plt.subplots(1,2, figsize=(20, 10))\n",
    "\n",
    "# Plot posterior means\n",
    "axs[0].plot(range(47), salamanders['SALAMAN'], 'ko', label = 'observed values')\n",
    "axs[0].plot(range(47), rate_summary['mean'], 'bo', label = 'posterior mean')\n",
    "axs[0].set_title('Posterior mean estimates')\n",
    "axs[0].legend()\n",
    "axs[0].set_ylabel('Salamander count', size=14)\n",
    "axs[0].set_xlabel('Plot number', size=14)\n",
    "\n",
    "# Plot posterior predictive samples\n",
    "axs[1].plot(range(47), salamanders['SALAMAN'], 'ko', label = 'observed values')\n",
    "for i in range(100):\n",
    "    axs[1].plot(range(47), varint_repl['y'][i, :], 'b.', alpha = 0.05)\n",
    "axs[1].plot(range(47), varint_repl['y'][101, :], 'b.', alpha = 0.05, label = 'posterior predictive')\n",
    "axs[1].set_ylabel('Salamander count', size=14)\n",
    "axs[1].set_xlabel('Plot number', size=14)\n",
    "axs[1].legend()\n",
    "\n",
    "plt.show()"
   ]
  },
  {
   "cell_type": "markdown",
   "id": "b1a61d60-fd0e-491d-890f-42cb5ab78d0c",
   "metadata": {},
   "source": [
    "Finally, we return to the model conditional on burned status, but with varying intercepts. (Note we drop the explicit interaction term, having found it to be negligible in the previous model)."
   ]
  },
  {
   "cell_type": "code",
   "execution_count": 18,
   "id": "5bb4a50f-dd8f-42aa-a466-1b5fb09fa057",
   "metadata": {},
   "outputs": [
    {
     "name": "stderr",
     "output_type": "stream",
     "text": [
      "<ipython-input-18-c9acb2c0a0ae>:14: FutureWarning: In v4.0, pm.sample will return an `arviz.InferenceData` object instead of a `MultiTrace` by default. You can pass return_inferencedata=True or return_inferencedata=False to be safe and silence this warning.\n",
      "  everything_trace = pm.sample(2000, target_accept = 0.95)\n",
      "Auto-assigning NUTS sampler...\n",
      "Initializing NUTS using jitter+adapt_diag...\n",
      "Multiprocess sampling (4 chains in 4 jobs)\n",
      "NUTS: [bage, bcov, alpha, sigma, mu]\n"
     ]
    },
    {
     "data": {
      "text/html": [
       "\n",
       "    <div>\n",
       "        <style>\n",
       "            /* Turns off some styling */\n",
       "            progress {\n",
       "                /* gets rid of default border in Firefox and Opera. */\n",
       "                border: none;\n",
       "                /* Needs to be in here for Safari polyfill so background images work as expected. */\n",
       "                background-size: auto;\n",
       "            }\n",
       "            .progress-bar-interrupted, .progress-bar-interrupted::-webkit-progress-bar {\n",
       "                background: #F44336;\n",
       "            }\n",
       "        </style>\n",
       "      <progress value='12000' class='' max='12000' style='width:300px; height:20px; vertical-align: middle;'></progress>\n",
       "      100.00% [12000/12000 00:15<00:00 Sampling 4 chains, 0 divergences]\n",
       "    </div>\n",
       "    "
      ],
      "text/plain": [
       "<IPython.core.display.HTML object>"
      ]
     },
     "metadata": {},
     "output_type": "display_data"
    },
    {
     "name": "stderr",
     "output_type": "stream",
     "text": [
      "Sampling 4 chains for 1_000 tune and 2_000 draw iterations (4_000 + 8_000 draws total) took 15 seconds.\n",
      "The number of effective samples is smaller than 10% for some parameters.\n"
     ]
    },
    {
     "data": {
      "text/html": [
       "\n",
       "    <div>\n",
       "        <style>\n",
       "            /* Turns off some styling */\n",
       "            progress {\n",
       "                /* gets rid of default border in Firefox and Opera. */\n",
       "                border: none;\n",
       "                /* Needs to be in here for Safari polyfill so background images work as expected. */\n",
       "                background-size: auto;\n",
       "            }\n",
       "            .progress-bar-interrupted, .progress-bar-interrupted::-webkit-progress-bar {\n",
       "                background: #F44336;\n",
       "            }\n",
       "        </style>\n",
       "      <progress value='8000' class='' max='8000' style='width:300px; height:20px; vertical-align: middle;'></progress>\n",
       "      100.00% [8000/8000 00:04<00:00]\n",
       "    </div>\n",
       "    "
      ],
      "text/plain": [
       "<IPython.core.display.HTML object>"
      ]
     },
     "metadata": {},
     "output_type": "display_data"
    }
   ],
   "source": [
    "with pm.Model() as everything_model:\n",
    "    mu = pm.Normal('mu', 0, 1)\n",
    "    sigma = pm.Exponential('sigma', 1)\n",
    "    alpha = pm.Normal('alpha', mu, sigma, shape = 47)\n",
    "    bcov = pm.Normal('bcov', 0, 1, shape = 2)\n",
    "    bage = pm.Normal('bage', 0, 1, shape = 2)\n",
    "    \n",
    "    rate = pm.Deterministic('rate', \n",
    "                            pm.math.exp(alpha \n",
    "                                        + bcov[burned] * salamanders['PCTCOVER'] \n",
    "                                        + bage[burned] * salamanders['FORESTAGE']))\n",
    "    \n",
    "    y_ = pm.Poisson('y', rate, observed = salamanders['SALAMAN'])\n",
    "    everything_trace = pm.sample(2000, target_accept = 0.95)\n",
    "    rate_summary = az.summary(everything_trace, var_names = ['rate'])\n",
    "    coef_summary = az.summary(everything_trace, var_names = ['mu', 'sigma', 'bcov', 'bage'])\n",
    "    everything_repl = pm.sample_posterior_predictive(everything_trace)"
   ]
  },
  {
   "cell_type": "code",
   "execution_count": 19,
   "id": "e3a69f59-9f99-4878-ba6b-1803a0c92757",
   "metadata": {},
   "outputs": [
    {
     "data": {
      "text/html": [
       "<div>\n",
       "<style scoped>\n",
       "    .dataframe tbody tr th:only-of-type {\n",
       "        vertical-align: middle;\n",
       "    }\n",
       "\n",
       "    .dataframe tbody tr th {\n",
       "        vertical-align: top;\n",
       "    }\n",
       "\n",
       "    .dataframe thead th {\n",
       "        text-align: right;\n",
       "    }\n",
       "</style>\n",
       "<table border=\"1\" class=\"dataframe\">\n",
       "  <thead>\n",
       "    <tr style=\"text-align: right;\">\n",
       "      <th></th>\n",
       "      <th>mean</th>\n",
       "      <th>sd</th>\n",
       "      <th>hdi_3%</th>\n",
       "      <th>hdi_97%</th>\n",
       "      <th>mcse_mean</th>\n",
       "      <th>mcse_sd</th>\n",
       "      <th>ess_bulk</th>\n",
       "      <th>ess_tail</th>\n",
       "      <th>r_hat</th>\n",
       "    </tr>\n",
       "  </thead>\n",
       "  <tbody>\n",
       "    <tr>\n",
       "      <th>mu</th>\n",
       "      <td>-0.249</td>\n",
       "      <td>0.530</td>\n",
       "      <td>-1.239</td>\n",
       "      <td>0.756</td>\n",
       "      <td>0.024</td>\n",
       "      <td>0.017</td>\n",
       "      <td>472.0</td>\n",
       "      <td>991.0</td>\n",
       "      <td>1.0</td>\n",
       "    </tr>\n",
       "    <tr>\n",
       "      <th>sigma</th>\n",
       "      <td>0.961</td>\n",
       "      <td>0.207</td>\n",
       "      <td>0.581</td>\n",
       "      <td>1.343</td>\n",
       "      <td>0.005</td>\n",
       "      <td>0.004</td>\n",
       "      <td>1565.0</td>\n",
       "      <td>2593.0</td>\n",
       "      <td>1.0</td>\n",
       "    </tr>\n",
       "    <tr>\n",
       "      <th>bcov[0]</th>\n",
       "      <td>1.266</td>\n",
       "      <td>0.620</td>\n",
       "      <td>0.074</td>\n",
       "      <td>2.421</td>\n",
       "      <td>0.028</td>\n",
       "      <td>0.020</td>\n",
       "      <td>478.0</td>\n",
       "      <td>1051.0</td>\n",
       "      <td>1.0</td>\n",
       "    </tr>\n",
       "    <tr>\n",
       "      <th>bcov[1]</th>\n",
       "      <td>-0.239</td>\n",
       "      <td>0.917</td>\n",
       "      <td>-2.002</td>\n",
       "      <td>1.450</td>\n",
       "      <td>0.012</td>\n",
       "      <td>0.010</td>\n",
       "      <td>5647.0</td>\n",
       "      <td>5249.0</td>\n",
       "      <td>1.0</td>\n",
       "    </tr>\n",
       "    <tr>\n",
       "      <th>bage[0]</th>\n",
       "      <td>0.077</td>\n",
       "      <td>0.215</td>\n",
       "      <td>-0.334</td>\n",
       "      <td>0.477</td>\n",
       "      <td>0.003</td>\n",
       "      <td>0.002</td>\n",
       "      <td>3888.0</td>\n",
       "      <td>4749.0</td>\n",
       "      <td>1.0</td>\n",
       "    </tr>\n",
       "    <tr>\n",
       "      <th>bage[1]</th>\n",
       "      <td>0.968</td>\n",
       "      <td>0.710</td>\n",
       "      <td>-0.381</td>\n",
       "      <td>2.287</td>\n",
       "      <td>0.024</td>\n",
       "      <td>0.017</td>\n",
       "      <td>891.0</td>\n",
       "      <td>2088.0</td>\n",
       "      <td>1.0</td>\n",
       "    </tr>\n",
       "  </tbody>\n",
       "</table>\n",
       "</div>"
      ],
      "text/plain": [
       "          mean     sd  hdi_3%  hdi_97%  mcse_mean  mcse_sd  ess_bulk  \\\n",
       "mu      -0.249  0.530  -1.239    0.756      0.024    0.017     472.0   \n",
       "sigma    0.961  0.207   0.581    1.343      0.005    0.004    1565.0   \n",
       "bcov[0]  1.266  0.620   0.074    2.421      0.028    0.020     478.0   \n",
       "bcov[1] -0.239  0.917  -2.002    1.450      0.012    0.010    5647.0   \n",
       "bage[0]  0.077  0.215  -0.334    0.477      0.003    0.002    3888.0   \n",
       "bage[1]  0.968  0.710  -0.381    2.287      0.024    0.017     891.0   \n",
       "\n",
       "         ess_tail  r_hat  \n",
       "mu          991.0    1.0  \n",
       "sigma      2593.0    1.0  \n",
       "bcov[0]    1051.0    1.0  \n",
       "bcov[1]    5249.0    1.0  \n",
       "bage[0]    4749.0    1.0  \n",
       "bage[1]    2088.0    1.0  "
      ]
     },
     "execution_count": 19,
     "metadata": {},
     "output_type": "execute_result"
    }
   ],
   "source": [
    "coef_summary"
   ]
  },
  {
   "cell_type": "code",
   "execution_count": 20,
   "id": "96afcd9b-fe51-4edf-a039-90fe561f85d3",
   "metadata": {},
   "outputs": [
    {
     "data": {
      "image/png": "[encoded data removed]",
      "text/plain": [
       "<Figure size 1440x720 with 2 Axes>"
      ]
     },
     "metadata": {
      "needs_background": "light"
     },
     "output_type": "display_data"
    }
   ],
   "source": [
    "fig, axs = plt.subplots(1,2, figsize=(20, 10))\n",
    "\n",
    "# Plot posterior means\n",
    "axs[0].plot(range(47), salamanders['SALAMAN'], 'ko', label = 'observed values')\n",
    "axs[0].plot(range(47), rate_summary['mean'], 'bo', label = 'posterior mean')\n",
    "axs[0].set_title('Posterior mean estimates')\n",
    "axs[0].legend()\n",
    "axs[0].set_ylabel('Salamander count', size=14)\n",
    "axs[0].set_xlabel('Plot number', size=14)\n",
    "\n",
    "# Plot posterior predictive samples\n",
    "axs[1].plot(range(47), salamanders['SALAMAN'], 'ko', label = 'observed values')\n",
    "for i in range(100):\n",
    "    axs[1].plot(range(47), everything_repl['y'][i, :], 'b.', alpha = 0.05)\n",
    "axs[1].plot(range(47), everything_repl['y'][101, :], 'b.', alpha = 0.05, label = 'posterior predictive')\n",
    "axs[1].set_ylabel('Salamander count', size=14)\n",
    "axs[1].set_xlabel('Plot number', size=14)\n",
    "axs[1].legend()\n",
    "\n",
    "plt.show()"
   ]
  },
  {
   "cell_type": "code",
   "execution_count": 21,
   "id": "676b319a-26e9-4528-8510-8476e0df9b99",
   "metadata": {},
   "outputs": [
    {
     "name": "stderr",
     "output_type": "stream",
     "text": [
      "/home/dylan/.conda/envs/info510/lib/python3.9/site-packages/arviz/stats/stats.py:145: UserWarning: The default method used to estimate the weights for each model,has changed from BB-pseudo-BMA to stacking\n",
      "  warnings.warn(\n",
      "/home/dylan/.conda/envs/info510/lib/python3.9/site-packages/arviz/data/io_pymc3.py:96: FutureWarning: Using `from_pymc3` without the model will be deprecated in a future release. Not using the model will return less accurate and less useful results. Make sure you use the model argument or call from_pymc3 within a model context.\n",
      "  warnings.warn(\n",
      "/home/dylan/.conda/envs/info510/lib/python3.9/site-packages/arviz/data/io_pymc3.py:96: FutureWarning: Using `from_pymc3` without the model will be deprecated in a future release. Not using the model will return less accurate and less useful results. Make sure you use the model argument or call from_pymc3 within a model context.\n",
      "  warnings.warn(\n",
      "/home/dylan/.conda/envs/info510/lib/python3.9/site-packages/arviz/data/io_pymc3.py:96: FutureWarning: Using `from_pymc3` without the model will be deprecated in a future release. Not using the model will return less accurate and less useful results. Make sure you use the model argument or call from_pymc3 within a model context.\n",
      "  warnings.warn(\n",
      "/home/dylan/.conda/envs/info510/lib/python3.9/site-packages/arviz/data/io_pymc3.py:96: FutureWarning: Using `from_pymc3` without the model will be deprecated in a future release. Not using the model will return less accurate and less useful results. Make sure you use the model argument or call from_pymc3 within a model context.\n",
      "  warnings.warn(\n",
      "/home/dylan/.conda/envs/info510/lib/python3.9/site-packages/arviz/stats/stats.py:655: UserWarning: Estimated shape parameter of Pareto distribution is greater than 0.7 for one or more samples. You should consider using a more robust model, this is because importance sampling is less likely to work well if the marginal posterior and LOO posterior are very different. This is more likely to happen with a non-robust model and highly influential observations.\n",
      "  warnings.warn(\n",
      "/home/dylan/.conda/envs/info510/lib/python3.9/site-packages/arviz/data/io_pymc3.py:96: FutureWarning: Using `from_pymc3` without the model will be deprecated in a future release. Not using the model will return less accurate and less useful results. Make sure you use the model argument or call from_pymc3 within a model context.\n",
      "  warnings.warn(\n",
      "/home/dylan/.conda/envs/info510/lib/python3.9/site-packages/arviz/stats/stats.py:655: UserWarning: Estimated shape parameter of Pareto distribution is greater than 0.7 for one or more samples. You should consider using a more robust model, this is because importance sampling is less likely to work well if the marginal posterior and LOO posterior are very different. This is more likely to happen with a non-robust model and highly influential observations.\n",
      "  warnings.warn(\n"
     ]
    },
    {
     "data": {
      "text/html": [
       "<div>\n",
       "<style scoped>\n",
       "    .dataframe tbody tr th:only-of-type {\n",
       "        vertical-align: middle;\n",
       "    }\n",
       "\n",
       "    .dataframe tbody tr th {\n",
       "        vertical-align: top;\n",
       "    }\n",
       "\n",
       "    .dataframe thead th {\n",
       "        text-align: right;\n",
       "    }\n",
       "</style>\n",
       "<table border=\"1\" class=\"dataframe\">\n",
       "  <thead>\n",
       "    <tr style=\"text-align: right;\">\n",
       "      <th></th>\n",
       "      <th>rank</th>\n",
       "      <th>loo</th>\n",
       "      <th>p_loo</th>\n",
       "      <th>d_loo</th>\n",
       "      <th>weight</th>\n",
       "      <th>se</th>\n",
       "      <th>dse</th>\n",
       "      <th>warning</th>\n",
       "      <th>loo_scale</th>\n",
       "    </tr>\n",
       "  </thead>\n",
       "  <tbody>\n",
       "    <tr>\n",
       "      <th>varying intercepts, interactions</th>\n",
       "      <td>0</td>\n",
       "      <td>-83.852707</td>\n",
       "      <td>22.339507</td>\n",
       "      <td>0.000000</td>\n",
       "      <td>1.000000e+00</td>\n",
       "      <td>6.868303</td>\n",
       "      <td>0.000000</td>\n",
       "      <td>True</td>\n",
       "      <td>log</td>\n",
       "    </tr>\n",
       "    <tr>\n",
       "      <th>varying intercepts</th>\n",
       "      <td>1</td>\n",
       "      <td>-84.800413</td>\n",
       "      <td>23.522616</td>\n",
       "      <td>0.947706</td>\n",
       "      <td>2.220446e-16</td>\n",
       "      <td>7.170724</td>\n",
       "      <td>1.113975</td>\n",
       "      <td>True</td>\n",
       "      <td>log</td>\n",
       "    </tr>\n",
       "    <tr>\n",
       "      <th>full interactions</th>\n",
       "      <td>2</td>\n",
       "      <td>-108.983702</td>\n",
       "      <td>7.884328</td>\n",
       "      <td>25.130995</td>\n",
       "      <td>1.325580e-15</td>\n",
       "      <td>13.297003</td>\n",
       "      <td>8.928571</td>\n",
       "      <td>False</td>\n",
       "      <td>log</td>\n",
       "    </tr>\n",
       "    <tr>\n",
       "      <th>interactions</th>\n",
       "      <td>3</td>\n",
       "      <td>-109.369162</td>\n",
       "      <td>7.095083</td>\n",
       "      <td>25.516455</td>\n",
       "      <td>5.525692e-16</td>\n",
       "      <td>13.464902</td>\n",
       "      <td>9.089297</td>\n",
       "      <td>False</td>\n",
       "      <td>log</td>\n",
       "    </tr>\n",
       "    <tr>\n",
       "      <th>simple reg</th>\n",
       "      <td>4</td>\n",
       "      <td>-109.682049</td>\n",
       "      <td>7.322049</td>\n",
       "      <td>25.829342</td>\n",
       "      <td>0.000000e+00</td>\n",
       "      <td>13.559666</td>\n",
       "      <td>9.170669</td>\n",
       "      <td>False</td>\n",
       "      <td>log</td>\n",
       "    </tr>\n",
       "  </tbody>\n",
       "</table>\n",
       "</div>"
      ],
      "text/plain": [
       "                                  rank         loo      p_loo      d_loo  \\\n",
       "varying intercepts, interactions     0  -83.852707  22.339507   0.000000   \n",
       "varying intercepts                   1  -84.800413  23.522616   0.947706   \n",
       "full interactions                    2 -108.983702   7.884328  25.130995   \n",
       "interactions                         3 -109.369162   7.095083  25.516455   \n",
       "simple reg                           4 -109.682049   7.322049  25.829342   \n",
       "\n",
       "                                        weight         se       dse  warning  \\\n",
       "varying intercepts, interactions  1.000000e+00   6.868303  0.000000     True   \n",
       "varying intercepts                2.220446e-16   7.170724  1.113975     True   \n",
       "full interactions                 1.325580e-15  13.297003  8.928571    False   \n",
       "interactions                      5.525692e-16  13.464902  9.089297    False   \n",
       "simple reg                        0.000000e+00  13.559666  9.170669    False   \n",
       "\n",
       "                                 loo_scale  \n",
       "varying intercepts, interactions       log  \n",
       "varying intercepts                     log  \n",
       "full interactions                      log  \n",
       "interactions                           log  \n",
       "simple reg                             log  "
      ]
     },
     "execution_count": 21,
     "metadata": {},
     "output_type": "execute_result"
    }
   ],
   "source": [
    "az.compare({'simple reg':age_trace,\n",
    "            'interactions': int_trace,\n",
    "            'full interactions':full_int_trace,\n",
    "            'varying intercepts':varint_trace,\n",
    "            'varying intercepts, interactions':everything_trace})"
   ]
  },
  {
   "cell_type": "code",
   "execution_count": 22,
   "id": "9c2e9ce2-c3d9-41c9-be19-a573b4f75e22",
   "metadata": {},
   "outputs": [
    {
     "name": "stderr",
     "output_type": "stream",
     "text": [
      "/home/dylan/.conda/envs/info510/lib/python3.9/site-packages/arviz/stats/stats.py:145: UserWarning: The default method used to estimate the weights for each model,has changed from BB-pseudo-BMA to stacking\n",
      "  warnings.warn(\n",
      "/home/dylan/.conda/envs/info510/lib/python3.9/site-packages/arviz/data/io_pymc3.py:96: FutureWarning: Using `from_pymc3` without the model will be deprecated in a future release. Not using the model will return less accurate and less useful results. Make sure you use the model argument or call from_pymc3 within a model context.\n",
      "  warnings.warn(\n",
      "/home/dylan/.conda/envs/info510/lib/python3.9/site-packages/arviz/stats/stats.py:1405: UserWarning: For one or more samples the posterior variance of the log predictive densities exceeds 0.4. This could be indication of WAIC starting to fail. \n",
      "See http://arxiv.org/abs/1507.04544 for details\n",
      "  warnings.warn(\n",
      "/home/dylan/.conda/envs/info510/lib/python3.9/site-packages/arviz/data/io_pymc3.py:96: FutureWarning: Using `from_pymc3` without the model will be deprecated in a future release. Not using the model will return less accurate and less useful results. Make sure you use the model argument or call from_pymc3 within a model context.\n",
      "  warnings.warn(\n",
      "/home/dylan/.conda/envs/info510/lib/python3.9/site-packages/arviz/stats/stats.py:1405: UserWarning: For one or more samples the posterior variance of the log predictive densities exceeds 0.4. This could be indication of WAIC starting to fail. \n",
      "See http://arxiv.org/abs/1507.04544 for details\n",
      "  warnings.warn(\n",
      "/home/dylan/.conda/envs/info510/lib/python3.9/site-packages/arviz/data/io_pymc3.py:96: FutureWarning: Using `from_pymc3` without the model will be deprecated in a future release. Not using the model will return less accurate and less useful results. Make sure you use the model argument or call from_pymc3 within a model context.\n",
      "  warnings.warn(\n",
      "/home/dylan/.conda/envs/info510/lib/python3.9/site-packages/arviz/stats/stats.py:1405: UserWarning: For one or more samples the posterior variance of the log predictive densities exceeds 0.4. This could be indication of WAIC starting to fail. \n",
      "See http://arxiv.org/abs/1507.04544 for details\n",
      "  warnings.warn(\n",
      "/home/dylan/.conda/envs/info510/lib/python3.9/site-packages/arviz/data/io_pymc3.py:96: FutureWarning: Using `from_pymc3` without the model will be deprecated in a future release. Not using the model will return less accurate and less useful results. Make sure you use the model argument or call from_pymc3 within a model context.\n",
      "  warnings.warn(\n",
      "/home/dylan/.conda/envs/info510/lib/python3.9/site-packages/arviz/stats/stats.py:1405: UserWarning: For one or more samples the posterior variance of the log predictive densities exceeds 0.4. This could be indication of WAIC starting to fail. \n",
      "See http://arxiv.org/abs/1507.04544 for details\n",
      "  warnings.warn(\n",
      "/home/dylan/.conda/envs/info510/lib/python3.9/site-packages/arviz/data/io_pymc3.py:96: FutureWarning: Using `from_pymc3` without the model will be deprecated in a future release. Not using the model will return less accurate and less useful results. Make sure you use the model argument or call from_pymc3 within a model context.\n",
      "  warnings.warn(\n",
      "/home/dylan/.conda/envs/info510/lib/python3.9/site-packages/arviz/stats/stats.py:1405: UserWarning: For one or more samples the posterior variance of the log predictive densities exceeds 0.4. This could be indication of WAIC starting to fail. \n",
      "See http://arxiv.org/abs/1507.04544 for details\n",
      "  warnings.warn(\n"
     ]
    },
    {
     "data": {
      "text/html": [
       "<div>\n",
       "<style scoped>\n",
       "    .dataframe tbody tr th:only-of-type {\n",
       "        vertical-align: middle;\n",
       "    }\n",
       "\n",
       "    .dataframe tbody tr th {\n",
       "        vertical-align: top;\n",
       "    }\n",
       "\n",
       "    .dataframe thead th {\n",
       "        text-align: right;\n",
       "    }\n",
       "</style>\n",
       "<table border=\"1\" class=\"dataframe\">\n",
       "  <thead>\n",
       "    <tr style=\"text-align: right;\">\n",
       "      <th></th>\n",
       "      <th>rank</th>\n",
       "      <th>waic</th>\n",
       "      <th>p_waic</th>\n",
       "      <th>d_waic</th>\n",
       "      <th>weight</th>\n",
       "      <th>se</th>\n",
       "      <th>dse</th>\n",
       "      <th>warning</th>\n",
       "      <th>waic_scale</th>\n",
       "    </tr>\n",
       "  </thead>\n",
       "  <tbody>\n",
       "    <tr>\n",
       "      <th>varying intercepts, interactions</th>\n",
       "      <td>0</td>\n",
       "      <td>-78.258715</td>\n",
       "      <td>16.745516</td>\n",
       "      <td>0.000000</td>\n",
       "      <td>7.030190e-01</td>\n",
       "      <td>6.133258</td>\n",
       "      <td>0.000000</td>\n",
       "      <td>True</td>\n",
       "      <td>log</td>\n",
       "    </tr>\n",
       "    <tr>\n",
       "      <th>varying intercepts</th>\n",
       "      <td>1</td>\n",
       "      <td>-78.417935</td>\n",
       "      <td>17.140138</td>\n",
       "      <td>0.159220</td>\n",
       "      <td>2.969810e-01</td>\n",
       "      <td>6.214914</td>\n",
       "      <td>0.883925</td>\n",
       "      <td>True</td>\n",
       "      <td>log</td>\n",
       "    </tr>\n",
       "    <tr>\n",
       "      <th>full interactions</th>\n",
       "      <td>2</td>\n",
       "      <td>-108.900247</td>\n",
       "      <td>7.800873</td>\n",
       "      <td>30.641532</td>\n",
       "      <td>0.000000e+00</td>\n",
       "      <td>13.276988</td>\n",
       "      <td>9.545215</td>\n",
       "      <td>True</td>\n",
       "      <td>log</td>\n",
       "    </tr>\n",
       "    <tr>\n",
       "      <th>interactions</th>\n",
       "      <td>3</td>\n",
       "      <td>-109.309563</td>\n",
       "      <td>7.035484</td>\n",
       "      <td>31.050848</td>\n",
       "      <td>0.000000e+00</td>\n",
       "      <td>13.447743</td>\n",
       "      <td>9.718596</td>\n",
       "      <td>True</td>\n",
       "      <td>log</td>\n",
       "    </tr>\n",
       "    <tr>\n",
       "      <th>simple reg</th>\n",
       "      <td>4</td>\n",
       "      <td>-109.608696</td>\n",
       "      <td>7.248697</td>\n",
       "      <td>31.349981</td>\n",
       "      <td>2.331468e-15</td>\n",
       "      <td>13.534142</td>\n",
       "      <td>9.794497</td>\n",
       "      <td>True</td>\n",
       "      <td>log</td>\n",
       "    </tr>\n",
       "  </tbody>\n",
       "</table>\n",
       "</div>"
      ],
      "text/plain": [
       "                                  rank        waic     p_waic     d_waic  \\\n",
       "varying intercepts, interactions     0  -78.258715  16.745516   0.000000   \n",
       "varying intercepts                   1  -78.417935  17.140138   0.159220   \n",
       "full interactions                    2 -108.900247   7.800873  30.641532   \n",
       "interactions                         3 -109.309563   7.035484  31.050848   \n",
       "simple reg                           4 -109.608696   7.248697  31.349981   \n",
       "\n",
       "                                        weight         se       dse  warning  \\\n",
       "varying intercepts, interactions  7.030190e-01   6.133258  0.000000     True   \n",
       "varying intercepts                2.969810e-01   6.214914  0.883925     True   \n",
       "full interactions                 0.000000e+00  13.276988  9.545215     True   \n",
       "interactions                      0.000000e+00  13.447743  9.718596     True   \n",
       "simple reg                        2.331468e-15  13.534142  9.794497     True   \n",
       "\n",
       "                                 waic_scale  \n",
       "varying intercepts, interactions        log  \n",
       "varying intercepts                      log  \n",
       "full interactions                       log  \n",
       "interactions                            log  \n",
       "simple reg                              log  "
      ]
     },
     "execution_count": 22,
     "metadata": {},
     "output_type": "execute_result"
    }
   ],
   "source": [
    "az.compare({'simple reg':age_trace,\n",
    "            'interactions': int_trace,\n",
    "            'full interactions':full_int_trace,\n",
    "            'varying intercepts':varint_trace,\n",
    "            'varying intercepts, interactions':everything_trace},\n",
    "            ic='waic')"
   ]
  },
  {
   "cell_type": "code",
   "execution_count": 23,
   "id": "1936d76c-af23-4f30-93d1-b63c00d787e5",
   "metadata": {},
   "outputs": [
    {
     "name": "stdout",
     "output_type": "stream",
     "text": [
      "Notebook ran in 100 seconds.\n",
      "PyMC3 version 3.11.2\n",
      "ArviZ version 0.11.2\n",
      "NumPy version 1.21.0\n"
     ]
    }
   ],
   "source": [
    "toc = time.time()\n",
    "print('Notebook ran in', round(toc - tic), 'seconds.')\n",
    "print('PyMC3 version', pm.__version__)\n",
    "print('ArviZ version', az.__version__)\n",
    "print('NumPy version', np.__version__)"
   ]
  },
  {
   "cell_type": "code",
   "execution_count": null,
   "id": "7457b57c-b4bb-4c32-a58c-6234d4af85c2",
   "metadata": {},
   "outputs": [],
   "source": []
  }
 ],
 "metadata": {
  "kernelspec": {
   "display_name": "Python 3",
   "language": "python",
   "name": "python3"
  },
  "language_info": {
   "codemirror_mode": {
    "name": "ipython",
    "version": 3
   },
   "file_extension": ".py",
   "mimetype": "text/x-python",
   "name": "python",
   "nbconvert_exporter": "python",
   "pygments_lexer": "ipython3",
   "version": "3.9.5"
  }
 },
 "nbformat": 4,
 "nbformat_minor": 5
}
