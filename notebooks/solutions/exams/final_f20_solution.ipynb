{
 "cells": [
  {
   "cell_type": "markdown",
   "metadata": {},
   "source": [
    "## Solution to the F20 final"
   ]
  },
  {
   "cell_type": "code",
   "execution_count": 1,
   "metadata": {},
   "outputs": [],
   "source": [
    "import numpy as np, scipy as sp, pandas as pd, pymc3 as pm, matplotlib.pyplot as plt, arviz as az\n",
    "from scipy import stats"
   ]
  },
  {
   "cell_type": "markdown",
   "metadata": {},
   "source": [
    "### Problem 1"
   ]
  },
  {
   "cell_type": "code",
   "execution_count": 2,
   "metadata": {},
   "outputs": [
    {
     "data": {
      "text/html": [
       "<div>\n",
       "<style scoped>\n",
       "    .dataframe tbody tr th:only-of-type {\n",
       "        vertical-align: middle;\n",
       "    }\n",
       "\n",
       "    .dataframe tbody tr th {\n",
       "        vertical-align: top;\n",
       "    }\n",
       "\n",
       "    .dataframe thead th {\n",
       "        text-align: right;\n",
       "    }\n",
       "</style>\n",
       "<table border=\"1\" class=\"dataframe\">\n",
       "  <thead>\n",
       "    <tr style=\"text-align: right;\">\n",
       "      <th></th>\n",
       "      <th>home</th>\n",
       "      <th>favorite</th>\n",
       "      <th>underdog</th>\n",
       "      <th>spread</th>\n",
       "      <th>favorite_name</th>\n",
       "      <th>underdog_name</th>\n",
       "      <th>week</th>\n",
       "      <th>diff</th>\n",
       "    </tr>\n",
       "  </thead>\n",
       "  <tbody>\n",
       "    <tr>\n",
       "      <th>21</th>\n",
       "      <td>0</td>\n",
       "      <td>17</td>\n",
       "      <td>23</td>\n",
       "      <td>7.0</td>\n",
       "      <td>LAN</td>\n",
       "      <td>NO</td>\n",
       "      <td>2</td>\n",
       "      <td>-6</td>\n",
       "    </tr>\n",
       "    <tr>\n",
       "      <th>24</th>\n",
       "      <td>1</td>\n",
       "      <td>28</td>\n",
       "      <td>23</td>\n",
       "      <td>7.0</td>\n",
       "      <td>SD</td>\n",
       "      <td>DET</td>\n",
       "      <td>2</td>\n",
       "      <td>5</td>\n",
       "    </tr>\n",
       "    <tr>\n",
       "      <th>35</th>\n",
       "      <td>1</td>\n",
       "      <td>35</td>\n",
       "      <td>23</td>\n",
       "      <td>7.0</td>\n",
       "      <td>LAN</td>\n",
       "      <td>GB</td>\n",
       "      <td>3</td>\n",
       "      <td>12</td>\n",
       "    </tr>\n",
       "    <tr>\n",
       "      <th>37</th>\n",
       "      <td>1</td>\n",
       "      <td>20</td>\n",
       "      <td>10</td>\n",
       "      <td>7.0</td>\n",
       "      <td>LAA</td>\n",
       "      <td>SEA</td>\n",
       "      <td>3</td>\n",
       "      <td>10</td>\n",
       "    </tr>\n",
       "    <tr>\n",
       "      <th>56</th>\n",
       "      <td>1</td>\n",
       "      <td>23</td>\n",
       "      <td>17</td>\n",
       "      <td>7.0</td>\n",
       "      <td>BUF</td>\n",
       "      <td>IND</td>\n",
       "      <td>5</td>\n",
       "      <td>6</td>\n",
       "    </tr>\n",
       "  </tbody>\n",
       "</table>\n",
       "</div>"
      ],
      "text/plain": [
       "    home  favorite  underdog  spread favorite_name underdog_name  week  diff\n",
       "21     0        17        23     7.0           LAN            NO     2    -6\n",
       "24     1        28        23     7.0            SD           DET     2     5\n",
       "35     1        35        23     7.0           LAN            GB     3    12\n",
       "37     1        20        10     7.0           LAA           SEA     3    10\n",
       "56     1        23        17     7.0           BUF           IND     5     6"
      ]
     },
     "execution_count": 2,
     "metadata": {},
     "output_type": "execute_result"
    }
   ],
   "source": [
    "scores = pd.read_csv('spread7.csv', index_col = 0)\n",
    "scores.head()"
   ]
  },
  {
   "cell_type": "markdown",
   "metadata": {},
   "source": [
    "First, we compute the following probabilities assuming that the quantity $y = (\\mbox{outcome} - \\mbox{point spread})$ has a distribution $N(0, 14^2)$:\n",
    "\n",
    "$$\n",
    "\\begin{align*}\n",
    "&P(\\mbox{favorite wins $|$ spread = 7}) \\\\\n",
    "&P(\\mbox{favorite wins by at least 7 $|$ spread = 7} ) \\\\\n",
    "&P(\\mbox{favorite wins by at least 7 $|$ spread = 7 and favorite wins} ) \\\\\n",
    "\\end{align*}\n",
    "$$\n",
    "\n",
    "The favorite wins if $y > -7$, so we have\n",
    "$$\n",
    "\\begin{align*}\n",
    "&P(\\mbox{favorite wins $|$ spread = 7}) = \\frac{1}{\\sqrt{2\\pi 14^2}} \\int_{-7}^\\infty \\exp\\left(-\\frac{1}{2}\\frac{(y - 7)^2}{14^2}\\right) dy \\approx 0.6915\n",
    "\\end{align*}\n",
    "$$\n",
    "where we compute the approximation with:"
   ]
  },
  {
   "cell_type": "code",
   "execution_count": 3,
   "metadata": {},
   "outputs": [
    {
     "data": {
      "text/plain": [
       "0.6914624612740131"
      ]
     },
     "execution_count": 3,
     "metadata": {},
     "output_type": "execute_result"
    }
   ],
   "source": [
    "1-sp.stats.norm(0, 14).cdf(-7)"
   ]
  },
  {
   "cell_type": "markdown",
   "metadata": {},
   "source": [
    "The favorite wins by at least 7 if $y \\geq 0$, which has probability 0.5.\n",
    "\n",
    "Finally, we can use the definition of conditional probability to find the last probability:\n",
    "\n",
    "$$ P(\\mbox{favorite wins by at least 7 $|$ spread = 7 and favorite wins} ) = \\frac{P(\\mbox{favorite wins by at least 7 $|$ spread = 7} )}{P(\\mbox{favorite wins $|$ spread = 7})} \\approx 0.7231 $$\n",
    "\n",
    "For a comparison, we compute the empirical probabilities from the data set:"
   ]
  },
  {
   "cell_type": "code",
   "execution_count": 4,
   "metadata": {},
   "outputs": [
    {
     "name": "stdout",
     "output_type": "stream",
     "text": [
      "P(fav wins): 0.7737226277372263\n",
      "P(fav wins by 7): 0.5474452554744526\n",
      "P(fav wins by 7 | fav wins): 0.7075471698113207\n"
     ]
    }
   ],
   "source": [
    "print('P(fav wins):', sum(scores['diff'] > 0) / len(scores))\n",
    "print('P(fav wins by 7):', sum(scores['diff'] >= 7) / len(scores))\n",
    "print('P(fav wins by 7 | fav wins):', sum(scores['diff'] >= 7) / sum(scores['diff'] > 0))"
   ]
  },
  {
   "cell_type": "markdown",
   "metadata": {},
   "source": [
    "The first probability is not approximated very well, although the others are better. This may be attributable to the fact that a game ending in a tie score continues for an \"overtime\" period, reducing the probability that the final score is exactly 0 and transferring that probability mass to neighboring scores (this might be thought of as a \"zero-deflated\" process), meaning that the continuous approximation fares especially poorly near $y = 0$."
   ]
  },
  {
   "cell_type": "markdown",
   "metadata": {},
   "source": [
    "### Problem 2\n",
    "\n",
    "We'll show two approaches: First, computing the predictive probability explicitly by integrating over the posterior distribution; second, estimating it by sampling from the posterior predictive distribution. Skip to **alternative approach** below if you don't want to deal with integrals :)\n",
    "\n",
    "First, we consider the hypothesis that the intermediate data showed 8 cases in the vaccine arm and 86 in the placebo arm. Under this hypothesis, and the model\n",
    "$$\n",
    "\\begin{align*}\n",
    "y &\\sim \\mathrm{Binomial}(n, \\theta) \\\\\n",
    "\\theta &\\sim \\mathrm{Beta}(0.7, 1.0) \\\\\n",
    "\\end{align*}\n",
    "$$\n",
    "the posterior distribution is $\\theta | y_{\\mathrm{obs}} \\sim \\mathrm{Beta}(0.7 + 8, 1 + 86)$.\n",
    "\n",
    "If this is the case, then the remaining data consists of 82 cases in the placebo arm and 0 in the vaccine arm; denote this as $y' = 0$.\n",
    "To compute the posterior predictive probability of this, we marginalize over $\\theta$:\n",
    "\n",
    "$$ \n",
    "\\begin{align*}\n",
    "p(y' = 0 | y_{\\mathrm{obs}}) &= \\int_0^1 p(y' = 0 | \\theta) p(\\theta | y_{\\mathrm{obs}}) d\\theta  \\\\\n",
    "&= \\frac{1}{B(8.7, 87)}\\int_0^1 (1 - \\theta)^{82} \\theta^{7.7} (1 - \\theta)^{86} d\\theta \\\\\n",
    "&= \\frac{1}{B(8.7, 87)}\\int_0^1 \\theta^{7.7} (1 - \\theta)^{168} d\\theta\n",
    "\\end{align*}\n",
    "$$\n",
    "\n",
    "where $B(8.7, 87)$ is the normalizing constant for a $\\mathrm{Beta(8.7, 87)}$ distribution.\n",
    "\n",
    "We can compute this either using numerical integration, or with repeated integration by parts. Starting with the normalizing constant,\n",
    "$$\n",
    "B(8.7, 87) = \\int_0^1 \\theta^{7.7} (1-\\theta)^{86} d\\theta\n",
    "$$\n",
    "Integrating by parts once,\n",
    "$$\n",
    "\\int_0^1 \\theta^{7.7} (1-\\theta)^{86} d\\theta = \\frac{86}{8.7} \\int_0^1 \\theta^{8.7} (1-\\theta)^{85} d\\theta\n",
    "$$\n",
    "Repeating until the power on $(1 - \\theta)$ is zero,\n",
    "$$\n",
    "\\int_0^1 \\theta^{7.7} (1-\\theta)^{86} d\\theta = \\frac{86!}{(8.7)(9.7)\\ldots(93.7)} \\int_0^1 \\theta^{93.7}d\\theta = \\frac{86!}{(8.7)(9.7)\\ldots(94.7)}\n",
    "$$\n",
    "\n",
    "So,\n",
    "$$\n",
    "B(8.7, 87) =  \\frac{86!}{(8.7)(9.7)\\ldots(94.7)}\n",
    "$$\n",
    "and,\n",
    "$$\n",
    "p(y' = 0 | y_{\\mathrm{obs}}) = \\frac{(8.7)(9.7)\\ldots(94.7)}{86!} \\int_0^1 \\theta^{7.7} (1 - \\theta)^{168} d\\theta\n",
    "$$\n",
    "The integral has the same form as the beta integral, so we can just apply the same technique:\n",
    "$$\n",
    "p(y' = 0 | y_{\\mathrm{obs}}) = \\frac{(8.7)(9.7)\\ldots(94.7)}{86!} \\frac{168!}{(8.7)(9.7)\\ldots(176.7)} \\approx 0.0037\n",
    "$$\n",
    "Below we compute using the exact formula and by numerical integration, confirming that they produce approximately the same result."
   ]
  },
  {
   "cell_type": "code",
   "execution_count": 5,
   "metadata": {},
   "outputs": [
    {
     "name": "stdout",
     "output_type": "stream",
     "text": [
      "1.9631007157014142e-13\n"
     ]
    },
    {
     "data": {
      "text/plain": [
       "1.9631007157013905e-13"
      ]
     },
     "execution_count": 5,
     "metadata": {},
     "output_type": "execute_result"
    }
   ],
   "source": [
    "b = 1\n",
    "for i in range(86):\n",
    "    b *= (86 - i) / (8.7 + i)\n",
    "b /= 94.7\n",
    "print(b)\n",
    "sp.special.beta(8.7, 87) # make sure we didn't mess up :)"
   ]
  },
  {
   "cell_type": "code",
   "execution_count": 6,
   "metadata": {},
   "outputs": [
    {
     "data": {
      "text/plain": [
       "0.003704002854739326"
      ]
     },
     "execution_count": 6,
     "metadata": {},
     "output_type": "execute_result"
    }
   ],
   "source": [
    "p = 1\n",
    "for i in range(168):\n",
    "    p *= (168 - i) / (8.7 + i)\n",
    "p /= 176.7\n",
    "p / b"
   ]
  },
  {
   "cell_type": "code",
   "execution_count": 7,
   "metadata": {},
   "outputs": [
    {
     "data": {
      "text/plain": [
       "0.0037042653645103425"
      ]
     },
     "execution_count": 7,
     "metadata": {},
     "output_type": "execute_result"
    }
   ],
   "source": [
    "from scipy import integrate\n",
    "f = lambda t: (t ** 7.7) * (1 - t) ** 168\n",
    "sp.integrate.quad(f, 0, 1)[0] / sp.special.beta(8.7, 87)"
   ]
  },
  {
   "cell_type": "markdown",
   "metadata": {},
   "source": [
    "By the same approach, under the second hypothesis, the posterior distribution is $\\theta | y_{\\mathrm{obs}} \\sim \\mathrm{Beta}(0.7 + 3, 1 + 91)$, and the remaining data consist of 5 cases in the vaccine arm and 77 in the placebo arm.\n",
    "\n",
    "Then, \n",
    "$$ \n",
    "\\begin{align*}\n",
    "p(y' = 5 | y_{\\mathrm{obs}}) &= \\int_0^1 p(y' = 0 | \\theta) p(\\theta | y_{\\mathrm{obs}}) d\\theta  \\\\\n",
    "&= \\frac{1}{B(3.7, 92)}\\left(\\begin{array}{c}82\\\\5\\end{array}\\right)\\int_0^1 \\theta^5 (1 - \\theta)^{77} \\theta^{2.7} (1 - \\theta)^{91} d\\theta \\\\\n",
    "&= \\frac{1}{B(3.7, 92)}\\left(\\begin{array}{c}82\\\\5\\end{array}\\right)\\int_0^1 \\theta^{7.7} (1 - \\theta)^{168} d\\theta\n",
    "\\end{align*}\n",
    "$$\n",
    "\n",
    "Integrating by parts again,\n",
    "$$\n",
    "p(y' = 5 | y_{\\mathrm{obs}}) = \\left(\\begin{array}{c}82\\\\5\\end{array}\\right) \\frac{(3.7)(4.7) \\ldots (94.7)}{91!} \\frac{168!}{(8.7)(9.7)\\ldots(176.7)} \\approx 0.0926\n",
    "$$"
   ]
  },
  {
   "cell_type": "code",
   "execution_count": 8,
   "metadata": {},
   "outputs": [
    {
     "data": {
      "text/plain": [
       "0.09261146436606198"
      ]
     },
     "execution_count": 8,
     "metadata": {},
     "output_type": "execute_result"
    }
   ],
   "source": [
    "# Exact formula\n",
    "b = 1\n",
    "for i in range(91):\n",
    "    b *= (91 - i) / (3.7 + i)\n",
    "b /= 94.7\n",
    "p = 1\n",
    "for i in range(168):\n",
    "    p *= (168 - i) / (8.7 + i)\n",
    "p /= 176.7\n",
    "(p / b) * sp.special.binom(82, 5)"
   ]
  },
  {
   "cell_type": "code",
   "execution_count": 9,
   "metadata": {},
   "outputs": [
    {
     "data": {
      "text/plain": [
       "0.09261146436820741"
      ]
     },
     "execution_count": 9,
     "metadata": {},
     "output_type": "execute_result"
    }
   ],
   "source": [
    "# Numerical integration\n",
    "g = lambda t: sp.special.binom(82,5) * (t ** 7.7) * (1 - t) ** 168\n",
    "sp.integrate.quad(g, 0, 1)[0] / sp.special.beta(3.7, 92)"
   ]
  },
  {
   "cell_type": "markdown",
   "metadata": {},
   "source": [
    "This suggests that of these two hypotheses, the second is more plausible: the first yields a predictive probability of 0.0037 for the new data; the second, 0.0926.\n",
    "\n",
    "**Alternative approach:** We could approximate these results by sampling -- generating values of $\\theta$ from the posterior and then sampling the corresponding binomial distribution."
   ]
  },
  {
   "cell_type": "code",
   "execution_count": 10,
   "metadata": {},
   "outputs": [
    {
     "name": "stdout",
     "output_type": "stream",
     "text": [
      "0.004\n",
      "0.0904\n"
     ]
    }
   ],
   "source": [
    "posterior_1 = sp.stats.beta(8.7, 87)\n",
    "posterior_2 = sp.stats.beta(3.7, 92)\n",
    "\n",
    "post_smp_1 = posterior_1.rvs(5000)\n",
    "post_smp_2 = posterior_2.rvs(5000)\n",
    "\n",
    "post_pred_1 = [sp.stats.binom(82, p).rvs() for p in post_smp_1]\n",
    "post_pred_2 = [sp.stats.binom(82, p).rvs() for p in post_smp_2]\n",
    "print(post_pred_1.count(0) / 5000)        # How many times do we see 0 vaccine cases?\n",
    "print(post_pred_2.count(5) / 5000)        # How many times do we see 5 vaccine cases?"
   ]
  },
  {
   "cell_type": "markdown",
   "metadata": {},
   "source": [
    "### Problem 3"
   ]
  },
  {
   "cell_type": "code",
   "execution_count": 11,
   "metadata": {},
   "outputs": [
    {
     "data": {
      "text/html": [
       "<div>\n",
       "<style scoped>\n",
       "    .dataframe tbody tr th:only-of-type {\n",
       "        vertical-align: middle;\n",
       "    }\n",
       "\n",
       "    .dataframe tbody tr th {\n",
       "        vertical-align: top;\n",
       "    }\n",
       "\n",
       "    .dataframe thead th {\n",
       "        text-align: right;\n",
       "    }\n",
       "</style>\n",
       "<table border=\"1\" class=\"dataframe\">\n",
       "  <thead>\n",
       "    <tr style=\"text-align: right;\">\n",
       "      <th></th>\n",
       "      <th>discipline</th>\n",
       "      <th>gender</th>\n",
       "      <th>applications</th>\n",
       "      <th>awards</th>\n",
       "      <th>genderid</th>\n",
       "      <th>discid</th>\n",
       "    </tr>\n",
       "  </thead>\n",
       "  <tbody>\n",
       "    <tr>\n",
       "      <th>0</th>\n",
       "      <td>Chemical sciences</td>\n",
       "      <td>m</td>\n",
       "      <td>83</td>\n",
       "      <td>22</td>\n",
       "      <td>1</td>\n",
       "      <td>0</td>\n",
       "    </tr>\n",
       "    <tr>\n",
       "      <th>1</th>\n",
       "      <td>Chemical sciences</td>\n",
       "      <td>f</td>\n",
       "      <td>39</td>\n",
       "      <td>10</td>\n",
       "      <td>0</td>\n",
       "      <td>0</td>\n",
       "    </tr>\n",
       "    <tr>\n",
       "      <th>2</th>\n",
       "      <td>Physical sciences</td>\n",
       "      <td>m</td>\n",
       "      <td>135</td>\n",
       "      <td>26</td>\n",
       "      <td>1</td>\n",
       "      <td>5</td>\n",
       "    </tr>\n",
       "    <tr>\n",
       "      <th>3</th>\n",
       "      <td>Physical sciences</td>\n",
       "      <td>f</td>\n",
       "      <td>39</td>\n",
       "      <td>9</td>\n",
       "      <td>0</td>\n",
       "      <td>5</td>\n",
       "    </tr>\n",
       "    <tr>\n",
       "      <th>4</th>\n",
       "      <td>Physics</td>\n",
       "      <td>m</td>\n",
       "      <td>67</td>\n",
       "      <td>18</td>\n",
       "      <td>1</td>\n",
       "      <td>6</td>\n",
       "    </tr>\n",
       "    <tr>\n",
       "      <th>5</th>\n",
       "      <td>Physics</td>\n",
       "      <td>f</td>\n",
       "      <td>9</td>\n",
       "      <td>2</td>\n",
       "      <td>0</td>\n",
       "      <td>6</td>\n",
       "    </tr>\n",
       "    <tr>\n",
       "      <th>6</th>\n",
       "      <td>Humanities</td>\n",
       "      <td>m</td>\n",
       "      <td>230</td>\n",
       "      <td>33</td>\n",
       "      <td>1</td>\n",
       "      <td>2</td>\n",
       "    </tr>\n",
       "    <tr>\n",
       "      <th>7</th>\n",
       "      <td>Humanities</td>\n",
       "      <td>f</td>\n",
       "      <td>166</td>\n",
       "      <td>32</td>\n",
       "      <td>0</td>\n",
       "      <td>2</td>\n",
       "    </tr>\n",
       "    <tr>\n",
       "      <th>8</th>\n",
       "      <td>Technical sciences</td>\n",
       "      <td>m</td>\n",
       "      <td>189</td>\n",
       "      <td>30</td>\n",
       "      <td>1</td>\n",
       "      <td>8</td>\n",
       "    </tr>\n",
       "    <tr>\n",
       "      <th>9</th>\n",
       "      <td>Technical sciences</td>\n",
       "      <td>f</td>\n",
       "      <td>62</td>\n",
       "      <td>13</td>\n",
       "      <td>0</td>\n",
       "      <td>8</td>\n",
       "    </tr>\n",
       "    <tr>\n",
       "      <th>10</th>\n",
       "      <td>Interdisciplinary</td>\n",
       "      <td>m</td>\n",
       "      <td>105</td>\n",
       "      <td>12</td>\n",
       "      <td>1</td>\n",
       "      <td>3</td>\n",
       "    </tr>\n",
       "    <tr>\n",
       "      <th>11</th>\n",
       "      <td>Interdisciplinary</td>\n",
       "      <td>f</td>\n",
       "      <td>78</td>\n",
       "      <td>17</td>\n",
       "      <td>0</td>\n",
       "      <td>3</td>\n",
       "    </tr>\n",
       "    <tr>\n",
       "      <th>12</th>\n",
       "      <td>Earth/life sciences</td>\n",
       "      <td>m</td>\n",
       "      <td>156</td>\n",
       "      <td>38</td>\n",
       "      <td>1</td>\n",
       "      <td>1</td>\n",
       "    </tr>\n",
       "    <tr>\n",
       "      <th>13</th>\n",
       "      <td>Earth/life sciences</td>\n",
       "      <td>f</td>\n",
       "      <td>126</td>\n",
       "      <td>18</td>\n",
       "      <td>0</td>\n",
       "      <td>1</td>\n",
       "    </tr>\n",
       "    <tr>\n",
       "      <th>14</th>\n",
       "      <td>Social sciences</td>\n",
       "      <td>m</td>\n",
       "      <td>425</td>\n",
       "      <td>65</td>\n",
       "      <td>1</td>\n",
       "      <td>7</td>\n",
       "    </tr>\n",
       "    <tr>\n",
       "      <th>15</th>\n",
       "      <td>Social sciences</td>\n",
       "      <td>f</td>\n",
       "      <td>409</td>\n",
       "      <td>47</td>\n",
       "      <td>0</td>\n",
       "      <td>7</td>\n",
       "    </tr>\n",
       "    <tr>\n",
       "      <th>16</th>\n",
       "      <td>Medical sciences</td>\n",
       "      <td>m</td>\n",
       "      <td>245</td>\n",
       "      <td>46</td>\n",
       "      <td>1</td>\n",
       "      <td>4</td>\n",
       "    </tr>\n",
       "    <tr>\n",
       "      <th>17</th>\n",
       "      <td>Medical sciences</td>\n",
       "      <td>f</td>\n",
       "      <td>260</td>\n",
       "      <td>29</td>\n",
       "      <td>0</td>\n",
       "      <td>4</td>\n",
       "    </tr>\n",
       "  </tbody>\n",
       "</table>\n",
       "</div>"
      ],
      "text/plain": [
       "             discipline gender  applications  awards  genderid  discid\n",
       "0     Chemical sciences      m            83      22         1       0\n",
       "1     Chemical sciences      f            39      10         0       0\n",
       "2     Physical sciences      m           135      26         1       5\n",
       "3     Physical sciences      f            39       9         0       5\n",
       "4               Physics      m            67      18         1       6\n",
       "5               Physics      f             9       2         0       6\n",
       "6            Humanities      m           230      33         1       2\n",
       "7            Humanities      f           166      32         0       2\n",
       "8    Technical sciences      m           189      30         1       8\n",
       "9    Technical sciences      f            62      13         0       8\n",
       "10    Interdisciplinary      m           105      12         1       3\n",
       "11    Interdisciplinary      f            78      17         0       3\n",
       "12  Earth/life sciences      m           156      38         1       1\n",
       "13  Earth/life sciences      f           126      18         0       1\n",
       "14      Social sciences      m           425      65         1       7\n",
       "15      Social sciences      f           409      47         0       7\n",
       "16     Medical sciences      m           245      46         1       4\n",
       "17     Medical sciences      f           260      29         0       4"
      ]
     },
     "execution_count": 11,
     "metadata": {},
     "output_type": "execute_result"
    }
   ],
   "source": [
    "from sklearn.preprocessing import OrdinalEncoder, LabelEncoder\n",
    "\n",
    "grants = pd.read_csv('NWOGrants.csv', sep = ';')\n",
    "#grants['gender_m'] = (grants.gender == 'm').astype(np.int64)\n",
    "#grants['gender_f'] = (grants.gender == 'f').astype(np.int64)\n",
    "grants['genderid'] = LabelEncoder().fit_transform(grants.gender)\n",
    "grants['discid'] = OrdinalEncoder().fit_transform(grants[['discipline']]).astype(np.int64)\n",
    "grants"
   ]
  },
  {
   "cell_type": "markdown",
   "metadata": {},
   "source": [
    "We start with a simple model that only includes gender. Below is a forest plot for the intercept (interpreted as a baseline funding probability), and the slope (interpreted as the total effect of gender)."
   ]
  },
  {
   "cell_type": "code",
   "execution_count": 12,
   "metadata": {},
   "outputs": [
    {
     "ename": "KeyboardInterrupt",
     "evalue": "",
     "output_type": "error",
     "traceback": [
      "\u001b[0;31m---------------------------------------------------------------------------\u001b[0m",
      "\u001b[0;31mKeyboardInterrupt\u001b[0m                         Traceback (most recent call last)",
      "\u001b[0;32m<ipython-input-12-173332cc1496>\u001b[0m in \u001b[0;36m<module>\u001b[0;34m\u001b[0m\n\u001b[1;32m      4\u001b[0m     \u001b[0;31m#bf = pm.Normal('bf', 0, 0.2)\u001b[0m\u001b[0;34m\u001b[0m\u001b[0;34m\u001b[0m\u001b[0;34m\u001b[0m\u001b[0m\n\u001b[1;32m      5\u001b[0m     \u001b[0mp\u001b[0m \u001b[0;34m=\u001b[0m \u001b[0mpm\u001b[0m\u001b[0;34m.\u001b[0m\u001b[0mmath\u001b[0m\u001b[0;34m.\u001b[0m\u001b[0minvlogit\u001b[0m\u001b[0;34m(\u001b[0m\u001b[0ma\u001b[0m \u001b[0;34m+\u001b[0m \u001b[0mbm\u001b[0m \u001b[0;34m*\u001b[0m \u001b[0mgrants\u001b[0m\u001b[0;34m.\u001b[0m\u001b[0mgenderid\u001b[0m \u001b[0;34m)\u001b[0m\u001b[0;31m# + bf * grants.gender_f)\u001b[0m\u001b[0;34m\u001b[0m\u001b[0;34m\u001b[0m\u001b[0m\n\u001b[0;32m----> 6\u001b[0;31m     \u001b[0my\u001b[0m \u001b[0;34m=\u001b[0m \u001b[0mpm\u001b[0m\u001b[0;34m.\u001b[0m\u001b[0mBinomial\u001b[0m\u001b[0;34m(\u001b[0m\u001b[0;34m'y'\u001b[0m\u001b[0;34m,\u001b[0m \u001b[0mp\u001b[0m\u001b[0;34m=\u001b[0m\u001b[0mp\u001b[0m\u001b[0;34m,\u001b[0m \u001b[0mn\u001b[0m\u001b[0;34m=\u001b[0m\u001b[0mgrants\u001b[0m\u001b[0;34m.\u001b[0m\u001b[0mapplications\u001b[0m\u001b[0;34m,\u001b[0m \u001b[0mobserved\u001b[0m \u001b[0;34m=\u001b[0m \u001b[0mgrants\u001b[0m\u001b[0;34m.\u001b[0m\u001b[0mawards\u001b[0m\u001b[0;34m)\u001b[0m\u001b[0;34m\u001b[0m\u001b[0;34m\u001b[0m\u001b[0m\n\u001b[0m\u001b[1;32m      7\u001b[0m \u001b[0;34m\u001b[0m\u001b[0m\n\u001b[1;32m      8\u001b[0m     \u001b[0mtrace_univariate\u001b[0m \u001b[0;34m=\u001b[0m \u001b[0mpm\u001b[0m\u001b[0;34m.\u001b[0m\u001b[0msample\u001b[0m\u001b[0;34m(\u001b[0m\u001b[0;36m6000\u001b[0m\u001b[0;34m,\u001b[0m \u001b[0mtarget_accept\u001b[0m \u001b[0;34m=\u001b[0m \u001b[0;36m0.9\u001b[0m\u001b[0;34m,\u001b[0m \u001b[0mtune\u001b[0m \u001b[0;34m=\u001b[0m \u001b[0;36m3000\u001b[0m\u001b[0;34m,\u001b[0m \u001b[0mchains\u001b[0m \u001b[0;34m=\u001b[0m \u001b[0;36m4\u001b[0m\u001b[0;34m,\u001b[0m \u001b[0mcores\u001b[0m \u001b[0;34m=\u001b[0m \u001b[0;36m4\u001b[0m\u001b[0;34m)\u001b[0m\u001b[0;34m\u001b[0m\u001b[0;34m\u001b[0m\u001b[0m\n",
      "\u001b[0;32m~/.conda/envs/info510/lib/python3.9/site-packages/pymc3/distributions/distribution.py\u001b[0m in \u001b[0;36m__new__\u001b[0;34m(cls, name, *args, **kwargs)\u001b[0m\n\u001b[1;32m    120\u001b[0m         \u001b[0;32melse\u001b[0m\u001b[0;34m:\u001b[0m\u001b[0;34m\u001b[0m\u001b[0;34m\u001b[0m\u001b[0m\n\u001b[1;32m    121\u001b[0m             \u001b[0mdist\u001b[0m \u001b[0;34m=\u001b[0m \u001b[0mcls\u001b[0m\u001b[0;34m.\u001b[0m\u001b[0mdist\u001b[0m\u001b[0;34m(\u001b[0m\u001b[0;34m*\u001b[0m\u001b[0margs\u001b[0m\u001b[0;34m,\u001b[0m \u001b[0;34m**\u001b[0m\u001b[0mkwargs\u001b[0m\u001b[0;34m)\u001b[0m\u001b[0;34m\u001b[0m\u001b[0;34m\u001b[0m\u001b[0m\n\u001b[0;32m--> 122\u001b[0;31m         \u001b[0;32mreturn\u001b[0m \u001b[0mmodel\u001b[0m\u001b[0;34m.\u001b[0m\u001b[0mVar\u001b[0m\u001b[0;34m(\u001b[0m\u001b[0mname\u001b[0m\u001b[0;34m,\u001b[0m \u001b[0mdist\u001b[0m\u001b[0;34m,\u001b[0m \u001b[0mdata\u001b[0m\u001b[0;34m,\u001b[0m \u001b[0mtotal_size\u001b[0m\u001b[0;34m,\u001b[0m \u001b[0mdims\u001b[0m\u001b[0;34m=\u001b[0m\u001b[0mdims\u001b[0m\u001b[0;34m)\u001b[0m\u001b[0;34m\u001b[0m\u001b[0;34m\u001b[0m\u001b[0m\n\u001b[0m\u001b[1;32m    123\u001b[0m \u001b[0;34m\u001b[0m\u001b[0m\n\u001b[1;32m    124\u001b[0m     \u001b[0;32mdef\u001b[0m \u001b[0m__getnewargs__\u001b[0m\u001b[0;34m(\u001b[0m\u001b[0mself\u001b[0m\u001b[0;34m)\u001b[0m\u001b[0;34m:\u001b[0m\u001b[0;34m\u001b[0m\u001b[0;34m\u001b[0m\u001b[0m\n",
      "\u001b[0;32m~/.conda/envs/info510/lib/python3.9/site-packages/pymc3/model.py\u001b[0m in \u001b[0;36mVar\u001b[0;34m(self, name, dist, data, total_size, dims)\u001b[0m\n\u001b[1;32m   1174\u001b[0m         \u001b[0;32melse\u001b[0m\u001b[0;34m:\u001b[0m\u001b[0;34m\u001b[0m\u001b[0;34m\u001b[0m\u001b[0m\n\u001b[1;32m   1175\u001b[0m             \u001b[0;32mwith\u001b[0m \u001b[0mself\u001b[0m\u001b[0;34m:\u001b[0m\u001b[0;34m\u001b[0m\u001b[0;34m\u001b[0m\u001b[0m\n\u001b[0;32m-> 1176\u001b[0;31m                 var = ObservedRV(\n\u001b[0m\u001b[1;32m   1177\u001b[0m                     \u001b[0mname\u001b[0m\u001b[0;34m=\u001b[0m\u001b[0mname\u001b[0m\u001b[0;34m,\u001b[0m\u001b[0;34m\u001b[0m\u001b[0;34m\u001b[0m\u001b[0m\n\u001b[1;32m   1178\u001b[0m                     \u001b[0mdata\u001b[0m\u001b[0;34m=\u001b[0m\u001b[0mdata\u001b[0m\u001b[0;34m,\u001b[0m\u001b[0;34m\u001b[0m\u001b[0;34m\u001b[0m\u001b[0m\n",
      "\u001b[0;32m~/.conda/envs/info510/lib/python3.9/site-packages/pymc3/model.py\u001b[0m in \u001b[0;36m__init__\u001b[0;34m(self, type, owner, index, name, data, distribution, total_size, model)\u001b[0m\n\u001b[1;32m   1825\u001b[0m \u001b[0;34m\u001b[0m\u001b[0m\n\u001b[1;32m   1826\u001b[0m             \u001b[0mself\u001b[0m\u001b[0;34m.\u001b[0m\u001b[0mmissing_values\u001b[0m \u001b[0;34m=\u001b[0m \u001b[0mdata\u001b[0m\u001b[0;34m.\u001b[0m\u001b[0mmissing_values\u001b[0m\u001b[0;34m\u001b[0m\u001b[0;34m\u001b[0m\u001b[0m\n\u001b[0;32m-> 1827\u001b[0;31m             \u001b[0mself\u001b[0m\u001b[0;34m.\u001b[0m\u001b[0mlogp_elemwiset\u001b[0m \u001b[0;34m=\u001b[0m \u001b[0mdistribution\u001b[0m\u001b[0;34m.\u001b[0m\u001b[0mlogp\u001b[0m\u001b[0;34m(\u001b[0m\u001b[0mdata\u001b[0m\u001b[0;34m)\u001b[0m\u001b[0;34m\u001b[0m\u001b[0;34m\u001b[0m\u001b[0m\n\u001b[0m\u001b[1;32m   1828\u001b[0m             \u001b[0;31m# The logp might need scaling in minibatches.\u001b[0m\u001b[0;34m\u001b[0m\u001b[0;34m\u001b[0m\u001b[0;34m\u001b[0m\u001b[0m\n\u001b[1;32m   1829\u001b[0m             \u001b[0;31m# This is done in `Factor`.\u001b[0m\u001b[0;34m\u001b[0m\u001b[0;34m\u001b[0m\u001b[0;34m\u001b[0m\u001b[0m\n",
      "\u001b[0;32m~/.conda/envs/info510/lib/python3.9/site-packages/pymc3/distributions/discrete.py\u001b[0m in \u001b[0;36mlogp\u001b[0;34m(self, value)\u001b[0m\n\u001b[1;32m    142\u001b[0m         \u001b[0mp\u001b[0m \u001b[0;34m=\u001b[0m \u001b[0mself\u001b[0m\u001b[0;34m.\u001b[0m\u001b[0mp\u001b[0m\u001b[0;34m\u001b[0m\u001b[0;34m\u001b[0m\u001b[0m\n\u001b[1;32m    143\u001b[0m \u001b[0;34m\u001b[0m\u001b[0m\n\u001b[0;32m--> 144\u001b[0;31m         return bound(\n\u001b[0m\u001b[1;32m    145\u001b[0m             \u001b[0mbinomln\u001b[0m\u001b[0;34m(\u001b[0m\u001b[0mn\u001b[0m\u001b[0;34m,\u001b[0m \u001b[0mvalue\u001b[0m\u001b[0;34m)\u001b[0m \u001b[0;34m+\u001b[0m \u001b[0mlogpow\u001b[0m\u001b[0;34m(\u001b[0m\u001b[0mp\u001b[0m\u001b[0;34m,\u001b[0m \u001b[0mvalue\u001b[0m\u001b[0;34m)\u001b[0m \u001b[0;34m+\u001b[0m \u001b[0mlogpow\u001b[0m\u001b[0;34m(\u001b[0m\u001b[0;36m1\u001b[0m \u001b[0;34m-\u001b[0m \u001b[0mp\u001b[0m\u001b[0;34m,\u001b[0m \u001b[0mn\u001b[0m \u001b[0;34m-\u001b[0m \u001b[0mvalue\u001b[0m\u001b[0;34m)\u001b[0m\u001b[0;34m,\u001b[0m\u001b[0;34m\u001b[0m\u001b[0;34m\u001b[0m\u001b[0m\n\u001b[1;32m    146\u001b[0m             \u001b[0;36m0\u001b[0m \u001b[0;34m<=\u001b[0m \u001b[0mvalue\u001b[0m\u001b[0;34m,\u001b[0m\u001b[0;34m\u001b[0m\u001b[0;34m\u001b[0m\u001b[0m\n",
      "\u001b[0;32m~/.conda/envs/info510/lib/python3.9/site-packages/pymc3/distributions/dist_math.py\u001b[0m in \u001b[0;36mbound\u001b[0;34m(logp, *conditions, **kwargs)\u001b[0m\n\u001b[1;32m     87\u001b[0m         \u001b[0malltrue\u001b[0m \u001b[0;34m=\u001b[0m \u001b[0malltrue_scalar\u001b[0m\u001b[0;34m\u001b[0m\u001b[0;34m\u001b[0m\u001b[0m\n\u001b[1;32m     88\u001b[0m \u001b[0;34m\u001b[0m\u001b[0m\n\u001b[0;32m---> 89\u001b[0;31m     \u001b[0;32mreturn\u001b[0m \u001b[0mtt\u001b[0m\u001b[0;34m.\u001b[0m\u001b[0mswitch\u001b[0m\u001b[0;34m(\u001b[0m\u001b[0malltrue\u001b[0m\u001b[0;34m(\u001b[0m\u001b[0mconditions\u001b[0m\u001b[0;34m)\u001b[0m\u001b[0;34m,\u001b[0m \u001b[0mlogp\u001b[0m\u001b[0;34m,\u001b[0m \u001b[0;34m-\u001b[0m\u001b[0mnp\u001b[0m\u001b[0;34m.\u001b[0m\u001b[0minf\u001b[0m\u001b[0;34m)\u001b[0m\u001b[0;34m\u001b[0m\u001b[0;34m\u001b[0m\u001b[0m\n\u001b[0m\u001b[1;32m     90\u001b[0m \u001b[0;34m\u001b[0m\u001b[0m\n\u001b[1;32m     91\u001b[0m \u001b[0;34m\u001b[0m\u001b[0m\n",
      "\u001b[0;32m~/.conda/envs/info510/lib/python3.9/site-packages/pymc3/distributions/dist_math.py\u001b[0m in \u001b[0;36malltrue_elemwise\u001b[0;34m(vals)\u001b[0m\n\u001b[1;32m     93\u001b[0m     \u001b[0mret\u001b[0m \u001b[0;34m=\u001b[0m \u001b[0;36m1\u001b[0m\u001b[0;34m\u001b[0m\u001b[0;34m\u001b[0m\u001b[0m\n\u001b[1;32m     94\u001b[0m     \u001b[0;32mfor\u001b[0m \u001b[0mc\u001b[0m \u001b[0;32min\u001b[0m \u001b[0mvals\u001b[0m\u001b[0;34m:\u001b[0m\u001b[0;34m\u001b[0m\u001b[0;34m\u001b[0m\u001b[0m\n\u001b[0;32m---> 95\u001b[0;31m         \u001b[0mret\u001b[0m \u001b[0;34m=\u001b[0m \u001b[0mret\u001b[0m \u001b[0;34m*\u001b[0m \u001b[0;34m(\u001b[0m\u001b[0;36m1\u001b[0m \u001b[0;34m*\u001b[0m \u001b[0mc\u001b[0m\u001b[0;34m)\u001b[0m\u001b[0;34m\u001b[0m\u001b[0;34m\u001b[0m\u001b[0m\n\u001b[0m\u001b[1;32m     96\u001b[0m     \u001b[0;32mreturn\u001b[0m \u001b[0mret\u001b[0m\u001b[0;34m\u001b[0m\u001b[0;34m\u001b[0m\u001b[0m\n\u001b[1;32m     97\u001b[0m \u001b[0;34m\u001b[0m\u001b[0m\n",
      "\u001b[0;32m~/.conda/envs/info510/lib/python3.9/site-packages/theano/tensor/var.py\u001b[0m in \u001b[0;36m__mul__\u001b[0;34m(self, other)\u001b[0m\n\u001b[1;32m    126\u001b[0m         \u001b[0;31m# and the return value in that case\u001b[0m\u001b[0;34m\u001b[0m\u001b[0;34m\u001b[0m\u001b[0;34m\u001b[0m\u001b[0m\n\u001b[1;32m    127\u001b[0m         \u001b[0;32mtry\u001b[0m\u001b[0;34m:\u001b[0m\u001b[0;34m\u001b[0m\u001b[0;34m\u001b[0m\u001b[0m\n\u001b[0;32m--> 128\u001b[0;31m             \u001b[0;32mreturn\u001b[0m \u001b[0mtheano\u001b[0m\u001b[0;34m.\u001b[0m\u001b[0mtensor\u001b[0m\u001b[0;34m.\u001b[0m\u001b[0mmul\u001b[0m\u001b[0;34m(\u001b[0m\u001b[0mself\u001b[0m\u001b[0;34m,\u001b[0m \u001b[0mother\u001b[0m\u001b[0;34m)\u001b[0m\u001b[0;34m\u001b[0m\u001b[0;34m\u001b[0m\u001b[0m\n\u001b[0m\u001b[1;32m    129\u001b[0m         \u001b[0;32mexcept\u001b[0m \u001b[0;34m(\u001b[0m\u001b[0mNotImplementedError\u001b[0m\u001b[0;34m,\u001b[0m \u001b[0mTypeError\u001b[0m\u001b[0;34m)\u001b[0m\u001b[0;34m:\u001b[0m\u001b[0;34m\u001b[0m\u001b[0;34m\u001b[0m\u001b[0m\n\u001b[1;32m    130\u001b[0m             \u001b[0;32mreturn\u001b[0m \u001b[0mNotImplemented\u001b[0m\u001b[0;34m\u001b[0m\u001b[0;34m\u001b[0m\u001b[0m\n",
      "\u001b[0;32m~/.conda/envs/info510/lib/python3.9/site-packages/theano/graph/op.py\u001b[0m in \u001b[0;36m__call__\u001b[0;34m(self, *inputs, **kwargs)\u001b[0m\n\u001b[1;32m    251\u001b[0m \u001b[0;34m\u001b[0m\u001b[0m\n\u001b[1;32m    252\u001b[0m         \u001b[0;32mif\u001b[0m \u001b[0mconfig\u001b[0m\u001b[0;34m.\u001b[0m\u001b[0mcompute_test_value\u001b[0m \u001b[0;34m!=\u001b[0m \u001b[0;34m\"off\"\u001b[0m\u001b[0;34m:\u001b[0m\u001b[0;34m\u001b[0m\u001b[0;34m\u001b[0m\u001b[0m\n\u001b[0;32m--> 253\u001b[0;31m             \u001b[0mcompute_test_value\u001b[0m\u001b[0;34m(\u001b[0m\u001b[0mnode\u001b[0m\u001b[0;34m)\u001b[0m\u001b[0;34m\u001b[0m\u001b[0;34m\u001b[0m\u001b[0m\n\u001b[0m\u001b[1;32m    254\u001b[0m \u001b[0;34m\u001b[0m\u001b[0m\n\u001b[1;32m    255\u001b[0m         \u001b[0;32mif\u001b[0m \u001b[0mself\u001b[0m\u001b[0;34m.\u001b[0m\u001b[0mdefault_output\u001b[0m \u001b[0;32mis\u001b[0m \u001b[0;32mnot\u001b[0m \u001b[0;32mNone\u001b[0m\u001b[0;34m:\u001b[0m\u001b[0;34m\u001b[0m\u001b[0;34m\u001b[0m\u001b[0m\n",
      "\u001b[0;32m~/.conda/envs/info510/lib/python3.9/site-packages/theano/graph/op.py\u001b[0m in \u001b[0;36mcompute_test_value\u001b[0;34m(node)\u001b[0m\n\u001b[1;32m    124\u001b[0m \u001b[0;34m\u001b[0m\u001b[0m\n\u001b[1;32m    125\u001b[0m     \u001b[0;31m# Create a thunk that performs the computation\u001b[0m\u001b[0;34m\u001b[0m\u001b[0;34m\u001b[0m\u001b[0;34m\u001b[0m\u001b[0m\n\u001b[0;32m--> 126\u001b[0;31m     \u001b[0mthunk\u001b[0m \u001b[0;34m=\u001b[0m \u001b[0mnode\u001b[0m\u001b[0;34m.\u001b[0m\u001b[0mop\u001b[0m\u001b[0;34m.\u001b[0m\u001b[0mmake_thunk\u001b[0m\u001b[0;34m(\u001b[0m\u001b[0mnode\u001b[0m\u001b[0;34m,\u001b[0m \u001b[0mstorage_map\u001b[0m\u001b[0;34m,\u001b[0m \u001b[0mcompute_map\u001b[0m\u001b[0;34m,\u001b[0m \u001b[0mno_recycling\u001b[0m\u001b[0;34m=\u001b[0m\u001b[0;34m[\u001b[0m\u001b[0;34m]\u001b[0m\u001b[0;34m)\u001b[0m\u001b[0;34m\u001b[0m\u001b[0;34m\u001b[0m\u001b[0m\n\u001b[0m\u001b[1;32m    127\u001b[0m     \u001b[0mthunk\u001b[0m\u001b[0;34m.\u001b[0m\u001b[0minputs\u001b[0m \u001b[0;34m=\u001b[0m \u001b[0;34m[\u001b[0m\u001b[0mstorage_map\u001b[0m\u001b[0;34m[\u001b[0m\u001b[0mv\u001b[0m\u001b[0;34m]\u001b[0m \u001b[0;32mfor\u001b[0m \u001b[0mv\u001b[0m \u001b[0;32min\u001b[0m \u001b[0mnode\u001b[0m\u001b[0;34m.\u001b[0m\u001b[0minputs\u001b[0m\u001b[0;34m]\u001b[0m\u001b[0;34m\u001b[0m\u001b[0;34m\u001b[0m\u001b[0m\n\u001b[1;32m    128\u001b[0m     \u001b[0mthunk\u001b[0m\u001b[0;34m.\u001b[0m\u001b[0moutputs\u001b[0m \u001b[0;34m=\u001b[0m \u001b[0;34m[\u001b[0m\u001b[0mstorage_map\u001b[0m\u001b[0;34m[\u001b[0m\u001b[0mv\u001b[0m\u001b[0;34m]\u001b[0m \u001b[0;32mfor\u001b[0m \u001b[0mv\u001b[0m \u001b[0;32min\u001b[0m \u001b[0mnode\u001b[0m\u001b[0;34m.\u001b[0m\u001b[0moutputs\u001b[0m\u001b[0;34m]\u001b[0m\u001b[0;34m\u001b[0m\u001b[0;34m\u001b[0m\u001b[0m\n",
      "\u001b[0;32m~/.conda/envs/info510/lib/python3.9/site-packages/theano/graph/op.py\u001b[0m in \u001b[0;36mmake_thunk\u001b[0;34m(self, node, storage_map, compute_map, no_recycling, impl)\u001b[0m\n\u001b[1;32m    632\u001b[0m             )\n\u001b[1;32m    633\u001b[0m             \u001b[0;32mtry\u001b[0m\u001b[0;34m:\u001b[0m\u001b[0;34m\u001b[0m\u001b[0;34m\u001b[0m\u001b[0m\n\u001b[0;32m--> 634\u001b[0;31m                 \u001b[0;32mreturn\u001b[0m \u001b[0mself\u001b[0m\u001b[0;34m.\u001b[0m\u001b[0mmake_c_thunk\u001b[0m\u001b[0;34m(\u001b[0m\u001b[0mnode\u001b[0m\u001b[0;34m,\u001b[0m \u001b[0mstorage_map\u001b[0m\u001b[0;34m,\u001b[0m \u001b[0mcompute_map\u001b[0m\u001b[0;34m,\u001b[0m \u001b[0mno_recycling\u001b[0m\u001b[0;34m)\u001b[0m\u001b[0;34m\u001b[0m\u001b[0;34m\u001b[0m\u001b[0m\n\u001b[0m\u001b[1;32m    635\u001b[0m             \u001b[0;32mexcept\u001b[0m \u001b[0;34m(\u001b[0m\u001b[0mNotImplementedError\u001b[0m\u001b[0;34m,\u001b[0m \u001b[0mMethodNotDefined\u001b[0m\u001b[0;34m)\u001b[0m\u001b[0;34m:\u001b[0m\u001b[0;34m\u001b[0m\u001b[0;34m\u001b[0m\u001b[0m\n\u001b[1;32m    636\u001b[0m                 \u001b[0;31m# We requested the c code, so don't catch the error.\u001b[0m\u001b[0;34m\u001b[0m\u001b[0;34m\u001b[0m\u001b[0;34m\u001b[0m\u001b[0m\n",
      "\u001b[0;32m~/.conda/envs/info510/lib/python3.9/site-packages/theano/graph/op.py\u001b[0m in \u001b[0;36mmake_c_thunk\u001b[0;34m(self, node, storage_map, compute_map, no_recycling)\u001b[0m\n\u001b[1;32m    598\u001b[0m                 \u001b[0mprint\u001b[0m\u001b[0;34m(\u001b[0m\u001b[0;34mf\"Disabling C code for {self} due to unsupported float16\"\u001b[0m\u001b[0;34m)\u001b[0m\u001b[0;34m\u001b[0m\u001b[0;34m\u001b[0m\u001b[0m\n\u001b[1;32m    599\u001b[0m                 \u001b[0;32mraise\u001b[0m \u001b[0mNotImplementedError\u001b[0m\u001b[0;34m(\u001b[0m\u001b[0;34m\"float16\"\u001b[0m\u001b[0;34m)\u001b[0m\u001b[0;34m\u001b[0m\u001b[0;34m\u001b[0m\u001b[0m\n\u001b[0;32m--> 600\u001b[0;31m         outputs = cl.make_thunk(\n\u001b[0m\u001b[1;32m    601\u001b[0m             \u001b[0minput_storage\u001b[0m\u001b[0;34m=\u001b[0m\u001b[0mnode_input_storage\u001b[0m\u001b[0;34m,\u001b[0m \u001b[0moutput_storage\u001b[0m\u001b[0;34m=\u001b[0m\u001b[0mnode_output_storage\u001b[0m\u001b[0;34m\u001b[0m\u001b[0;34m\u001b[0m\u001b[0m\n\u001b[1;32m    602\u001b[0m         )\n",
      "\u001b[0;32m~/.conda/envs/info510/lib/python3.9/site-packages/theano/link/c/basic.py\u001b[0m in \u001b[0;36mmake_thunk\u001b[0;34m(self, input_storage, output_storage, storage_map)\u001b[0m\n\u001b[1;32m   1201\u001b[0m         \"\"\"\n\u001b[1;32m   1202\u001b[0m         \u001b[0minit_tasks\u001b[0m\u001b[0;34m,\u001b[0m \u001b[0mtasks\u001b[0m \u001b[0;34m=\u001b[0m \u001b[0mself\u001b[0m\u001b[0;34m.\u001b[0m\u001b[0mget_init_tasks\u001b[0m\u001b[0;34m(\u001b[0m\u001b[0;34m)\u001b[0m\u001b[0;34m\u001b[0m\u001b[0;34m\u001b[0m\u001b[0m\n\u001b[0;32m-> 1203\u001b[0;31m         cthunk, module, in_storage, out_storage, error_storage = self.__compile__(\n\u001b[0m\u001b[1;32m   1204\u001b[0m             \u001b[0minput_storage\u001b[0m\u001b[0;34m,\u001b[0m \u001b[0moutput_storage\u001b[0m\u001b[0;34m,\u001b[0m \u001b[0mstorage_map\u001b[0m\u001b[0;34m\u001b[0m\u001b[0;34m\u001b[0m\u001b[0m\n\u001b[1;32m   1205\u001b[0m         )\n",
      "\u001b[0;32m~/.conda/envs/info510/lib/python3.9/site-packages/theano/link/c/basic.py\u001b[0m in \u001b[0;36m__compile__\u001b[0;34m(self, input_storage, output_storage, storage_map)\u001b[0m\n\u001b[1;32m   1136\u001b[0m         \u001b[0minput_storage\u001b[0m \u001b[0;34m=\u001b[0m \u001b[0mtuple\u001b[0m\u001b[0;34m(\u001b[0m\u001b[0minput_storage\u001b[0m\u001b[0;34m)\u001b[0m\u001b[0;34m\u001b[0m\u001b[0;34m\u001b[0m\u001b[0m\n\u001b[1;32m   1137\u001b[0m         \u001b[0moutput_storage\u001b[0m \u001b[0;34m=\u001b[0m \u001b[0mtuple\u001b[0m\u001b[0;34m(\u001b[0m\u001b[0moutput_storage\u001b[0m\u001b[0;34m)\u001b[0m\u001b[0;34m\u001b[0m\u001b[0;34m\u001b[0m\u001b[0m\n\u001b[0;32m-> 1138\u001b[0;31m         thunk, module = self.cthunk_factory(\n\u001b[0m\u001b[1;32m   1139\u001b[0m             \u001b[0merror_storage\u001b[0m\u001b[0;34m,\u001b[0m\u001b[0;34m\u001b[0m\u001b[0;34m\u001b[0m\u001b[0m\n\u001b[1;32m   1140\u001b[0m             \u001b[0minput_storage\u001b[0m\u001b[0;34m,\u001b[0m\u001b[0;34m\u001b[0m\u001b[0;34m\u001b[0m\u001b[0m\n",
      "\u001b[0;32m~/.conda/envs/info510/lib/python3.9/site-packages/theano/link/c/basic.py\u001b[0m in \u001b[0;36mcthunk_factory\u001b[0;34m(self, error_storage, in_storage, out_storage, storage_map)\u001b[0m\n\u001b[1;32m   1632\u001b[0m             \u001b[0;32mfor\u001b[0m \u001b[0mnode\u001b[0m \u001b[0;32min\u001b[0m \u001b[0mself\u001b[0m\u001b[0;34m.\u001b[0m\u001b[0mnode_order\u001b[0m\u001b[0;34m:\u001b[0m\u001b[0;34m\u001b[0m\u001b[0;34m\u001b[0m\u001b[0m\n\u001b[1;32m   1633\u001b[0m                 \u001b[0mnode\u001b[0m\u001b[0;34m.\u001b[0m\u001b[0mop\u001b[0m\u001b[0;34m.\u001b[0m\u001b[0mprepare_node\u001b[0m\u001b[0;34m(\u001b[0m\u001b[0mnode\u001b[0m\u001b[0;34m,\u001b[0m \u001b[0mstorage_map\u001b[0m\u001b[0;34m,\u001b[0m \u001b[0;32mNone\u001b[0m\u001b[0;34m,\u001b[0m \u001b[0;34m\"c\"\u001b[0m\u001b[0;34m)\u001b[0m\u001b[0;34m\u001b[0m\u001b[0;34m\u001b[0m\u001b[0m\n\u001b[0;32m-> 1634\u001b[0;31m             \u001b[0mmodule\u001b[0m \u001b[0;34m=\u001b[0m \u001b[0mget_module_cache\u001b[0m\u001b[0;34m(\u001b[0m\u001b[0;34m)\u001b[0m\u001b[0;34m.\u001b[0m\u001b[0mmodule_from_key\u001b[0m\u001b[0;34m(\u001b[0m\u001b[0mkey\u001b[0m\u001b[0;34m=\u001b[0m\u001b[0mkey\u001b[0m\u001b[0;34m,\u001b[0m \u001b[0mlnk\u001b[0m\u001b[0;34m=\u001b[0m\u001b[0mself\u001b[0m\u001b[0;34m)\u001b[0m\u001b[0;34m\u001b[0m\u001b[0;34m\u001b[0m\u001b[0m\n\u001b[0m\u001b[1;32m   1635\u001b[0m \u001b[0;34m\u001b[0m\u001b[0m\n\u001b[1;32m   1636\u001b[0m         \u001b[0mvars\u001b[0m \u001b[0;34m=\u001b[0m \u001b[0mself\u001b[0m\u001b[0;34m.\u001b[0m\u001b[0minputs\u001b[0m \u001b[0;34m+\u001b[0m \u001b[0mself\u001b[0m\u001b[0;34m.\u001b[0m\u001b[0moutputs\u001b[0m \u001b[0;34m+\u001b[0m \u001b[0mself\u001b[0m\u001b[0;34m.\u001b[0m\u001b[0morphans\u001b[0m\u001b[0;34m\u001b[0m\u001b[0;34m\u001b[0m\u001b[0m\n",
      "\u001b[0;32m~/.conda/envs/info510/lib/python3.9/site-packages/theano/link/c/cmodule.py\u001b[0m in \u001b[0;36mmodule_from_key\u001b[0;34m(self, key, lnk)\u001b[0m\n\u001b[1;32m   1189\u001b[0m             \u001b[0;32mtry\u001b[0m\u001b[0;34m:\u001b[0m\u001b[0;34m\u001b[0m\u001b[0;34m\u001b[0m\u001b[0m\n\u001b[1;32m   1190\u001b[0m                 \u001b[0mlocation\u001b[0m \u001b[0;34m=\u001b[0m \u001b[0mdlimport_workdir\u001b[0m\u001b[0;34m(\u001b[0m\u001b[0mself\u001b[0m\u001b[0;34m.\u001b[0m\u001b[0mdirname\u001b[0m\u001b[0;34m)\u001b[0m\u001b[0;34m\u001b[0m\u001b[0;34m\u001b[0m\u001b[0m\n\u001b[0;32m-> 1191\u001b[0;31m                 \u001b[0mmodule\u001b[0m \u001b[0;34m=\u001b[0m \u001b[0mlnk\u001b[0m\u001b[0;34m.\u001b[0m\u001b[0mcompile_cmodule\u001b[0m\u001b[0;34m(\u001b[0m\u001b[0mlocation\u001b[0m\u001b[0;34m)\u001b[0m\u001b[0;34m\u001b[0m\u001b[0;34m\u001b[0m\u001b[0m\n\u001b[0m\u001b[1;32m   1192\u001b[0m                 \u001b[0mname\u001b[0m \u001b[0;34m=\u001b[0m \u001b[0mmodule\u001b[0m\u001b[0;34m.\u001b[0m\u001b[0m__file__\u001b[0m\u001b[0;34m\u001b[0m\u001b[0;34m\u001b[0m\u001b[0m\n\u001b[1;32m   1193\u001b[0m                 \u001b[0;32massert\u001b[0m \u001b[0mname\u001b[0m\u001b[0;34m.\u001b[0m\u001b[0mstartswith\u001b[0m\u001b[0;34m(\u001b[0m\u001b[0mlocation\u001b[0m\u001b[0;34m)\u001b[0m\u001b[0;34m\u001b[0m\u001b[0;34m\u001b[0m\u001b[0m\n",
      "\u001b[0;32m~/.conda/envs/info510/lib/python3.9/site-packages/theano/link/c/basic.py\u001b[0m in \u001b[0;36mcompile_cmodule\u001b[0;34m(self, location)\u001b[0m\n\u001b[1;32m   1541\u001b[0m             \u001b[0;32mtry\u001b[0m\u001b[0;34m:\u001b[0m\u001b[0;34m\u001b[0m\u001b[0;34m\u001b[0m\u001b[0m\n\u001b[1;32m   1542\u001b[0m                 \u001b[0m_logger\u001b[0m\u001b[0;34m.\u001b[0m\u001b[0mdebug\u001b[0m\u001b[0;34m(\u001b[0m\u001b[0;34mf\"LOCATION {location}\"\u001b[0m\u001b[0;34m)\u001b[0m\u001b[0;34m\u001b[0m\u001b[0;34m\u001b[0m\u001b[0m\n\u001b[0;32m-> 1543\u001b[0;31m                 module = c_compiler.compile_str(\n\u001b[0m\u001b[1;32m   1544\u001b[0m                     \u001b[0mmodule_name\u001b[0m\u001b[0;34m=\u001b[0m\u001b[0mmod\u001b[0m\u001b[0;34m.\u001b[0m\u001b[0mcode_hash\u001b[0m\u001b[0;34m,\u001b[0m\u001b[0;34m\u001b[0m\u001b[0;34m\u001b[0m\u001b[0m\n\u001b[1;32m   1545\u001b[0m                     \u001b[0msrc_code\u001b[0m\u001b[0;34m=\u001b[0m\u001b[0msrc_code\u001b[0m\u001b[0;34m,\u001b[0m\u001b[0;34m\u001b[0m\u001b[0;34m\u001b[0m\u001b[0m\n",
      "\u001b[0;32m~/.conda/envs/info510/lib/python3.9/site-packages/theano/link/c/cmodule.py\u001b[0m in \u001b[0;36mcompile_str\u001b[0;34m(module_name, src_code, location, include_dirs, lib_dirs, libs, preargs, py_module, hide_symbols)\u001b[0m\n\u001b[1;32m   2494\u001b[0m \u001b[0;34m\u001b[0m\u001b[0m\n\u001b[1;32m   2495\u001b[0m         \u001b[0;32mtry\u001b[0m\u001b[0;34m:\u001b[0m\u001b[0;34m\u001b[0m\u001b[0;34m\u001b[0m\u001b[0m\n\u001b[0;32m-> 2496\u001b[0;31m             \u001b[0mp_out\u001b[0m \u001b[0;34m=\u001b[0m \u001b[0moutput_subprocess_Popen\u001b[0m\u001b[0;34m(\u001b[0m\u001b[0mcmd\u001b[0m\u001b[0;34m)\u001b[0m\u001b[0;34m\u001b[0m\u001b[0;34m\u001b[0m\u001b[0m\n\u001b[0m\u001b[1;32m   2497\u001b[0m             \u001b[0mcompile_stderr\u001b[0m \u001b[0;34m=\u001b[0m \u001b[0mp_out\u001b[0m\u001b[0;34m[\u001b[0m\u001b[0;36m1\u001b[0m\u001b[0;34m]\u001b[0m\u001b[0;34m.\u001b[0m\u001b[0mdecode\u001b[0m\u001b[0;34m(\u001b[0m\u001b[0;34m)\u001b[0m\u001b[0;34m\u001b[0m\u001b[0;34m\u001b[0m\u001b[0m\n\u001b[1;32m   2498\u001b[0m         \u001b[0;32mexcept\u001b[0m \u001b[0mException\u001b[0m\u001b[0;34m:\u001b[0m\u001b[0;34m\u001b[0m\u001b[0;34m\u001b[0m\u001b[0m\n",
      "\u001b[0;32m~/.conda/envs/info510/lib/python3.9/site-packages/theano/utils.py\u001b[0m in \u001b[0;36moutput_subprocess_Popen\u001b[0;34m(command, **params)\u001b[0m\n\u001b[1;32m    252\u001b[0m     \u001b[0;31m# we need to use communicate to make sure we don't deadlock around\u001b[0m\u001b[0;34m\u001b[0m\u001b[0;34m\u001b[0m\u001b[0;34m\u001b[0m\u001b[0m\n\u001b[1;32m    253\u001b[0m     \u001b[0;31m# the stdout/stderr pipe.\u001b[0m\u001b[0;34m\u001b[0m\u001b[0;34m\u001b[0m\u001b[0;34m\u001b[0m\u001b[0m\n\u001b[0;32m--> 254\u001b[0;31m     \u001b[0mout\u001b[0m \u001b[0;34m=\u001b[0m \u001b[0mp\u001b[0m\u001b[0;34m.\u001b[0m\u001b[0mcommunicate\u001b[0m\u001b[0;34m(\u001b[0m\u001b[0;34m)\u001b[0m\u001b[0;34m\u001b[0m\u001b[0;34m\u001b[0m\u001b[0m\n\u001b[0m\u001b[1;32m    255\u001b[0m     \u001b[0;32mreturn\u001b[0m \u001b[0mout\u001b[0m \u001b[0;34m+\u001b[0m \u001b[0;34m(\u001b[0m\u001b[0mp\u001b[0m\u001b[0;34m.\u001b[0m\u001b[0mreturncode\u001b[0m\u001b[0;34m,\u001b[0m\u001b[0;34m)\u001b[0m\u001b[0;34m\u001b[0m\u001b[0;34m\u001b[0m\u001b[0m\n\u001b[1;32m    256\u001b[0m \u001b[0;34m\u001b[0m\u001b[0m\n",
      "\u001b[0;32m~/.conda/envs/info510/lib/python3.9/subprocess.py\u001b[0m in \u001b[0;36mcommunicate\u001b[0;34m(self, input, timeout)\u001b[0m\n\u001b[1;32m   1132\u001b[0m \u001b[0;34m\u001b[0m\u001b[0m\n\u001b[1;32m   1133\u001b[0m             \u001b[0;32mtry\u001b[0m\u001b[0;34m:\u001b[0m\u001b[0;34m\u001b[0m\u001b[0;34m\u001b[0m\u001b[0m\n\u001b[0;32m-> 1134\u001b[0;31m                 \u001b[0mstdout\u001b[0m\u001b[0;34m,\u001b[0m \u001b[0mstderr\u001b[0m \u001b[0;34m=\u001b[0m \u001b[0mself\u001b[0m\u001b[0;34m.\u001b[0m\u001b[0m_communicate\u001b[0m\u001b[0;34m(\u001b[0m\u001b[0minput\u001b[0m\u001b[0;34m,\u001b[0m \u001b[0mendtime\u001b[0m\u001b[0;34m,\u001b[0m \u001b[0mtimeout\u001b[0m\u001b[0;34m)\u001b[0m\u001b[0;34m\u001b[0m\u001b[0;34m\u001b[0m\u001b[0m\n\u001b[0m\u001b[1;32m   1135\u001b[0m             \u001b[0;32mexcept\u001b[0m \u001b[0mKeyboardInterrupt\u001b[0m\u001b[0;34m:\u001b[0m\u001b[0;34m\u001b[0m\u001b[0;34m\u001b[0m\u001b[0m\n\u001b[1;32m   1136\u001b[0m                 \u001b[0;31m# https://bugs.python.org/issue25942\u001b[0m\u001b[0;34m\u001b[0m\u001b[0;34m\u001b[0m\u001b[0;34m\u001b[0m\u001b[0m\n",
      "\u001b[0;32m~/.conda/envs/info510/lib/python3.9/subprocess.py\u001b[0m in \u001b[0;36m_communicate\u001b[0;34m(self, input, endtime, orig_timeout)\u001b[0m\n\u001b[1;32m   1979\u001b[0m                             'failed to raise TimeoutExpired.')\n\u001b[1;32m   1980\u001b[0m \u001b[0;34m\u001b[0m\u001b[0m\n\u001b[0;32m-> 1981\u001b[0;31m                     \u001b[0mready\u001b[0m \u001b[0;34m=\u001b[0m \u001b[0mselector\u001b[0m\u001b[0;34m.\u001b[0m\u001b[0mselect\u001b[0m\u001b[0;34m(\u001b[0m\u001b[0mtimeout\u001b[0m\u001b[0;34m)\u001b[0m\u001b[0;34m\u001b[0m\u001b[0;34m\u001b[0m\u001b[0m\n\u001b[0m\u001b[1;32m   1982\u001b[0m                     \u001b[0mself\u001b[0m\u001b[0;34m.\u001b[0m\u001b[0m_check_timeout\u001b[0m\u001b[0;34m(\u001b[0m\u001b[0mendtime\u001b[0m\u001b[0;34m,\u001b[0m \u001b[0morig_timeout\u001b[0m\u001b[0;34m,\u001b[0m \u001b[0mstdout\u001b[0m\u001b[0;34m,\u001b[0m \u001b[0mstderr\u001b[0m\u001b[0;34m)\u001b[0m\u001b[0;34m\u001b[0m\u001b[0;34m\u001b[0m\u001b[0m\n\u001b[1;32m   1983\u001b[0m \u001b[0;34m\u001b[0m\u001b[0m\n",
      "\u001b[0;32m~/.conda/envs/info510/lib/python3.9/selectors.py\u001b[0m in \u001b[0;36mselect\u001b[0;34m(self, timeout)\u001b[0m\n\u001b[1;32m    414\u001b[0m         \u001b[0mready\u001b[0m \u001b[0;34m=\u001b[0m \u001b[0;34m[\u001b[0m\u001b[0;34m]\u001b[0m\u001b[0;34m\u001b[0m\u001b[0;34m\u001b[0m\u001b[0m\n\u001b[1;32m    415\u001b[0m         \u001b[0;32mtry\u001b[0m\u001b[0;34m:\u001b[0m\u001b[0;34m\u001b[0m\u001b[0;34m\u001b[0m\u001b[0m\n\u001b[0;32m--> 416\u001b[0;31m             \u001b[0mfd_event_list\u001b[0m \u001b[0;34m=\u001b[0m \u001b[0mself\u001b[0m\u001b[0;34m.\u001b[0m\u001b[0m_selector\u001b[0m\u001b[0;34m.\u001b[0m\u001b[0mpoll\u001b[0m\u001b[0;34m(\u001b[0m\u001b[0mtimeout\u001b[0m\u001b[0;34m)\u001b[0m\u001b[0;34m\u001b[0m\u001b[0;34m\u001b[0m\u001b[0m\n\u001b[0m\u001b[1;32m    417\u001b[0m         \u001b[0;32mexcept\u001b[0m \u001b[0mInterruptedError\u001b[0m\u001b[0;34m:\u001b[0m\u001b[0;34m\u001b[0m\u001b[0;34m\u001b[0m\u001b[0m\n\u001b[1;32m    418\u001b[0m             \u001b[0;32mreturn\u001b[0m \u001b[0mready\u001b[0m\u001b[0;34m\u001b[0m\u001b[0;34m\u001b[0m\u001b[0m\n",
      "\u001b[0;31mKeyboardInterrupt\u001b[0m: "
     ]
    }
   ],
   "source": [
    "with pm.Model() as univariate_model:\n",
    "    a = pm.Normal('a', 0, 4)\n",
    "    bm = pm.Normal('bm', 0, 0.2)\n",
    "    #bf = pm.Normal('bf', 0, 0.2)\n",
    "    p = pm.math.invlogit(a + bm * grants.genderid )# + bf * grants.gender_f)\n",
    "    y = pm.Binomial('y', p=p, n=grants.applications, observed = grants.awards)\n",
    "    \n",
    "    trace_univariate = pm.sample(6000, target_accept = 0.9, tune = 3000, chains = 4, cores = 4)\n",
    "    summary_univariate = az.summary(trace_univariate, var_names = ['a', 'bm'])\n",
    "    az.plot_forest(trace_univariate, var_names = ['a', 'bm'])\n",
    "    #pm.traceplot(trace_univariate) # Commenting out because this spits a ton of matplotlib warnings on my current environment"
   ]
  },
  {
   "cell_type": "markdown",
   "metadata": {},
   "source": [
    "Now, the model including discipline, in the form of 9 varying intercepts."
   ]
  },
  {
   "cell_type": "code",
   "execution_count": null,
   "metadata": {},
   "outputs": [],
   "source": [
    "with pm.Model() as bivariate_model:\n",
    "    a = pm.Normal('a', 0, 4)\n",
    "    bd = pm.Normal('bd', 0, 0.5, shape = 9)\n",
    "    \n",
    "    bm = pm.Normal('bm', 0, 0.5)\n",
    "    p = pm.math.invlogit(a + bd[grants.discid.values] + bm * grants.genderid)\n",
    "    y = pm.Binomial('y', p=p, n=grants.applications, observed = grants.awards)\n",
    "    \n",
    "    trace_bivariate = pm.sample(6000, target_accept = 0.9, tune = 3000, chains = 4, cores = 4)\n",
    "    summary_bivariate = pm.summary(trace_bivariate, var_names = ['a', 'bm', 'bd'])\n",
    "    pm.forestplot(trace_bivariate, var_names = ['a', 'bd', 'bm'])\n",
    "    #pm.traceplot(trace_bivariate)"
   ]
  },
  {
   "cell_type": "markdown",
   "metadata": {},
   "source": [
    "We see some variation accounted for by discipline, including a few disciplines that are funded at especially high (e.g. physics) or low (e.g. social sciences) rates. (Sorry, social scientists!) Finally, let's compare the posterior distributions of the slopes for each model."
   ]
  },
  {
   "cell_type": "code",
   "execution_count": null,
   "metadata": {},
   "outputs": [],
   "source": [
    "pm.plot_posterior(trace_univariate, var_names = ['bm'])\n",
    "pm.plot_posterior(trace_bivariate, var_names = ['bm'])"
   ]
  },
  {
   "cell_type": "markdown",
   "metadata": {},
   "source": [
    "From the above, we see that in both cases, most of the posterior probability mass lies above 0, suggesting that grants from male applicants are funded at a higher rate. A small amount of this difference is accounted for by discipline, as the model conditioning for discipline has a slightly lower posterior mean and a little more posterior probability mass below 0.\n",
    "\n",
    "If we add an unobserved variable that influences discipline and funding, this analysis no longer works, because discipline is a collider between gender and our unobserved variable, so conditioning on gender opens a backdoor path."
   ]
  },
  {
   "cell_type": "markdown",
   "metadata": {},
   "source": [
    "### Problem 4"
   ]
  },
  {
   "cell_type": "code",
   "execution_count": null,
   "metadata": {},
   "outputs": [],
   "source": [
    "frogs = pd.read_csv('reedfrogs.csv', sep=',')\n",
    "frogs"
   ]
  },
  {
   "cell_type": "markdown",
   "metadata": {},
   "source": [
    "Three models:\n",
    "1. 48 independent tanks\n",
    "2. Hierarchical varying intercepts\n",
    "3. Hierarchical varying intercepts, plus predation"
   ]
  },
  {
   "cell_type": "code",
   "execution_count": null,
   "metadata": {},
   "outputs": [],
   "source": [
    "with pm.Model() as simple_model:\n",
    "    a = pm.Normal('a', 0, 1, shape = 48)\n",
    "    p = pm.math.invlogit(a)\n",
    "    y = pm.Binomial('y', n = frogs.density, p = p, observed = frogs.surv)\n",
    "    \n",
    "    trace_simple = pm.sample(4000, tune = 2000, target_accept = 0.9, chains = 4, cores = 4)\n",
    "    summary_simple = az.summary(trace_simple)\n",
    "    #pm.traceplot(trace_simple)"
   ]
  },
  {
   "cell_type": "code",
   "execution_count": null,
   "metadata": {},
   "outputs": [],
   "source": [
    "with pm.Model() as vi_model:\n",
    "    μ = pm.Normal('μ', 0, 2)\n",
    "    η = pm.Normal('η', 0, 1, shape = 48)\n",
    "    σ = pm.HalfCauchy('σ', 5)\n",
    "    \n",
    "    a = pm.Deterministic('a', μ + η * σ)\n",
    "    p = pm.math.invlogit(a)\n",
    "    y = pm.Binomial('y', n = frogs.density, p = p, observed = frogs.surv)\n",
    "    \n",
    "    trace_vi = pm.sample(4000, tune = 2000, target_accept = 0.9, chains = 4, cores = 4)\n",
    "    summary_vi = az.summary(trace_vi, var_names = ['μ', 'σ', 'a'])\n",
    "    #pm.traceplot(trace_simple)"
   ]
  },
  {
   "cell_type": "code",
   "execution_count": null,
   "metadata": {},
   "outputs": [],
   "source": [
    "with pm.Model() as vi_with_pred:\n",
    "    μ = pm.Normal('μ', 0, 2)\n",
    "    η = pm.Normal('η', 0, 1, shape = 48)\n",
    "    σ = pm.HalfCauchy('σ', 5)\n",
    "    \n",
    "    b = pm.Normal('b', 0, 2)\n",
    "    \n",
    "    a = pm.Deterministic('a', μ + η * σ)\n",
    "    p = pm.math.invlogit(a + b * frogs.pred_id)\n",
    "    y = pm.Binomial('y', n = frogs.density, p = p, observed = frogs.surv)\n",
    "    \n",
    "    trace_vip = pm.sample(4000, tune = 2000, target_accept = 0.9, chains = 4, cores = 4)\n",
    "    summary_vip = .summary(trace_vip, var_names = ['μ', 'σ', 'b', 'a'])\n",
    "    #pm.traceplot(trace_simple)"
   ]
  },
  {
   "cell_type": "code",
   "execution_count": null,
   "metadata": {},
   "outputs": [],
   "source": [
    "pm.compare({'simple':trace_simple, 'vi':trace_vi, 'vi_with_pred':trace_vip})"
   ]
  },
  {
   "cell_type": "code",
   "execution_count": null,
   "metadata": {},
   "outputs": [],
   "source": [
    "summary_vip.iloc[0:3, :]"
   ]
  },
  {
   "cell_type": "code",
   "execution_count": null,
   "metadata": {},
   "outputs": [],
   "source": [
    "summary_vi.iloc[0:2, :]"
   ]
  },
  {
   "cell_type": "markdown",
   "metadata": {},
   "source": [
    "The WAIC shows little difference in predictive accuracy among the three models. The reduced value of $\\sigma$ in the model including predation is because some of the variation between tanks is due to the fact that some tanks have predators and others don't. If this is accounted for by a coefficient in the model, we don't need as high a variance between tanks."
   ]
  },
  {
   "cell_type": "markdown",
   "metadata": {},
   "source": [
    "### Problem 5\n",
    "\n",
    "First, read the data and compute the proportions."
   ]
  },
  {
   "cell_type": "code",
   "execution_count": 13,
   "metadata": {},
   "outputs": [],
   "source": [
    "naes_data = pd.read_csv('naes_grouped.csv', index_col = 0)\n",
    "naes_data['prop'] = naes_data['yes'] / naes_data['n']"
   ]
  },
  {
   "cell_type": "code",
   "execution_count": 14,
   "metadata": {},
   "outputs": [],
   "source": [
    "# Set up data for the GP fit\n",
    "age = naes_data['age'].values[:, None]\n",
    "p = naes_data['prop'].values"
   ]
  },
  {
   "cell_type": "markdown",
   "metadata": {},
   "source": [
    "We set up a GP model using the `Marginal` class from PyMC3 (we don't need anything fancier) using the `marginal_likelihood` method to construct the model and `find_MAP` to fit it. The Matern_{3/2} prior is chosen pretty arbitrarily here."
   ]
  },
  {
   "cell_type": "code",
   "execution_count": 41,
   "metadata": {},
   "outputs": [
    {
     "data": {
      "text/html": [
       "\n",
       "    <div>\n",
       "        <style>\n",
       "            /* Turns off some styling */\n",
       "            progress {\n",
       "                /* gets rid of default border in Firefox and Opera. */\n",
       "                border: none;\n",
       "                /* Needs to be in here for Safari polyfill so background images work as expected. */\n",
       "                background-size: auto;\n",
       "            }\n",
       "            .progress-bar-interrupted, .progress-bar-interrupted::-webkit-progress-bar {\n",
       "                background: #F44336;\n",
       "            }\n",
       "        </style>\n",
       "      <progress value='17' class='' max='17' style='width:300px; height:20px; vertical-align: middle;'></progress>\n",
       "      100.00% [17/17 00:00<00:00 logp = 102.78, ||grad|| = 2.5689]\n",
       "    </div>\n",
       "    "
      ],
      "text/plain": [
       "<IPython.core.display.HTML object>"
      ]
     },
     "metadata": {},
     "output_type": "display_data"
    },
    {
     "name": "stdout",
     "output_type": "stream",
     "text": [
      "\n"
     ]
    },
    {
     "name": "stderr",
     "output_type": "stream",
     "text": [
      "Auto-assigning NUTS sampler...\n",
      "Initializing NUTS using advi...\n"
     ]
    },
    {
     "data": {
      "text/html": [
       "\n",
       "    <div>\n",
       "        <style>\n",
       "            /* Turns off some styling */\n",
       "            progress {\n",
       "                /* gets rid of default border in Firefox and Opera. */\n",
       "                border: none;\n",
       "                /* Needs to be in here for Safari polyfill so background images work as expected. */\n",
       "                background-size: auto;\n",
       "            }\n",
       "            .progress-bar-interrupted, .progress-bar-interrupted::-webkit-progress-bar {\n",
       "                background: #F44336;\n",
       "            }\n",
       "        </style>\n",
       "      <progress value='14915' class='' max='200000' style='width:300px; height:20px; vertical-align: middle;'></progress>\n",
       "      7.46% [14915/200000 00:33<07:01 Average Loss = -98.005]\n",
       "    </div>\n",
       "    "
      ],
      "text/plain": [
       "<IPython.core.display.HTML object>"
      ]
     },
     "metadata": {},
     "output_type": "display_data"
    },
    {
     "name": "stderr",
     "output_type": "stream",
     "text": [
      "Convergence achieved at 15000\n",
      "Interrupted at 14,999 [7%]: Average Loss = -42.014\n",
      "Sequential sampling (2 chains in 1 job)\n",
      "NUTS: [sigma, ls, eta]\n"
     ]
    },
    {
     "data": {
      "text/html": [
       "\n",
       "    <div>\n",
       "        <style>\n",
       "            /* Turns off some styling */\n",
       "            progress {\n",
       "                /* gets rid of default border in Firefox and Opera. */\n",
       "                border: none;\n",
       "                /* Needs to be in here for Safari polyfill so background images work as expected. */\n",
       "                background-size: auto;\n",
       "            }\n",
       "            .progress-bar-interrupted, .progress-bar-interrupted::-webkit-progress-bar {\n",
       "                background: #F44336;\n",
       "            }\n",
       "        </style>\n",
       "      <progress value='1000' class='' max='1000' style='width:300px; height:20px; vertical-align: middle;'></progress>\n",
       "      100.00% [1000/1000 00:25<00:00 Sampling chain 0, 0 divergences]\n",
       "    </div>\n",
       "    "
      ],
      "text/plain": [
       "<IPython.core.display.HTML object>"
      ]
     },
     "metadata": {},
     "output_type": "display_data"
    },
    {
     "data": {
      "text/html": [
       "\n",
       "    <div>\n",
       "        <style>\n",
       "            /* Turns off some styling */\n",
       "            progress {\n",
       "                /* gets rid of default border in Firefox and Opera. */\n",
       "                border: none;\n",
       "                /* Needs to be in here for Safari polyfill so background images work as expected. */\n",
       "                background-size: auto;\n",
       "            }\n",
       "            .progress-bar-interrupted, .progress-bar-interrupted::-webkit-progress-bar {\n",
       "                background: #F44336;\n",
       "            }\n",
       "        </style>\n",
       "      <progress value='1000' class='' max='1000' style='width:300px; height:20px; vertical-align: middle;'></progress>\n",
       "      100.00% [1000/1000 00:21<00:00 Sampling chain 1, 0 divergences]\n",
       "    </div>\n",
       "    "
      ],
      "text/plain": [
       "<IPython.core.display.HTML object>"
      ]
     },
     "metadata": {},
     "output_type": "display_data"
    },
    {
     "name": "stderr",
     "output_type": "stream",
     "text": [
      "Sampling 2 chains for 500 tune and 500 draw iterations (1_000 + 1_000 draws total) took 47 seconds.\n"
     ]
    }
   ],
   "source": [
    "with pm.Model() as gp_model:\n",
    "    eta = pm.Exponential('eta', 1)\n",
    "    ls = pm.Exponential('ls', 0.2)         # somewhat arbitrarily pick a characteristic time scale of 5 years\n",
    "    cov = (eta ** 2) * pm.gp.cov.Matern52(1, ls=ls)\n",
    "    gp = pm.gp.Marginal(cov_func = cov)\n",
    "    \n",
    "    #eta_noise = pm.HalfNormal('eta_noise', 2)\n",
    "    sigma = pm.HalfCauchy('sigma', 1)\n",
    "    #cov_noise = pm.gp.cov.WhiteNoise(sigma_noise)\n",
    "    \n",
    "    # Since the normal noise model and the GP are conjugates, we use `Marginal` with the `.marginal_likelihood` method\n",
    "    y_ = gp.marginal_likelihood(\"y\", X=age, y=p, noise=sigma)\n",
    "\n",
    "    # this line calls an optimizer to find the MAP\n",
    "    map_est = pm.find_MAP(include_transformed = True)\n",
    "    trace = pm.sample(500, chains=2, cores=1, tune=500, init='advi', return_inferencedata=True)"
   ]
  },
  {
   "cell_type": "code",
   "execution_count": 43,
   "metadata": {},
   "outputs": [
    {
     "data": {
      "text/plain": [
       "'gp_graph.pdf'"
      ]
     },
     "execution_count": 43,
     "metadata": {},
     "output_type": "execute_result"
    }
   ],
   "source": [
    "gp_graph = pm.model_to_graphviz(gp_model)\n",
    "gp_graph.render('gp_graph')"
   ]
  },
  {
   "cell_type": "code",
   "execution_count": 37,
   "metadata": {},
   "outputs": [
    {
     "name": "stdout",
     "output_type": "stream",
     "text": [
      "Predicting with gp ...\n",
      "Done\n"
     ]
    }
   ],
   "source": [
    "tnew = np.arange(min(age)-7, max(age)+7, 0.1)[:, None]\n",
    "\n",
    "print(\"Predicting with gp ...\")\n",
    "mu, var = gp.predict(tnew, point=map_est, diag=True)\n",
    "\n",
    "# make dataframe to store fit results\n",
    "fit = pd.DataFrame({\"t\": tnew.flatten(),\n",
    "                    \"mu_total\": mu, #mean_pred,\n",
    "                    \"sd_total\": np.sqrt(var)}\n",
    "                   )\n",
    "print(\"Done\")"
   ]
  },
  {
   "cell_type": "markdown",
   "metadata": {},
   "source": [
    "Below we plot the GP fit with a 2 SD band. We're extending predictions a few years past the bounds of the data."
   ]
  },
  {
   "cell_type": "code",
   "execution_count": 44,
   "metadata": {},
   "outputs": [
    {
     "data": {
      "image/png": "[encoded data removed]",
      "text/plain": [
       "<Figure size 1008x576 with 1 Axes>"
      ]
     },
     "metadata": {
      "needs_background": "light"
     },
     "output_type": "display_data"
    }
   ],
   "source": [
    "plt.figure(figsize=(14,8))\n",
    "plt.title('Proportion vs. age for the NAES data', size=16)\n",
    "plt.xlabel('Age', size=12)\n",
    "plt.ylabel('Proportion of \"yes\" answers', size=12)\n",
    "#plt.plot(tnew, mu, label = 'GP fit, MAP estimate')\n",
    "#plt.fill_between(x=tnew.flatten(), y1=mu - 2*np.sqrt(var), y2 = mu + 2*np.sqrt(var), color = 'lightblue')\n",
    "plt.plot(age, p, 'k.', label = 'Observed proportions')\n",
    "plt.legend()\n",
    "plt.savefig('naes_scatter.png')"
   ]
  },
  {
   "cell_type": "markdown",
   "metadata": {},
   "source": [
    "Below we use the `plot_gp_dist` function to visualize the posterior."
   ]
  },
  {
   "cell_type": "code",
   "execution_count": 36,
   "metadata": {},
   "outputs": [
    {
     "data": {
      "image/png": "[encoded data removed]",
      "text/plain": [
       "<Figure size 1008x504 with 1 Axes>"
      ]
     },
     "metadata": {
      "needs_background": "light"
     },
     "output_type": "display_data"
    }
   ],
   "source": [
    "tnew = np.arange(min(age)-7, max(age)+7, 0.1)[:, None]\n",
    "with gp_model:\n",
    "    #f_pred = gp.conditional('f_pred', Xnew=tnew)\n",
    "    #pred_sample = pm.sample_posterior_predictive(trace, var_names = ['f_pred'])\n",
    "    pass\n",
    "\n",
    "# plot the results\n",
    "fig = plt.figure(figsize=(14, 7))\n",
    "ax = fig.gca()\n",
    "\n",
    "# plot the samples from the gp posterior with samples and shading\n",
    "from pymc3.gp.util import plot_gp_dist\n",
    "\n",
    "plot_gp_dist(ax, pred_sample['f_pred'], tnew)\n",
    "\n",
    "# plot the data and the true latent function\n",
    "ax.plot(age, p, \"ok\", ms=3, label=\"Observed data\")\n",
    "\n",
    "# axis labels and title\n",
    "plt.title(\"Proportion vs. age for the NAES data\", size=16)\n",
    "plt.ylabel('Percentage \"yes\"', size=12)\n",
    "plt.xlabel('Age')\n",
    "plt.legend()\n",
    "plt.savefig('naes_gp_samples.png')"
   ]
  },
  {
   "cell_type": "markdown",
   "metadata": {},
   "source": [
    "### Problem 6\n",
    "\n",
    "Functions below to generate the data and run the filter. Note the same dynamics used in each process."
   ]
  },
  {
   "cell_type": "code",
   "execution_count": null,
   "metadata": {},
   "outputs": [],
   "source": [
    "def get_initial_velocity():\n",
    "    v = sp.stats.norm(400, 20).rvs()\n",
    "    angle = sp.stats.norm(np.pi/2, 0.1).rvs()\n",
    "    vx = v * np.cos(angle)\n",
    "    vy = v * np.sin(angle)\n",
    "    return vx, vy\n",
    "\n",
    "def generate_data(N, dt):\n",
    "    # Set up initial state\n",
    "    x, y = 0., 0.\n",
    "    vx, vy = get_initial_velocity()\n",
    "    state = np.array([x, vx, y, vy])\n",
    "    \n",
    "    # Set up dynamics matrices\n",
    "    A = np.array([[1, dt, 0, 0], [0, 1, 0, 0], [0, 0, 1, dt], [0, 0, 0, 1]])\n",
    "    B = np.array([[0,  0, 0, 0], [0, 0, 0, 0], [0, 0, -4.9 * dt ** 2, 0], [0, 0, 0, -9.8 * dt]])\n",
    "\n",
    "    # Generate states with dynamical system\n",
    "    state_seq = np.zeros((4, N))\n",
    "    state_seq[:,0] = state\n",
    "    for i in range(1, N):\n",
    "        state_seq[:, i] = A @ state + B @ np.array([0, 0, 1, 1])\n",
    "        state = state_seq[:, i]\n",
    "        \n",
    "    # Generate measurements\n",
    "    measurements = np.zeros((4, N - 1))\n",
    "    for i in range(N-1):\n",
    "        measurements[:, i] = state_seq[:, i] + sp.stats.multivariate_normal(mean=np.array([0, 0, 0, 0]), \n",
    "                                                                            cov=np.array([[100, 0, 0, 0], [0, 0.25, 0, 0], [0, 0, 100, 0], [0, 0, 0, 0.25]])).rvs()\n",
    "    return state_seq, measurements\n",
    "    \n",
    "def run_filter(measurements, dt, R):\n",
    "    # Set up dynamics matrices\n",
    "    A = np.array([[1, dt, 0, 0], [0, 1, 0, 0], [0, 0, 1, dt], [0, 0, 0, 1]])\n",
    "    B = np.array([[0,  0, 0, 0], [0, 0, 0, 0], [0, 0, -4.9 * dt ** 2, 0], [0, 0, 0, -9.8 * dt]])\n",
    "    \n",
    "    # Set up initial guess\n",
    "    x, y = 0., 0.\n",
    "    vx, vy = 0, 400\n",
    "    state = np.array([x, vx, y, vy])\n",
    "    \n",
    "    state_seq = np.zeros((4, measurements.shape[1]))\n",
    "    state_seq[:,0] = state\n",
    "    \n",
    "    # Set up covariance matrices. Using something close to 0 for the process noise.\n",
    "    P = np.eye(4)\n",
    "    Q = 1e-4 * np.eye(4)\n",
    "    \n",
    "    for i in range(1, measurements.shape[1]):\n",
    "        # Time update\n",
    "        new_state = A @ state + B @ np.array([0, 0, 1, 1])\n",
    "        P = P + Q\n",
    "        \n",
    "        # Measurement update\n",
    "        K = P @ np.linalg.inv(P + R)\n",
    "        new_est = new_state + K @ (measurements[:, i] - new_state)\n",
    "        P = (np.eye(4) - K) @ P\n",
    "        state_seq[:, i] = new_est\n",
    "        state = new_est\n",
    "        #print(P)\n",
    "    return state_seq"
   ]
  },
  {
   "cell_type": "markdown",
   "metadata": {},
   "source": [
    "Now we generate some data. By experimentation, about 700 time steps is usually a good amount to see what's going on."
   ]
  },
  {
   "cell_type": "code",
   "execution_count": null,
   "metadata": {},
   "outputs": [],
   "source": [
    "states, measurements = generate_data(700, 0.1)\n",
    "plt.figure(figsize=(16, 16))\n",
    "plt.plot(states[0, :], states[2, :], '--', label = 'true path')\n",
    "plt.plot(measurements[0, :], measurements[2, :], 'r.', label = 'measurements')\n",
    "plt.xlabel('x position')\n",
    "plt.ylabel('y position')\n",
    "plt.legend()\n",
    "plt.show()"
   ]
  },
  {
   "cell_type": "markdown",
   "metadata": {},
   "source": [
    "A few choices of measurement noise covariance are below."
   ]
  },
  {
   "cell_type": "code",
   "execution_count": null,
   "metadata": {},
   "outputs": [],
   "source": [
    "R = np.array([[100, 0, 0, 0], [0, 0.25, 0, 0], [0, 0, 100, 0], [0, 0, 0, 0.25]])\n",
    "#R = 1000 * np.eye(4)\n",
    "#R = 0.001 * np.eye(4)"
   ]
  },
  {
   "cell_type": "code",
   "execution_count": null,
   "metadata": {},
   "outputs": [],
   "source": [
    "est = run_filter(measurements, 0.1, R)"
   ]
  },
  {
   "cell_type": "code",
   "execution_count": null,
   "metadata": {},
   "outputs": [],
   "source": [
    "plt.figure(figsize=(16, 16))\n",
    "plt.plot(states[0, :], states[2, :], '--', label = 'true path')\n",
    "plt.plot(measurements[0, :], measurements[2, :], 'r.', label = 'measurements')\n",
    "plt.plot(est[0, :], est[2, :], 'k', label = 'estimated path', alpha = 0.7)\n",
    "plt.xlabel('x position')\n",
    "plt.ylabel('y position')\n",
    "plt.legend()\n",
    "plt.show()"
   ]
  },
  {
   "cell_type": "markdown",
   "metadata": {},
   "source": [
    "As we can see, if we choose the true values for the measurement noise covariance the filter tracks the true trajectory very well. If $R$ is made very small, the estimated path is noisier, as it follows the data more closely. If $R$ is made very large, the estimation is very bad, because we trust initial guesses of the velocity too much. (Large noise variance on the position estimates is less harmful.) Tuning by hand shows $R = 10I$ to be a reasonably effective value if we don't know anything about the measurement covariance *a priori.*"
   ]
  }
 ],
 "metadata": {
  "kernelspec": {
   "display_name": "Python 3",
   "language": "python",
   "name": "python3"
  },
  "language_info": {
   "codemirror_mode": {
    "name": "ipython",
    "version": 3
   },
   "file_extension": ".py",
   "mimetype": "text/x-python",
   "name": "python",
   "nbconvert_exporter": "python",
   "pygments_lexer": "ipython3",
   "version": "3.9.2"
  }
 },
 "nbformat": 4,
 "nbformat_minor": 4
}
