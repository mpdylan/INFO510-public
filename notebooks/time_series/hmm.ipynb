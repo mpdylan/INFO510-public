{
 "cells": [
  {
   "cell_type": "markdown",
   "metadata": {},
   "source": [
    "# Basic hidden Markov models"
   ]
  },
  {
   "cell_type": "code",
   "execution_count": 1,
   "metadata": {},
   "outputs": [],
   "source": [
    "import numpy as np\n",
    "import scipy as sp\n",
    "import pandas as pd\n",
    "import matplotlib.pyplot as plt\n",
    "from scipy import stats\n",
    "from hmm_classes import MultinomialHMM, GaussianHMM"
   ]
  },
  {
   "cell_type": "markdown",
   "metadata": {},
   "source": [
    "### The unfair casino problem\n"
   ]
  },
  {
   "cell_type": "markdown",
   "metadata": {},
   "source": [
    "#### Filtering"
   ]
  },
  {
   "cell_type": "code",
   "execution_count": null,
   "metadata": {},
   "outputs": [],
   "source": [
    "diceA = np.array([[0.95, 0.05], [0.05, 0.95]])\n",
    "diceB = np.array([[1/6, 1/6, 1/6, 1/6, 1/6, 1/6],\n",
    "                  [1/2, 1/10, 1/10, 1/10, 1/10, 1/10]])\n",
    "diceπ = np.array([1., 0.])\n",
    "casino = MultinomialHMM(diceA, diceB, diceπ)\n",
    "T_max = 300"
   ]
  },
  {
   "cell_type": "code",
   "execution_count": null,
   "metadata": {},
   "outputs": [],
   "source": [
    "state, obs = casino.generate(T_max)"
   ]
  },
  {
   "cell_type": "code",
   "execution_count": null,
   "metadata": {},
   "outputs": [],
   "source": [
    "filter_path = np.array([casino.filter(obs[:t]) for t in range(1, T_max)])[:,1]"
   ]
  },
  {
   "cell_type": "code",
   "execution_count": null,
   "metadata": {},
   "outputs": [],
   "source": [
    "plt.figure(figsize=(20, 8))\n",
    "plt.plot(range(T_max), state, '.', color = 'blue', label = 'True state')\n",
    "plt.plot(range(1, T_max), filter_path, label = 'Estimated state (filtering)', color = 'orange')\n",
    "plt.plot([t for t in range(T_max) if obs[t] == 0], [0.02 for t in range(T_max) if obs[t] == 0], '|', markersize=20, color = 'red', label = 'Observed 1s')\n",
    "plt.legend()\n",
    "plt.show()"
   ]
  },
  {
   "cell_type": "markdown",
   "metadata": {},
   "source": [
    "#### Smoothing"
   ]
  },
  {
   "cell_type": "code",
   "execution_count": null,
   "metadata": {},
   "outputs": [],
   "source": [
    "smooth_path = casino.smooth(obs)[1, :]"
   ]
  },
  {
   "cell_type": "code",
   "execution_count": null,
   "metadata": {},
   "outputs": [],
   "source": [
    "plt.figure(figsize=(20, 8))\n",
    "plt.plot(range(T_max), state, '.', color = 'blue', label = 'True state')\n",
    "plt.plot(range(T_max), smooth_path, label = 'Estimated state (smoothing)', color = 'orange')\n",
    "plt.plot([t for t in range(T_max) if obs[t] == 0], [0.02 for t in range(T_max) if obs[t] == 0], '|', markersize=20, color = 'red', label = 'Observed 1s')\n",
    "plt.legend()\n",
    "plt.show()"
   ]
  },
  {
   "cell_type": "markdown",
   "metadata": {},
   "source": [
    "#### Fitting\n",
    "\n",
    "Here, we test the Baum-Welch algorithm for inferring model parameters, and see if it can recover the properties of the unfair casino model well enough to perform accurate filtering and smoothing on future data."
   ]
  },
  {
   "cell_type": "code",
   "execution_count": 34,
   "metadata": {},
   "outputs": [],
   "source": [
    "diceA = np.array([[0.95, 0.05], [0.05, 0.95]])\n",
    "diceB = np.array([[1/6, 1/6, 1/6, 1/6, 1/6, 1/6],\n",
    "                  [1/2, 1/10, 1/10, 1/10, 1/10, 1/10]])\n",
    "diceπ = np.array([1., 0.])\n",
    "casino_true = MultinomialHMM(diceA, diceB, diceπ)\n",
    "T_max = 1200"
   ]
  },
  {
   "cell_type": "code",
   "execution_count": 35,
   "metadata": {},
   "outputs": [],
   "source": [
    "A = MultinomialHMM.init_matrix(3,3)\n",
    "B = MultinomialHMM.init_matrix(3, 6)\n",
    "π = MultinomialHMM.init_matrix(1,3).reshape(3)\n",
    "casino_test = MultinomialHMM(A, B, π)"
   ]
  },
  {
   "cell_type": "code",
   "execution_count": 36,
   "metadata": {},
   "outputs": [
    {
     "data": {
      "text/plain": [
       "array([[0.15740087, 0.17685095, 0.14665522, 0.15071561, 0.15954843,\n",
       "        0.20882891],\n",
       "       [0.14358079, 0.13415744, 0.17579504, 0.19419858, 0.1632302 ,\n",
       "        0.18903795],\n",
       "       [0.17992232, 0.17817037, 0.1835866 , 0.17263625, 0.14742261,\n",
       "        0.13826185]])"
      ]
     },
     "execution_count": 36,
     "metadata": {},
     "output_type": "execute_result"
    }
   ],
   "source": [
    "casino_test.B"
   ]
  },
  {
   "cell_type": "code",
   "execution_count": 38,
   "metadata": {},
   "outputs": [
    {
     "data": {
      "text/plain": [
       "array([0.29663658, 0.39256056, 0.31080287])"
      ]
     },
     "execution_count": 38,
     "metadata": {},
     "output_type": "execute_result"
    }
   ],
   "source": [
    "casino_test.π"
   ]
  },
  {
   "cell_type": "code",
   "execution_count": 39,
   "metadata": {},
   "outputs": [],
   "source": [
    "state, obs = casino_true.generate(T_max)"
   ]
  },
  {
   "cell_type": "code",
   "execution_count": 24,
   "metadata": {},
   "outputs": [
    {
     "data": {
      "text/plain": [
       "array([0, 2, 4, 4, 3, 3, 0, 1, 0, 1, 3, 0, 4, 3, 1, 3, 0, 4, 4, 2, 3, 4,\n",
       "       5, 5, 0, 0, 3, 5, 4, 3, 3, 3, 4, 4, 0, 3, 5, 2, 1, 5, 4, 1, 1, 2,\n",
       "       3, 4, 4, 5, 0, 0, 0, 5, 0, 0, 0, 0, 3, 0, 0, 1])"
      ]
     },
     "execution_count": 24,
     "metadata": {},
     "output_type": "execute_result"
    }
   ],
   "source": [
    "obs[:60]"
   ]
  },
  {
   "cell_type": "code",
   "execution_count": 40,
   "metadata": {},
   "outputs": [
    {
     "name": "stdout",
     "output_type": "stream",
     "text": [
      "Initial log-probability: -2164.014651824275\n",
      "Step 999;    delta log-probability: 0.001148\n",
      "Maximum iterations reached.\n",
      "Final log-probability: -2023.6511365815436\n"
     ]
    }
   ],
   "source": [
    "casino_test.fit(obs, max_iter=1000, verbose = True)"
   ]
  },
  {
   "cell_type": "code",
   "execution_count": 41,
   "metadata": {},
   "outputs": [
    {
     "data": {
      "text/plain": [
       "array([[0.196, 0.149, 0.143, 0.155, 0.2  , 0.157],\n",
       "       [0.508, 0.066, 0.129, 0.107, 0.133, 0.057],\n",
       "       [0.065, 0.444, 0.   , 0.144, 0.   , 0.347]])"
      ]
     },
     "execution_count": 41,
     "metadata": {},
     "output_type": "execute_result"
    }
   ],
   "source": [
    "np.round(casino_test.B, 3)"
   ]
  },
  {
   "cell_type": "code",
   "execution_count": 42,
   "metadata": {},
   "outputs": [
    {
     "data": {
      "text/plain": [
       "array([[0.957, 0.043, 0.   ],\n",
       "       [0.016, 0.921, 0.063],\n",
       "       [0.144, 0.208, 0.647]])"
      ]
     },
     "execution_count": 42,
     "metadata": {},
     "output_type": "execute_result"
    }
   ],
   "source": [
    "np.round(casino_test.A, 3)"
   ]
  },
  {
   "cell_type": "code",
   "execution_count": 32,
   "metadata": {},
   "outputs": [
    {
     "data": {
      "text/plain": [
       "array([3.08557869e-27, 1.00000000e+00])"
      ]
     },
     "execution_count": 32,
     "metadata": {},
     "output_type": "execute_result"
    }
   ],
   "source": [
    "casino_test.π"
   ]
  },
  {
   "cell_type": "code",
   "execution_count": 33,
   "metadata": {},
   "outputs": [
    {
     "data": {
      "image/png": "[encoded data removed]",
      "text/plain": [
       "<Figure size 1440x576 with 1 Axes>"
      ]
     },
     "metadata": {
      "needs_background": "light"
     },
     "output_type": "display_data"
    }
   ],
   "source": [
    "new_states, new_obs = casino_true.generate(200)\n",
    "prediction = casino_test.smooth(new_obs)[1, :]\n",
    "true_prediction = casino_true.smooth(new_obs)[1, :]\n",
    "plt.figure(figsize=(20, 8))\n",
    "plt.plot(range(200), new_states, '.', label = 'True state')\n",
    "plt.plot(range(200), prediction, label = 'Smoothing path from fitted model')\n",
    "plt.plot(range(200), true_prediction, label = 'Smoothing path from true model')\n",
    "plt.legend()\n",
    "plt.show()"
   ]
  },
  {
   "cell_type": "markdown",
   "metadata": {},
   "source": [
    "## Using our HMM to analyze patterns in text"
   ]
  },
  {
   "cell_type": "code",
   "execution_count": 2,
   "metadata": {},
   "outputs": [],
   "source": [
    "chars = ' abcdefghijklmnopqrstuvwxyz'\n",
    "def sample_to_int(string):\n",
    "    return np.array([chars.find(ch) for ch in string])"
   ]
  },
  {
   "cell_type": "code",
   "execution_count": 3,
   "metadata": {},
   "outputs": [
    {
     "data": {
      "text/plain": [
       "array([ 0,  1,  2,  3,  4,  5,  6,  7,  8,  9, 10, 11, 12, 13, 14, 15, 16,\n",
       "       17, 18, 19, 20, 21, 22, 23, 24, 25, 26])"
      ]
     },
     "execution_count": 3,
     "metadata": {},
     "output_type": "execute_result"
    }
   ],
   "source": [
    "sample_to_int(chars)"
   ]
  },
  {
   "cell_type": "code",
   "execution_count": 4,
   "metadata": {},
   "outputs": [
    {
     "data": {
      "text/plain": [
       "26"
      ]
     },
     "execution_count": 4,
     "metadata": {},
     "output_type": "execute_result"
    }
   ],
   "source": [
    "with open('dune_cleaned.txt') as fp:\n",
    "    dune = fp.read()\n",
    "    dune_raw = [ch for ch in dune.lower() if ch in chars]\n",
    "    dune = sample_to_int(dune_raw)\n",
    "len(dune)\n",
    "max(dune)"
   ]
  },
  {
   "cell_type": "code",
   "execution_count": 5,
   "metadata": {},
   "outputs": [
    {
     "data": {
      "text/plain": [
       "'dune frank herbert copyright  book  dune       a beginning is the time for taking the most delicate care that the balances are correct this every sister of the bene gesserit knows to begin your study of the life of muaddib then take care that you first place him in his time born in the th year of the padishah emperor shaddam iv and take the most special care that you locate muaddib in his place the planet arrakis do not be deceived by the fact that he was born on caladan and lived his first fift'"
      ]
     },
     "execution_count": 5,
     "metadata": {},
     "output_type": "execute_result"
    }
   ],
   "source": [
    "''.join(dune_raw)[:500]"
   ]
  },
  {
   "cell_type": "markdown",
   "metadata": {},
   "source": [
    "#### 2 states"
   ]
  },
  {
   "cell_type": "code",
   "execution_count": 19,
   "metadata": {},
   "outputs": [],
   "source": [
    "A = MultinomialHMM.init_matrix(2,2)\n",
    "B = MultinomialHMM.init_matrix(2,27)\n",
    "π = MultinomialHMM.init_matrix(1,2).reshape(2)\n",
    "dune_model = MultinomialHMM(A, B, π)"
   ]
  },
  {
   "cell_type": "code",
   "execution_count": 20,
   "metadata": {},
   "outputs": [
    {
     "name": "stdout",
     "output_type": "stream",
     "text": [
      "Initial log-probability: -3272.9796746392194\n",
      "Step 499;     delta log-probability: 5.1e-05\n",
      "Maximum iterations reached.\n",
      "Final log-probability: -2679.742545358353\n"
     ]
    }
   ],
   "source": [
    "dune_model.fit(dune[1000:2000], max_iter=500, verbose = True)"
   ]
  },
  {
   "cell_type": "code",
   "execution_count": 22,
   "metadata": {},
   "outputs": [
    {
     "data": {
      "text/plain": [
       "array([[0.21219852, 0.78780148],\n",
       "       [0.72706856, 0.27293144]])"
      ]
     },
     "execution_count": 22,
     "metadata": {},
     "output_type": "execute_result"
    }
   ],
   "source": [
    "dune_model.A"
   ]
  },
  {
   "cell_type": "code",
   "execution_count": 21,
   "metadata": {},
   "outputs": [
    {
     "data": {
      "text/html": [
       "<div>\n",
       "<style scoped>\n",
       "    .dataframe tbody tr th:only-of-type {\n",
       "        vertical-align: middle;\n",
       "    }\n",
       "\n",
       "    .dataframe tbody tr th {\n",
       "        vertical-align: top;\n",
       "    }\n",
       "\n",
       "    .dataframe thead th {\n",
       "        text-align: right;\n",
       "    }\n",
       "</style>\n",
       "<table border=\"1\" class=\"dataframe\">\n",
       "  <thead>\n",
       "    <tr style=\"text-align: right;\">\n",
       "      <th></th>\n",
       "      <th>letter</th>\n",
       "      <th>state1</th>\n",
       "      <th>state2</th>\n",
       "    </tr>\n",
       "  </thead>\n",
       "  <tbody>\n",
       "    <tr>\n",
       "      <th>0</th>\n",
       "      <td></td>\n",
       "      <td>0.022</td>\n",
       "      <td>0.354</td>\n",
       "    </tr>\n",
       "    <tr>\n",
       "      <th>1</th>\n",
       "      <td>a</td>\n",
       "      <td>0.000</td>\n",
       "      <td>0.138</td>\n",
       "    </tr>\n",
       "    <tr>\n",
       "      <th>2</th>\n",
       "      <td>b</td>\n",
       "      <td>0.023</td>\n",
       "      <td>0.000</td>\n",
       "    </tr>\n",
       "    <tr>\n",
       "      <th>3</th>\n",
       "      <td>c</td>\n",
       "      <td>0.020</td>\n",
       "      <td>0.003</td>\n",
       "    </tr>\n",
       "    <tr>\n",
       "      <th>4</th>\n",
       "      <td>d</td>\n",
       "      <td>0.098</td>\n",
       "      <td>0.000</td>\n",
       "    </tr>\n",
       "    <tr>\n",
       "      <th>5</th>\n",
       "      <td>e</td>\n",
       "      <td>0.000</td>\n",
       "      <td>0.227</td>\n",
       "    </tr>\n",
       "    <tr>\n",
       "      <th>6</th>\n",
       "      <td>f</td>\n",
       "      <td>0.029</td>\n",
       "      <td>0.000</td>\n",
       "    </tr>\n",
       "    <tr>\n",
       "      <th>7</th>\n",
       "      <td>g</td>\n",
       "      <td>0.024</td>\n",
       "      <td>0.003</td>\n",
       "    </tr>\n",
       "    <tr>\n",
       "      <th>8</th>\n",
       "      <td>h</td>\n",
       "      <td>0.113</td>\n",
       "      <td>0.000</td>\n",
       "    </tr>\n",
       "    <tr>\n",
       "      <th>9</th>\n",
       "      <td>i</td>\n",
       "      <td>0.000</td>\n",
       "      <td>0.085</td>\n",
       "    </tr>\n",
       "    <tr>\n",
       "      <th>10</th>\n",
       "      <td>j</td>\n",
       "      <td>0.004</td>\n",
       "      <td>0.000</td>\n",
       "    </tr>\n",
       "    <tr>\n",
       "      <th>11</th>\n",
       "      <td>k</td>\n",
       "      <td>0.013</td>\n",
       "      <td>0.009</td>\n",
       "    </tr>\n",
       "    <tr>\n",
       "      <th>12</th>\n",
       "      <td>l</td>\n",
       "      <td>0.082</td>\n",
       "      <td>0.011</td>\n",
       "    </tr>\n",
       "    <tr>\n",
       "      <th>13</th>\n",
       "      <td>m</td>\n",
       "      <td>0.038</td>\n",
       "      <td>0.000</td>\n",
       "    </tr>\n",
       "    <tr>\n",
       "      <th>14</th>\n",
       "      <td>n</td>\n",
       "      <td>0.096</td>\n",
       "      <td>0.000</td>\n",
       "    </tr>\n",
       "    <tr>\n",
       "      <th>15</th>\n",
       "      <td>o</td>\n",
       "      <td>0.000</td>\n",
       "      <td>0.108</td>\n",
       "    </tr>\n",
       "    <tr>\n",
       "      <th>16</th>\n",
       "      <td>p</td>\n",
       "      <td>0.023</td>\n",
       "      <td>0.000</td>\n",
       "    </tr>\n",
       "    <tr>\n",
       "      <th>17</th>\n",
       "      <td>q</td>\n",
       "      <td>0.000</td>\n",
       "      <td>0.000</td>\n",
       "    </tr>\n",
       "    <tr>\n",
       "      <th>18</th>\n",
       "      <td>r</td>\n",
       "      <td>0.083</td>\n",
       "      <td>0.000</td>\n",
       "    </tr>\n",
       "    <tr>\n",
       "      <th>19</th>\n",
       "      <td>s</td>\n",
       "      <td>0.129</td>\n",
       "      <td>0.000</td>\n",
       "    </tr>\n",
       "    <tr>\n",
       "      <th>20</th>\n",
       "      <td>t</td>\n",
       "      <td>0.088</td>\n",
       "      <td>0.033</td>\n",
       "    </tr>\n",
       "    <tr>\n",
       "      <th>21</th>\n",
       "      <td>u</td>\n",
       "      <td>0.000</td>\n",
       "      <td>0.031</td>\n",
       "    </tr>\n",
       "    <tr>\n",
       "      <th>22</th>\n",
       "      <td>v</td>\n",
       "      <td>0.013</td>\n",
       "      <td>0.000</td>\n",
       "    </tr>\n",
       "    <tr>\n",
       "      <th>23</th>\n",
       "      <td>w</td>\n",
       "      <td>0.058</td>\n",
       "      <td>0.000</td>\n",
       "    </tr>\n",
       "    <tr>\n",
       "      <th>24</th>\n",
       "      <td>x</td>\n",
       "      <td>0.000</td>\n",
       "      <td>0.000</td>\n",
       "    </tr>\n",
       "    <tr>\n",
       "      <th>25</th>\n",
       "      <td>y</td>\n",
       "      <td>0.038</td>\n",
       "      <td>0.000</td>\n",
       "    </tr>\n",
       "    <tr>\n",
       "      <th>26</th>\n",
       "      <td>z</td>\n",
       "      <td>0.006</td>\n",
       "      <td>0.000</td>\n",
       "    </tr>\n",
       "  </tbody>\n",
       "</table>\n",
       "</div>"
      ],
      "text/plain": [
       "   letter  state1  state2\n",
       "0           0.022   0.354\n",
       "1       a   0.000   0.138\n",
       "2       b   0.023   0.000\n",
       "3       c   0.020   0.003\n",
       "4       d   0.098   0.000\n",
       "5       e   0.000   0.227\n",
       "6       f   0.029   0.000\n",
       "7       g   0.024   0.003\n",
       "8       h   0.113   0.000\n",
       "9       i   0.000   0.085\n",
       "10      j   0.004   0.000\n",
       "11      k   0.013   0.009\n",
       "12      l   0.082   0.011\n",
       "13      m   0.038   0.000\n",
       "14      n   0.096   0.000\n",
       "15      o   0.000   0.108\n",
       "16      p   0.023   0.000\n",
       "17      q   0.000   0.000\n",
       "18      r   0.083   0.000\n",
       "19      s   0.129   0.000\n",
       "20      t   0.088   0.033\n",
       "21      u   0.000   0.031\n",
       "22      v   0.013   0.000\n",
       "23      w   0.058   0.000\n",
       "24      x   0.000   0.000\n",
       "25      y   0.038   0.000\n",
       "26      z   0.006   0.000"
      ]
     },
     "execution_count": 21,
     "metadata": {},
     "output_type": "execute_result"
    }
   ],
   "source": [
    "pd.DataFrame(data={'letter':list(chars),\n",
    "                   'state1':np.round(dune_model.B[0,:], 3),\n",
    "                   'state2':np.round(dune_model.B[1,:], 3)})"
   ]
  },
  {
   "cell_type": "markdown",
   "metadata": {},
   "source": [
    "#### 3 states"
   ]
  },
  {
   "cell_type": "code",
   "execution_count": null,
   "metadata": {},
   "outputs": [],
   "source": [
    "A = MultinomialHMM.init_matrix(3,3)\n",
    "B = MultinomialHMM.init_matrix(3,27)\n",
    "π = MultinomialHMM.init_matrix(1,3).reshape(3)\n",
    "dune_model = MultinomialHMM(A, B, π)"
   ]
  },
  {
   "cell_type": "code",
   "execution_count": null,
   "metadata": {},
   "outputs": [],
   "source": [
    "dune_model.fit(dune[0:5000], max_iter=500, verbose = True)"
   ]
  },
  {
   "cell_type": "code",
   "execution_count": null,
   "metadata": {},
   "outputs": [],
   "source": [
    "dune_model.A"
   ]
  },
  {
   "cell_type": "code",
   "execution_count": null,
   "metadata": {},
   "outputs": [],
   "source": [
    "pd.DataFrame(data={'letter':list(chars),\n",
    "                   'state1':np.round(dune_model.B[0,:], 3),\n",
    "                   'state2':np.round(dune_model.B[1,:], 3),\n",
    "                   'state3':np.round(dune_model.B[2,:], 3)})"
   ]
  },
  {
   "cell_type": "markdown",
   "metadata": {},
   "source": [
    "## Gaussian emissions"
   ]
  },
  {
   "cell_type": "markdown",
   "metadata": {},
   "source": [
    "Below we test a 2-state HMM. The emission distributions are chosen to overlap a fair amount so that the Markov process plays a strong role in estimating which state produced a given observation."
   ]
  },
  {
   "cell_type": "code",
   "execution_count": null,
   "metadata": {},
   "outputs": [],
   "source": [
    "# Set model parameters\n",
    "A = np.array([[0.9, 0.1], [0.05, 0.95]])\n",
    "means = [np.array([1.0, 2.0]), np.array([2.0, 1.0])]\n",
    "covs = [np.eye(2), np.eye(2)]\n",
    "π = np.array([0.5, 0.5])"
   ]
  },
  {
   "cell_type": "code",
   "execution_count": null,
   "metadata": {},
   "outputs": [],
   "source": [
    "# Generate data\n",
    "gmodel = GaussianHMM(A, means, covs, π)\n",
    "states, obs = gmodel.generate(500)"
   ]
  },
  {
   "cell_type": "code",
   "execution_count": null,
   "metadata": {},
   "outputs": [],
   "source": [
    "# What do the observed data look like?\n",
    "plt.figure(figsize=(9, 9))\n",
    "plt.plot(obs[:,0], obs[:,1], '.')\n",
    "plt.show()"
   ]
  },
  {
   "cell_type": "code",
   "execution_count": null,
   "metadata": {},
   "outputs": [],
   "source": [
    "# What do the observed data look like?\n",
    "plt.figure(figsize=(9, 9))\n",
    "plt.plot(obs[states==0,0], obs[states==0,1], '.', label = 'State 0')\n",
    "plt.plot(obs[states==1,0], obs[states==1,1], '.', label = 'State 1')\n",
    "plt.legend()\n",
    "plt.show()"
   ]
  },
  {
   "cell_type": "code",
   "execution_count": null,
   "metadata": {},
   "outputs": [],
   "source": [
    "smooth_path = gmodel.smooth(obs)"
   ]
  },
  {
   "cell_type": "code",
   "execution_count": null,
   "metadata": {},
   "outputs": [],
   "source": [
    "plt.figure(figsize=(20, 8))\n",
    "plt.plot(range(len(states)), states, '.', color = 'blue', label = 'True state')\n",
    "plt.plot(range(len(states)), smooth_path[1, :], label = 'Estimated state (smoothing)', color = 'orange')\n",
    "plt.legend()\n",
    "plt.show()"
   ]
  },
  {
   "cell_type": "code",
   "execution_count": null,
   "metadata": {},
   "outputs": [],
   "source": []
  }
 ],
 "metadata": {
  "kernelspec": {
   "display_name": "Python 3",
   "language": "python",
   "name": "python3"
  },
  "language_info": {
   "codemirror_mode": {
    "name": "ipython",
    "version": 3
   },
   "file_extension": ".py",
   "mimetype": "text/x-python",
   "name": "python",
   "nbconvert_exporter": "python",
   "pygments_lexer": "ipython3",
   "version": "3.9.5"
  }
 },
 "nbformat": 4,
 "nbformat_minor": 4
}
